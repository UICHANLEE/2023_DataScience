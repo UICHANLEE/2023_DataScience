{
  "nbformat": 4,
  "nbformat_minor": 0,
  "metadata": {
    "colab": {
      "provenance": [],
      "authorship_tag": "ABX9TyPRAW08KnB91vyVTaezJYsi",
      "include_colab_link": true
    },
    "kernelspec": {
      "name": "python3",
      "display_name": "Python 3"
    },
    "language_info": {
      "name": "python"
    }
  },
  "cells": [
    {
      "cell_type": "markdown",
      "metadata": {
        "id": "view-in-github",
        "colab_type": "text"
      },
      "source": [
        "<a href=\"https://colab.research.google.com/github/UICHANLEE/2023_DataScience/blob/ML/%5B%EB%B6%84%EB%A5%98%5D_%EC%9A%B0%EB%A6%AC%EC%95%A0%EB%8A%94_%EB%A8%B8%EB%A6%AC%EB%8A%94_%EC%A2%8B%EC%9D%80%EB%8D%B0_(1).ipynb\" target=\"_parent\"><img src=\"https://colab.research.google.com/assets/colab-badge.svg\" alt=\"Open In Colab\"/></a>"
      ]
    },
    {
      "cell_type": "code",
      "execution_count": 1,
      "metadata": {
        "id": "_lKMjGGDQZ6A"
      },
      "outputs": [],
      "source": [
        "import os"
      ]
    },
    {
      "cell_type": "code",
      "source": [
        "os.environ['KAGGLE_USERNAME'] = 'uichanlee'\n",
        "os.environ['KAGGLE_KEY'] = '8c543ed4142c36dea50c6e2cd6f4ea8e'"
      ],
      "metadata": {
        "id": "UPQzV2QpQgeM"
      },
      "execution_count": 2,
      "outputs": []
    },
    {
      "cell_type": "markdown",
      "source": [
        "# 문제 2 데이터 다운로드 및 압축해제하기"
      ],
      "metadata": {
        "id": "BpeyqdOzQno0"
      }
    },
    {
      "cell_type": "code",
      "source": [
        "!kaggle datasets download -d aljarah/xAPI-Edu-Data\n",
        "!unzip '*.zip'"
      ],
      "metadata": {
        "colab": {
          "base_uri": "https://localhost:8080/"
        },
        "id": "2IaQ98TJQuP4",
        "outputId": "35a4c696-2552-4f2a-d754-5d89579df19d"
      },
      "execution_count": 3,
      "outputs": [
        {
          "output_type": "stream",
          "name": "stdout",
          "text": [
            "Downloading xAPI-Edu-Data.zip to /content\n",
            "\r  0% 0.00/5.54k [00:00<?, ?B/s]\n",
            "\r100% 5.54k/5.54k [00:00<00:00, 4.71MB/s]\n",
            "Archive:  xAPI-Edu-Data.zip\n",
            "  inflating: xAPI-Edu-Data.csv       \n"
          ]
        }
      ]
    },
    {
      "cell_type": "code",
      "source": [
        "import pandas as pd\n",
        "\n",
        "df = pd.read_csv('xAPI-Edu-Data.csv')"
      ],
      "metadata": {
        "id": "-rJTBp99RAmG"
      },
      "execution_count": 58,
      "outputs": []
    },
    {
      "cell_type": "code",
      "source": [
        "df['SectionID'].value_counts()"
      ],
      "metadata": {
        "colab": {
          "base_uri": "https://localhost:8080/"
        },
        "id": "283ZGrVxRYmv",
        "outputId": "aa25a530-4e5c-4af0-981e-0328747891d8"
      },
      "execution_count": 127,
      "outputs": [
        {
          "output_type": "execute_result",
          "data": {
            "text/plain": [
              "A    283\n",
              "B    167\n",
              "C     30\n",
              "Name: SectionID, dtype: int64"
            ]
          },
          "metadata": {},
          "execution_count": 127
        }
      ]
    },
    {
      "cell_type": "markdown",
      "source": [
        "- gender: 학생의 성별 (M: 남성, F: 여성)  \n",
        "\n",
        "- NationaliTy: 학생의 국적\n",
        "\n",
        "- PlaceofBirth: 학생이 태어난 국가\n",
        "\n",
        "- StageID: 학생이 다니는 학교 (초,중,고)\n",
        "\n",
        "- GradeID: 학생이 속한 성적 등급\n",
        "\n",
        "- SectionID: 학생이 속한 반 이름\n",
        "\n",
        "- Topic: 수강한 과목\n",
        "\n",
        "- Semester: 수강한 학기 (1학기: S/2학기: F)\n",
        "\n",
        "- Relation: 주 보호자와 학생의 관계\n",
        "\n",
        "- raisedhands: 학생이 수업 중 손을 든 횟수\n",
        "\n",
        "- VisITedResources: 강좌 커리큘럼을 확인한 횟수\n",
        "\n",
        "- Viewing announcements : 학생이 과목 공지를 확인한 횟수\n",
        "\n",
        "- Discussion: 학생이 토론 그룹에 참여한 횟수\n",
        "\n",
        "- ParentAnsweringSurvey: 부모가 학교 설문에 참여했는지 여부\n",
        "\n",
        "- ParentschoolSatisfaction: 부모가 학교에 만족했는지 여부\n",
        "\n",
        "- StudentAbscenceDays: 학생의 결석 횟수 (7회 이상/미만)\n",
        "\n",
        "- Class: 학생의 성적 등급 (L: 낮음, M: 보통, H: 높음)\n"
      ],
      "metadata": {
        "id": "qKlgYPBWSGSw"
      }
    },
    {
      "cell_type": "code",
      "source": [
        "df.info()\n"
      ],
      "metadata": {
        "colab": {
          "base_uri": "https://localhost:8080/"
        },
        "id": "eJecQWzDRcbU",
        "outputId": "01d6310a-c535-4458-9dbf-106d0cce9ee9"
      },
      "execution_count": 60,
      "outputs": [
        {
          "output_type": "stream",
          "name": "stdout",
          "text": [
            "<class 'pandas.core.frame.DataFrame'>\n",
            "RangeIndex: 480 entries, 0 to 479\n",
            "Data columns (total 17 columns):\n",
            " #   Column                    Non-Null Count  Dtype \n",
            "---  ------                    --------------  ----- \n",
            " 0   gender                    480 non-null    object\n",
            " 1   NationalITy               480 non-null    object\n",
            " 2   PlaceofBirth              480 non-null    object\n",
            " 3   StageID                   480 non-null    object\n",
            " 4   GradeID                   480 non-null    object\n",
            " 5   SectionID                 480 non-null    object\n",
            " 6   Topic                     480 non-null    object\n",
            " 7   Semester                  480 non-null    object\n",
            " 8   Relation                  480 non-null    object\n",
            " 9   raisedhands               480 non-null    int64 \n",
            " 10  VisITedResources          480 non-null    int64 \n",
            " 11  AnnouncementsView         480 non-null    int64 \n",
            " 12  Discussion                480 non-null    int64 \n",
            " 13  ParentAnsweringSurvey     480 non-null    object\n",
            " 14  ParentschoolSatisfaction  480 non-null    object\n",
            " 15  StudentAbsenceDays        480 non-null    object\n",
            " 16  Class                     480 non-null    object\n",
            "dtypes: int64(4), object(13)\n",
            "memory usage: 63.9+ KB\n"
          ]
        }
      ]
    },
    {
      "cell_type": "code",
      "source": [
        "df.drop('PlaceofBirth', axis = 1, inplace = True)\n",
        "df.drop('StageID', axis = 1, inplace = True)"
      ],
      "metadata": {
        "id": "xSTS1798RgMz"
      },
      "execution_count": 130,
      "outputs": []
    },
    {
      "cell_type": "code",
      "source": [
        "df['ParentAnsweringSurvey'].replace({'Yes':1, 'No':0}, inplace = True)"
      ],
      "metadata": {
        "id": "RBtZfO7dUFh1"
      },
      "execution_count": 131,
      "outputs": []
    },
    {
      "cell_type": "code",
      "source": [
        "df['ParentschoolSatisfaction'].replace({'Good': 1, 'Bad':0}, inplace = True)"
      ],
      "metadata": {
        "id": "JGwt_UP1gKT0"
      },
      "execution_count": 132,
      "outputs": []
    },
    {
      "cell_type": "code",
      "source": [
        "df['StudentAbsenceDays'].replace({'Under-7': 1, 'Above-7': 0}, inplace = True)"
      ],
      "metadata": {
        "id": "t-t_SC6_hO5M"
      },
      "execution_count": 133,
      "outputs": []
    },
    {
      "cell_type": "code",
      "source": [
        "import seaborn as sns"
      ],
      "metadata": {
        "id": "W6a7bzCtUF-G"
      },
      "execution_count": 134,
      "outputs": []
    },
    {
      "cell_type": "code",
      "source": [
        "df"
      ],
      "metadata": {
        "colab": {
          "base_uri": "https://localhost:8080/",
          "height": 488
        },
        "id": "DcrdnYPKZM3X",
        "outputId": "47ec080f-f6eb-466b-e01c-893d8a7c4a70"
      },
      "execution_count": 135,
      "outputs": [
        {
          "output_type": "execute_result",
          "data": {
            "text/plain": [
              "    gender NationalITy GradeID SectionID      Topic Semester Relation  \\\n",
              "0        M          KW    G-04         A         IT        F   Father   \n",
              "1        M          KW    G-04         A         IT        F   Father   \n",
              "2        M          KW    G-04         A         IT        F   Father   \n",
              "3        M          KW    G-04         A         IT        F   Father   \n",
              "4        M          KW    G-04         A         IT        F   Father   \n",
              "..     ...         ...     ...       ...        ...      ...      ...   \n",
              "475      F      Jordan    G-08         A  Chemistry        S   Father   \n",
              "476      F      Jordan    G-08         A    Geology        F   Father   \n",
              "477      F      Jordan    G-08         A    Geology        S   Father   \n",
              "478      F      Jordan    G-08         A    History        F   Father   \n",
              "479      F      Jordan    G-08         A    History        S   Father   \n",
              "\n",
              "     raisedhands  VisITedResources  AnnouncementsView  Discussion  \\\n",
              "0             15                16                  2          20   \n",
              "1             20                20                  3          25   \n",
              "2             10                 7                  0          30   \n",
              "3             30                25                  5          35   \n",
              "4             40                50                 12          50   \n",
              "..           ...               ...                ...         ...   \n",
              "475            5                 4                  5           8   \n",
              "476           50                77                 14          28   \n",
              "477           55                74                 25          29   \n",
              "478           30                17                 14          57   \n",
              "479           35                14                 23          62   \n",
              "\n",
              "     ParentAnsweringSurvey  ParentschoolSatisfaction  StudentAbsenceDays Class  \n",
              "0                        1                         1                   1     M  \n",
              "1                        1                         1                   1     M  \n",
              "2                        0                         0                   0     L  \n",
              "3                        0                         0                   0     L  \n",
              "4                        0                         0                   0     M  \n",
              "..                     ...                       ...                 ...   ...  \n",
              "475                      0                         0                   0     L  \n",
              "476                      0                         0                   1     M  \n",
              "477                      0                         0                   1     M  \n",
              "478                      0                         0                   0     L  \n",
              "479                      0                         0                   0     L  \n",
              "\n",
              "[480 rows x 15 columns]"
            ],
            "text/html": [
              "\n",
              "  <div id=\"df-a8aa8acc-4a3a-40df-9721-90db4a1da81b\">\n",
              "    <div class=\"colab-df-container\">\n",
              "      <div>\n",
              "<style scoped>\n",
              "    .dataframe tbody tr th:only-of-type {\n",
              "        vertical-align: middle;\n",
              "    }\n",
              "\n",
              "    .dataframe tbody tr th {\n",
              "        vertical-align: top;\n",
              "    }\n",
              "\n",
              "    .dataframe thead th {\n",
              "        text-align: right;\n",
              "    }\n",
              "</style>\n",
              "<table border=\"1\" class=\"dataframe\">\n",
              "  <thead>\n",
              "    <tr style=\"text-align: right;\">\n",
              "      <th></th>\n",
              "      <th>gender</th>\n",
              "      <th>NationalITy</th>\n",
              "      <th>GradeID</th>\n",
              "      <th>SectionID</th>\n",
              "      <th>Topic</th>\n",
              "      <th>Semester</th>\n",
              "      <th>Relation</th>\n",
              "      <th>raisedhands</th>\n",
              "      <th>VisITedResources</th>\n",
              "      <th>AnnouncementsView</th>\n",
              "      <th>Discussion</th>\n",
              "      <th>ParentAnsweringSurvey</th>\n",
              "      <th>ParentschoolSatisfaction</th>\n",
              "      <th>StudentAbsenceDays</th>\n",
              "      <th>Class</th>\n",
              "    </tr>\n",
              "  </thead>\n",
              "  <tbody>\n",
              "    <tr>\n",
              "      <th>0</th>\n",
              "      <td>M</td>\n",
              "      <td>KW</td>\n",
              "      <td>G-04</td>\n",
              "      <td>A</td>\n",
              "      <td>IT</td>\n",
              "      <td>F</td>\n",
              "      <td>Father</td>\n",
              "      <td>15</td>\n",
              "      <td>16</td>\n",
              "      <td>2</td>\n",
              "      <td>20</td>\n",
              "      <td>1</td>\n",
              "      <td>1</td>\n",
              "      <td>1</td>\n",
              "      <td>M</td>\n",
              "    </tr>\n",
              "    <tr>\n",
              "      <th>1</th>\n",
              "      <td>M</td>\n",
              "      <td>KW</td>\n",
              "      <td>G-04</td>\n",
              "      <td>A</td>\n",
              "      <td>IT</td>\n",
              "      <td>F</td>\n",
              "      <td>Father</td>\n",
              "      <td>20</td>\n",
              "      <td>20</td>\n",
              "      <td>3</td>\n",
              "      <td>25</td>\n",
              "      <td>1</td>\n",
              "      <td>1</td>\n",
              "      <td>1</td>\n",
              "      <td>M</td>\n",
              "    </tr>\n",
              "    <tr>\n",
              "      <th>2</th>\n",
              "      <td>M</td>\n",
              "      <td>KW</td>\n",
              "      <td>G-04</td>\n",
              "      <td>A</td>\n",
              "      <td>IT</td>\n",
              "      <td>F</td>\n",
              "      <td>Father</td>\n",
              "      <td>10</td>\n",
              "      <td>7</td>\n",
              "      <td>0</td>\n",
              "      <td>30</td>\n",
              "      <td>0</td>\n",
              "      <td>0</td>\n",
              "      <td>0</td>\n",
              "      <td>L</td>\n",
              "    </tr>\n",
              "    <tr>\n",
              "      <th>3</th>\n",
              "      <td>M</td>\n",
              "      <td>KW</td>\n",
              "      <td>G-04</td>\n",
              "      <td>A</td>\n",
              "      <td>IT</td>\n",
              "      <td>F</td>\n",
              "      <td>Father</td>\n",
              "      <td>30</td>\n",
              "      <td>25</td>\n",
              "      <td>5</td>\n",
              "      <td>35</td>\n",
              "      <td>0</td>\n",
              "      <td>0</td>\n",
              "      <td>0</td>\n",
              "      <td>L</td>\n",
              "    </tr>\n",
              "    <tr>\n",
              "      <th>4</th>\n",
              "      <td>M</td>\n",
              "      <td>KW</td>\n",
              "      <td>G-04</td>\n",
              "      <td>A</td>\n",
              "      <td>IT</td>\n",
              "      <td>F</td>\n",
              "      <td>Father</td>\n",
              "      <td>40</td>\n",
              "      <td>50</td>\n",
              "      <td>12</td>\n",
              "      <td>50</td>\n",
              "      <td>0</td>\n",
              "      <td>0</td>\n",
              "      <td>0</td>\n",
              "      <td>M</td>\n",
              "    </tr>\n",
              "    <tr>\n",
              "      <th>...</th>\n",
              "      <td>...</td>\n",
              "      <td>...</td>\n",
              "      <td>...</td>\n",
              "      <td>...</td>\n",
              "      <td>...</td>\n",
              "      <td>...</td>\n",
              "      <td>...</td>\n",
              "      <td>...</td>\n",
              "      <td>...</td>\n",
              "      <td>...</td>\n",
              "      <td>...</td>\n",
              "      <td>...</td>\n",
              "      <td>...</td>\n",
              "      <td>...</td>\n",
              "      <td>...</td>\n",
              "    </tr>\n",
              "    <tr>\n",
              "      <th>475</th>\n",
              "      <td>F</td>\n",
              "      <td>Jordan</td>\n",
              "      <td>G-08</td>\n",
              "      <td>A</td>\n",
              "      <td>Chemistry</td>\n",
              "      <td>S</td>\n",
              "      <td>Father</td>\n",
              "      <td>5</td>\n",
              "      <td>4</td>\n",
              "      <td>5</td>\n",
              "      <td>8</td>\n",
              "      <td>0</td>\n",
              "      <td>0</td>\n",
              "      <td>0</td>\n",
              "      <td>L</td>\n",
              "    </tr>\n",
              "    <tr>\n",
              "      <th>476</th>\n",
              "      <td>F</td>\n",
              "      <td>Jordan</td>\n",
              "      <td>G-08</td>\n",
              "      <td>A</td>\n",
              "      <td>Geology</td>\n",
              "      <td>F</td>\n",
              "      <td>Father</td>\n",
              "      <td>50</td>\n",
              "      <td>77</td>\n",
              "      <td>14</td>\n",
              "      <td>28</td>\n",
              "      <td>0</td>\n",
              "      <td>0</td>\n",
              "      <td>1</td>\n",
              "      <td>M</td>\n",
              "    </tr>\n",
              "    <tr>\n",
              "      <th>477</th>\n",
              "      <td>F</td>\n",
              "      <td>Jordan</td>\n",
              "      <td>G-08</td>\n",
              "      <td>A</td>\n",
              "      <td>Geology</td>\n",
              "      <td>S</td>\n",
              "      <td>Father</td>\n",
              "      <td>55</td>\n",
              "      <td>74</td>\n",
              "      <td>25</td>\n",
              "      <td>29</td>\n",
              "      <td>0</td>\n",
              "      <td>0</td>\n",
              "      <td>1</td>\n",
              "      <td>M</td>\n",
              "    </tr>\n",
              "    <tr>\n",
              "      <th>478</th>\n",
              "      <td>F</td>\n",
              "      <td>Jordan</td>\n",
              "      <td>G-08</td>\n",
              "      <td>A</td>\n",
              "      <td>History</td>\n",
              "      <td>F</td>\n",
              "      <td>Father</td>\n",
              "      <td>30</td>\n",
              "      <td>17</td>\n",
              "      <td>14</td>\n",
              "      <td>57</td>\n",
              "      <td>0</td>\n",
              "      <td>0</td>\n",
              "      <td>0</td>\n",
              "      <td>L</td>\n",
              "    </tr>\n",
              "    <tr>\n",
              "      <th>479</th>\n",
              "      <td>F</td>\n",
              "      <td>Jordan</td>\n",
              "      <td>G-08</td>\n",
              "      <td>A</td>\n",
              "      <td>History</td>\n",
              "      <td>S</td>\n",
              "      <td>Father</td>\n",
              "      <td>35</td>\n",
              "      <td>14</td>\n",
              "      <td>23</td>\n",
              "      <td>62</td>\n",
              "      <td>0</td>\n",
              "      <td>0</td>\n",
              "      <td>0</td>\n",
              "      <td>L</td>\n",
              "    </tr>\n",
              "  </tbody>\n",
              "</table>\n",
              "<p>480 rows × 15 columns</p>\n",
              "</div>\n",
              "      <button class=\"colab-df-convert\" onclick=\"convertToInteractive('df-a8aa8acc-4a3a-40df-9721-90db4a1da81b')\"\n",
              "              title=\"Convert this dataframe to an interactive table.\"\n",
              "              style=\"display:none;\">\n",
              "        \n",
              "  <svg xmlns=\"http://www.w3.org/2000/svg\" height=\"24px\"viewBox=\"0 0 24 24\"\n",
              "       width=\"24px\">\n",
              "    <path d=\"M0 0h24v24H0V0z\" fill=\"none\"/>\n",
              "    <path d=\"M18.56 5.44l.94 2.06.94-2.06 2.06-.94-2.06-.94-.94-2.06-.94 2.06-2.06.94zm-11 1L8.5 8.5l.94-2.06 2.06-.94-2.06-.94L8.5 2.5l-.94 2.06-2.06.94zm10 10l.94 2.06.94-2.06 2.06-.94-2.06-.94-.94-2.06-.94 2.06-2.06.94z\"/><path d=\"M17.41 7.96l-1.37-1.37c-.4-.4-.92-.59-1.43-.59-.52 0-1.04.2-1.43.59L10.3 9.45l-7.72 7.72c-.78.78-.78 2.05 0 2.83L4 21.41c.39.39.9.59 1.41.59.51 0 1.02-.2 1.41-.59l7.78-7.78 2.81-2.81c.8-.78.8-2.07 0-2.86zM5.41 20L4 18.59l7.72-7.72 1.47 1.35L5.41 20z\"/>\n",
              "  </svg>\n",
              "      </button>\n",
              "      \n",
              "  <style>\n",
              "    .colab-df-container {\n",
              "      display:flex;\n",
              "      flex-wrap:wrap;\n",
              "      gap: 12px;\n",
              "    }\n",
              "\n",
              "    .colab-df-convert {\n",
              "      background-color: #E8F0FE;\n",
              "      border: none;\n",
              "      border-radius: 50%;\n",
              "      cursor: pointer;\n",
              "      display: none;\n",
              "      fill: #1967D2;\n",
              "      height: 32px;\n",
              "      padding: 0 0 0 0;\n",
              "      width: 32px;\n",
              "    }\n",
              "\n",
              "    .colab-df-convert:hover {\n",
              "      background-color: #E2EBFA;\n",
              "      box-shadow: 0px 1px 2px rgba(60, 64, 67, 0.3), 0px 1px 3px 1px rgba(60, 64, 67, 0.15);\n",
              "      fill: #174EA6;\n",
              "    }\n",
              "\n",
              "    [theme=dark] .colab-df-convert {\n",
              "      background-color: #3B4455;\n",
              "      fill: #D2E3FC;\n",
              "    }\n",
              "\n",
              "    [theme=dark] .colab-df-convert:hover {\n",
              "      background-color: #434B5C;\n",
              "      box-shadow: 0px 1px 3px 1px rgba(0, 0, 0, 0.15);\n",
              "      filter: drop-shadow(0px 1px 2px rgba(0, 0, 0, 0.3));\n",
              "      fill: #FFFFFF;\n",
              "    }\n",
              "  </style>\n",
              "\n",
              "      <script>\n",
              "        const buttonEl =\n",
              "          document.querySelector('#df-a8aa8acc-4a3a-40df-9721-90db4a1da81b button.colab-df-convert');\n",
              "        buttonEl.style.display =\n",
              "          google.colab.kernel.accessAllowed ? 'block' : 'none';\n",
              "\n",
              "        async function convertToInteractive(key) {\n",
              "          const element = document.querySelector('#df-a8aa8acc-4a3a-40df-9721-90db4a1da81b');\n",
              "          const dataTable =\n",
              "            await google.colab.kernel.invokeFunction('convertToInteractive',\n",
              "                                                     [key], {});\n",
              "          if (!dataTable) return;\n",
              "\n",
              "          const docLinkHtml = 'Like what you see? Visit the ' +\n",
              "            '<a target=\"_blank\" href=https://colab.research.google.com/notebooks/data_table.ipynb>data table notebook</a>'\n",
              "            + ' to learn more about interactive tables.';\n",
              "          element.innerHTML = '';\n",
              "          dataTable['output_type'] = 'display_data';\n",
              "          await google.colab.output.renderOutput(dataTable, element);\n",
              "          const docLink = document.createElement('div');\n",
              "          docLink.innerHTML = docLinkHtml;\n",
              "          element.appendChild(docLink);\n",
              "        }\n",
              "      </script>\n",
              "    </div>\n",
              "  </div>\n",
              "  "
            ]
          },
          "metadata": {},
          "execution_count": 135
        }
      ]
    },
    {
      "cell_type": "code",
      "source": [
        "sns.barplot(x = 'Class', y = 'raisedhands', data = df, order = ['L', 'M', 'H']) # 성적과 손을 든 횟수의 관계"
      ],
      "metadata": {
        "colab": {
          "base_uri": "https://localhost:8080/",
          "height": 297
        },
        "id": "SMmNG65lYTiB",
        "outputId": "d7e56e1c-95c5-4adb-e127-0aab6b2df09b"
      },
      "execution_count": 137,
      "outputs": [
        {
          "output_type": "execute_result",
          "data": {
            "text/plain": [
              "<matplotlib.axes._subplots.AxesSubplot at 0x7f0842894b50>"
            ]
          },
          "metadata": {},
          "execution_count": 137
        },
        {
          "output_type": "display_data",
          "data": {
            "text/plain": [
              "<Figure size 432x288 with 1 Axes>"
            ],
            "image/png": "[encoded data removed]"
          },
          "metadata": {
            "needs_background": "light"
          }
        }
      ]
    },
    {
      "cell_type": "code",
      "source": [
        "sns.barplot(x = 'Class', y = 'ParentAnsweringSurvey', hue = 'Relation', data = df, order = ['L', 'M', 'H']) # 성적과 부모 학교설문에 참여했는지 관계"
      ],
      "metadata": {
        "colab": {
          "base_uri": "https://localhost:8080/",
          "height": 301
        },
        "id": "DkHfzDPOYrqj",
        "outputId": "bc428a92-8d57-4ddf-9720-488abcd4b17a"
      },
      "execution_count": 138,
      "outputs": [
        {
          "output_type": "execute_result",
          "data": {
            "text/plain": [
              "<matplotlib.axes._subplots.AxesSubplot at 0x7f08425f78b0>"
            ]
          },
          "metadata": {},
          "execution_count": 138
        },
        {
          "output_type": "display_data",
          "data": {
            "text/plain": [
              "<Figure size 432x288 with 1 Axes>"
            ],
            "image/png": "[encoded data removed]"
          },
          "metadata": {
            "needs_background": "light"
          }
        }
      ]
    },
    {
      "cell_type": "code",
      "source": [
        "sns.barplot(x = 'Class', y = 'ParentschoolSatisfaction', data = df, order = ['L', 'M', 'H']) # 성적과 부모 만족도의 관계"
      ],
      "metadata": {
        "colab": {
          "base_uri": "https://localhost:8080/",
          "height": 297
        },
        "id": "vYeIYaevasN7",
        "outputId": "c669cf49-bb1b-464a-f9df-76458ab770f2"
      },
      "execution_count": 114,
      "outputs": [
        {
          "output_type": "execute_result",
          "data": {
            "text/plain": [
              "<matplotlib.axes._subplots.AxesSubplot at 0x7f08439c4df0>"
            ]
          },
          "metadata": {},
          "execution_count": 114
        },
        {
          "output_type": "display_data",
          "data": {
            "text/plain": [
              "<Figure size 432x288 with 1 Axes>"
            ],
            "image/png": "[encoded data removed]"
          },
          "metadata": {
            "needs_background": "light"
          }
        }
      ]
    },
    {
      "cell_type": "code",
      "source": [
        "sns.barplot(x = 'Class', y = 'raisedhands', hue = 'SectionID', data = df, order = ['L', 'M', 'H']) # 성적과 출석과 관계 1이면 출석을 잘함"
      ],
      "metadata": {
        "colab": {
          "base_uri": "https://localhost:8080/",
          "height": 297
        },
        "id": "V_5CU1g_gzNN",
        "outputId": "e3a797b4-d182-4ee0-fd25-f163410b516e"
      },
      "execution_count": 129,
      "outputs": [
        {
          "output_type": "execute_result",
          "data": {
            "text/plain": [
              "<matplotlib.axes._subplots.AxesSubplot at 0x7f084278a430>"
            ]
          },
          "metadata": {},
          "execution_count": 129
        },
        {
          "output_type": "display_data",
          "data": {
            "text/plain": [
              "<Figure size 432x288 with 1 Axes>"
            ],
            "image/png": "[encoded data removed]"
          },
          "metadata": {
            "needs_background": "light"
          }
        }
      ]
    },
    {
      "cell_type": "code",
      "source": [
        "import matplotlib.pyplot as plt\n",
        "\n",
        "fig, axarr  = plt.subplots(2,2,figsize=(10,10))\n",
        "sns.barplot(x='Class', y='VisITedResources', data=df, order=['L','M','H'], ax=axarr[0,0])\n",
        "sns.barplot(x='Class', y='AnnouncementsView', data=df, order=['L','M','H'], ax=axarr[0,1])\n",
        "sns.barplot(x='Class', y='raisedhands', data=df, order=['L','M','H'], ax=axarr[1,0])\n",
        "sns.barplot(x='Class', y='Discussion', data=df, order=['L','M','H'], ax=axarr[1,1])"
      ],
      "metadata": {
        "colab": {
          "base_uri": "https://localhost:8080/",
          "height": 626
        },
        "id": "l0kjp_6lhdUU",
        "outputId": "311f90c7-e045-4510-828a-8faaf4da3597"
      },
      "execution_count": 141,
      "outputs": [
        {
          "output_type": "execute_result",
          "data": {
            "text/plain": [
              "<matplotlib.axes._subplots.AxesSubplot at 0x7f08424135b0>"
            ]
          },
          "metadata": {},
          "execution_count": 141
        },
        {
          "output_type": "display_data",
          "data": {
            "text/plain": [
              "<Figure size 720x720 with 4 Axes>"
            ],
            "image/png": "[encoded data removed]"
          },
          "metadata": {
            "needs_background": "light"
          }
        }
      ]
    },
    {
      "cell_type": "code",
      "source": [],
      "metadata": {
        "id": "fE7GjxMUjWuu"
      },
      "execution_count": null,
      "outputs": []
    }
  ]
}