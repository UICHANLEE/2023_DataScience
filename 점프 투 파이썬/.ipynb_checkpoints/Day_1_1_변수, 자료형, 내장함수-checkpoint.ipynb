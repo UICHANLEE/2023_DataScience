{
 "cells": [
  {
   "cell_type": "markdown",
   "id": "f8ecc28e",
   "metadata": {},
   "source": [
    "# 타이틀 1\n",
    "## 타이틀 2\n",
    "### 타이틀 3\n",
    "#### 타이틀 4\n",
    "##### 타이틀 5\n",
    "- <span style='color:red'>안녕 반가워 <span>\n",
    "- 잘 해 봅시다\n",
    "- 이것이 마크   \n",
    "    다운"
   ]
  },
  {
   "cell_type": "code",
   "execution_count": 1,
   "id": "8611458b",
   "metadata": {},
   "outputs": [],
   "source": [
    "a = 10\n",
    "b = 20"
   ]
  },
  {
   "cell_type": "code",
   "execution_count": 2,
   "id": "54f1de0e",
   "metadata": {},
   "outputs": [
    {
     "data": {
      "text/plain": [
       "30"
      ]
     },
     "execution_count": 2,
     "metadata": {},
     "output_type": "execute_result"
    }
   ],
   "source": [
    "a + b"
   ]
  },
  {
   "cell_type": "code",
   "execution_count": 8,
   "id": "b612cc3c",
   "metadata": {},
   "outputs": [
    {
     "data": {
      "text/plain": [
       "2"
      ]
     },
     "execution_count": 8,
     "metadata": {},
     "output_type": "execute_result"
    }
   ],
   "source": [
    "b // a"
   ]
  },
  {
   "cell_type": "code",
   "execution_count": 9,
   "id": "54c7b64a",
   "metadata": {},
   "outputs": [
    {
     "name": "stdout",
     "output_type": "stream",
     "text": [
      "10\n"
     ]
    }
   ],
   "source": [
    "print(a)"
   ]
  },
  {
   "cell_type": "code",
   "execution_count": 11,
   "id": "277f0f2a",
   "metadata": {},
   "outputs": [
    {
     "name": "stdout",
     "output_type": "stream",
     "text": [
      "128\n"
     ]
    }
   ],
   "source": [
    "print(128)"
   ]
  },
  {
   "cell_type": "code",
   "execution_count": 18,
   "id": "4ca4ed6c",
   "metadata": {},
   "outputs": [
    {
     "name": "stdout",
     "output_type": "stream",
     "text": [
      "c\n"
     ]
    }
   ],
   "source": [
    "print('c')"
   ]
  },
  {
   "cell_type": "code",
   "execution_count": 28,
   "id": "920753e5",
   "metadata": {},
   "outputs": [],
   "source": []
  },
  {
   "cell_type": "code",
   "execution_count": 31,
   "id": "a6af3963",
   "metadata": {},
   "outputs": [],
   "source": [
    "# 이진수 0bXX"
   ]
  },
  {
   "cell_type": "code",
   "execution_count": 55,
   "id": "9ad36060",
   "metadata": {},
   "outputs": [],
   "source": [
    "list = ['dfj']"
   ]
  },
  {
   "cell_type": "code",
   "execution_count": null,
   "id": "b5d5f897",
   "metadata": {},
   "outputs": [],
   "source": [
    "print(list[0][1])"
   ]
  }
 ],
 "metadata": {
  "kernelspec": {
   "display_name": "Python 3 (ipykernel)",
   "language": "python",
   "name": "python3"
  },
  "language_info": {
   "codemirror_mode": {
    "name": "ipython",
    "version": 3
   },
   "file_extension": ".py",
   "mimetype": "text/x-python",
   "name": "python",
   "nbconvert_exporter": "python",
   "pygments_lexer": "ipython3",
   "version": "3.9.13"
  }
 },
 "nbformat": 4,
 "nbformat_minor": 5
}
