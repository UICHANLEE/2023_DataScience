{
  "nbformat": 4,
  "nbformat_minor": 0,
  "metadata": {
    "colab": {
      "provenance": [],
      "collapsed_sections": [
        "xKEioA7-_hT7",
        "kVoH7HSOI_Uk",
        "7PFkfWyiJxIb"
      ],
      "authorship_tag": "ABX9TyMD2bg/5lEqyGt+cVXPO9Eq",
      "include_colab_link": true
    },
    "kernelspec": {
      "name": "python3",
      "display_name": "Python 3"
    },
    "language_info": {
      "name": "python"
    }
  },
  "cells": [
    {
      "cell_type": "markdown",
      "metadata": {
        "id": "view-in-github",
        "colab_type": "text"
      },
      "source": [
        "<a href=\"https://colab.research.google.com/github/UICHANLEE/2023_DataScience/blob/ML/3%EC%9E%A5_%ED%8F%89%EA%B0%80.ipynb\" target=\"_parent\"><img src=\"https://colab.research.google.com/assets/colab-badge.svg\" alt=\"Open In Colab\"/></a>"
      ]
    },
    {
      "cell_type": "markdown",
      "source": [
        "# 3장 평가 \n",
        "- 머신러닝은 데이터 가공/변환, 모델 학습/예측, 그리고 평가의 프로세스로 구성\n",
        "- 회귀 : 실제값과 예측값의 오차의 평균 ( 낮을 수록 좋은 것 )\n",
        "- 분류 : 실제 결과 데이터와 예측 데이터가 얼마나 정확한지 ( 높을 수록 좋은 것 )"
      ],
      "metadata": {
        "id": "xKEioA7-_hT7"
      }
    },
    {
      "cell_type": "markdown",
      "source": [
        "- 분류의 성능 평가 지표\n",
        "  1. 정확도 (Accuracy)\n",
        "  2. 오차행렬 (Confusion Matrix)\n",
        "  3. 정밀도 (Precision)\n",
        "  4. 재현율 (Recall)\n",
        "  5. F1 스코어\n",
        "  6. ROC AUC"
      ],
      "metadata": {
        "id": "r8Cc9NiL_tcI"
      }
    },
    {
      "cell_type": "markdown",
      "source": [
        "# 1 정확도 (Accuracy)\n",
        "- 정확도는 시계 데이터에서 예측 데이터가 얼마나 같은지 판단하는 지표"
      ],
      "metadata": {
        "id": "shIU3vIxCCkl"
      }
    },
    {
      "cell_type": "code",
      "source": [
        "import pandas as pd\n",
        "from sklearn.model_selection import train_test_split\n",
        "from sklearn.metrics import accuracy_score\n",
        "import seaborn as sns\n",
        "\n",
        "# 원본데이터를 재로딩, 데이터 가공, 학습 데이터/ 테스트 데이터 분할\n",
        "titanic_df = pd.read_csv('titanic_train.csv')\n",
        "titanic_df.head()"
      ],
      "metadata": {
        "colab": {
          "base_uri": "https://localhost:8080/",
          "height": 206
        },
        "id": "9ukKtLNIDdCg",
        "outputId": "d2c16aaf-c428-4560-c8ee-566ca3cf5aff"
      },
      "execution_count": 1,
      "outputs": [
        {
          "output_type": "execute_result",
          "data": {
            "text/plain": [
              "   PassengerId  Survived  Pclass  \\\n",
              "0            1         0       3   \n",
              "1            2         1       1   \n",
              "2            3         1       3   \n",
              "3            4         1       1   \n",
              "4            5         0       3   \n",
              "\n",
              "                                                Name     Sex   Age  SibSp  \\\n",
              "0                            Braund, Mr. Owen Harris    male  22.0      1   \n",
              "1  Cumings, Mrs. John Bradley (Florence Briggs Th...  female  38.0      1   \n",
              "2                             Heikkinen, Miss. Laina  female  26.0      0   \n",
              "3       Futrelle, Mrs. Jacques Heath (Lily May Peel)  female  35.0      1   \n",
              "4                           Allen, Mr. William Henry    male  35.0      0   \n",
              "\n",
              "   Parch            Ticket     Fare Cabin Embarked  \n",
              "0      0         A/5 21171   7.2500   NaN        S  \n",
              "1      0          PC 17599  71.2833   C85        C  \n",
              "2      0  STON/O2. 3101282   7.9250   NaN        S  \n",
              "3      0            113803  53.1000  C123        S  \n",
              "4      0            373450   8.0500   NaN        S  "
            ],
            "text/html": [
              "\n",
              "  <div id=\"df-ac79717f-b146-404a-b5d9-e4e07ebda1a6\">\n",
              "    <div class=\"colab-df-container\">\n",
              "      <div>\n",
              "<style scoped>\n",
              "    .dataframe tbody tr th:only-of-type {\n",
              "        vertical-align: middle;\n",
              "    }\n",
              "\n",
              "    .dataframe tbody tr th {\n",
              "        vertical-align: top;\n",
              "    }\n",
              "\n",
              "    .dataframe thead th {\n",
              "        text-align: right;\n",
              "    }\n",
              "</style>\n",
              "<table border=\"1\" class=\"dataframe\">\n",
              "  <thead>\n",
              "    <tr style=\"text-align: right;\">\n",
              "      <th></th>\n",
              "      <th>PassengerId</th>\n",
              "      <th>Survived</th>\n",
              "      <th>Pclass</th>\n",
              "      <th>Name</th>\n",
              "      <th>Sex</th>\n",
              "      <th>Age</th>\n",
              "      <th>SibSp</th>\n",
              "      <th>Parch</th>\n",
              "      <th>Ticket</th>\n",
              "      <th>Fare</th>\n",
              "      <th>Cabin</th>\n",
              "      <th>Embarked</th>\n",
              "    </tr>\n",
              "  </thead>\n",
              "  <tbody>\n",
              "    <tr>\n",
              "      <th>0</th>\n",
              "      <td>1</td>\n",
              "      <td>0</td>\n",
              "      <td>3</td>\n",
              "      <td>Braund, Mr. Owen Harris</td>\n",
              "      <td>male</td>\n",
              "      <td>22.0</td>\n",
              "      <td>1</td>\n",
              "      <td>0</td>\n",
              "      <td>A/5 21171</td>\n",
              "      <td>7.2500</td>\n",
              "      <td>NaN</td>\n",
              "      <td>S</td>\n",
              "    </tr>\n",
              "    <tr>\n",
              "      <th>1</th>\n",
              "      <td>2</td>\n",
              "      <td>1</td>\n",
              "      <td>1</td>\n",
              "      <td>Cumings, Mrs. John Bradley (Florence Briggs Th...</td>\n",
              "      <td>female</td>\n",
              "      <td>38.0</td>\n",
              "      <td>1</td>\n",
              "      <td>0</td>\n",
              "      <td>PC 17599</td>\n",
              "      <td>71.2833</td>\n",
              "      <td>C85</td>\n",
              "      <td>C</td>\n",
              "    </tr>\n",
              "    <tr>\n",
              "      <th>2</th>\n",
              "      <td>3</td>\n",
              "      <td>1</td>\n",
              "      <td>3</td>\n",
              "      <td>Heikkinen, Miss. Laina</td>\n",
              "      <td>female</td>\n",
              "      <td>26.0</td>\n",
              "      <td>0</td>\n",
              "      <td>0</td>\n",
              "      <td>STON/O2. 3101282</td>\n",
              "      <td>7.9250</td>\n",
              "      <td>NaN</td>\n",
              "      <td>S</td>\n",
              "    </tr>\n",
              "    <tr>\n",
              "      <th>3</th>\n",
              "      <td>4</td>\n",
              "      <td>1</td>\n",
              "      <td>1</td>\n",
              "      <td>Futrelle, Mrs. Jacques Heath (Lily May Peel)</td>\n",
              "      <td>female</td>\n",
              "      <td>35.0</td>\n",
              "      <td>1</td>\n",
              "      <td>0</td>\n",
              "      <td>113803</td>\n",
              "      <td>53.1000</td>\n",
              "      <td>C123</td>\n",
              "      <td>S</td>\n",
              "    </tr>\n",
              "    <tr>\n",
              "      <th>4</th>\n",
              "      <td>5</td>\n",
              "      <td>0</td>\n",
              "      <td>3</td>\n",
              "      <td>Allen, Mr. William Henry</td>\n",
              "      <td>male</td>\n",
              "      <td>35.0</td>\n",
              "      <td>0</td>\n",
              "      <td>0</td>\n",
              "      <td>373450</td>\n",
              "      <td>8.0500</td>\n",
              "      <td>NaN</td>\n",
              "      <td>S</td>\n",
              "    </tr>\n",
              "  </tbody>\n",
              "</table>\n",
              "</div>\n",
              "      <button class=\"colab-df-convert\" onclick=\"convertToInteractive('df-ac79717f-b146-404a-b5d9-e4e07ebda1a6')\"\n",
              "              title=\"Convert this dataframe to an interactive table.\"\n",
              "              style=\"display:none;\">\n",
              "        \n",
              "  <svg xmlns=\"http://www.w3.org/2000/svg\" height=\"24px\"viewBox=\"0 0 24 24\"\n",
              "       width=\"24px\">\n",
              "    <path d=\"M0 0h24v24H0V0z\" fill=\"none\"/>\n",
              "    <path d=\"M18.56 5.44l.94 2.06.94-2.06 2.06-.94-2.06-.94-.94-2.06-.94 2.06-2.06.94zm-11 1L8.5 8.5l.94-2.06 2.06-.94-2.06-.94L8.5 2.5l-.94 2.06-2.06.94zm10 10l.94 2.06.94-2.06 2.06-.94-2.06-.94-.94-2.06-.94 2.06-2.06.94z\"/><path d=\"M17.41 7.96l-1.37-1.37c-.4-.4-.92-.59-1.43-.59-.52 0-1.04.2-1.43.59L10.3 9.45l-7.72 7.72c-.78.78-.78 2.05 0 2.83L4 21.41c.39.39.9.59 1.41.59.51 0 1.02-.2 1.41-.59l7.78-7.78 2.81-2.81c.8-.78.8-2.07 0-2.86zM5.41 20L4 18.59l7.72-7.72 1.47 1.35L5.41 20z\"/>\n",
              "  </svg>\n",
              "      </button>\n",
              "      \n",
              "  <style>\n",
              "    .colab-df-container {\n",
              "      display:flex;\n",
              "      flex-wrap:wrap;\n",
              "      gap: 12px;\n",
              "    }\n",
              "\n",
              "    .colab-df-convert {\n",
              "      background-color: #E8F0FE;\n",
              "      border: none;\n",
              "      border-radius: 50%;\n",
              "      cursor: pointer;\n",
              "      display: none;\n",
              "      fill: #1967D2;\n",
              "      height: 32px;\n",
              "      padding: 0 0 0 0;\n",
              "      width: 32px;\n",
              "    }\n",
              "\n",
              "    .colab-df-convert:hover {\n",
              "      background-color: #E2EBFA;\n",
              "      box-shadow: 0px 1px 2px rgba(60, 64, 67, 0.3), 0px 1px 3px 1px rgba(60, 64, 67, 0.15);\n",
              "      fill: #174EA6;\n",
              "    }\n",
              "\n",
              "    [theme=dark] .colab-df-convert {\n",
              "      background-color: #3B4455;\n",
              "      fill: #D2E3FC;\n",
              "    }\n",
              "\n",
              "    [theme=dark] .colab-df-convert:hover {\n",
              "      background-color: #434B5C;\n",
              "      box-shadow: 0px 1px 3px 1px rgba(0, 0, 0, 0.15);\n",
              "      filter: drop-shadow(0px 1px 2px rgba(0, 0, 0, 0.3));\n",
              "      fill: #FFFFFF;\n",
              "    }\n",
              "  </style>\n",
              "\n",
              "      <script>\n",
              "        const buttonEl =\n",
              "          document.querySelector('#df-ac79717f-b146-404a-b5d9-e4e07ebda1a6 button.colab-df-convert');\n",
              "        buttonEl.style.display =\n",
              "          google.colab.kernel.accessAllowed ? 'block' : 'none';\n",
              "\n",
              "        async function convertToInteractive(key) {\n",
              "          const element = document.querySelector('#df-ac79717f-b146-404a-b5d9-e4e07ebda1a6');\n",
              "          const dataTable =\n",
              "            await google.colab.kernel.invokeFunction('convertToInteractive',\n",
              "                                                     [key], {});\n",
              "          if (!dataTable) return;\n",
              "\n",
              "          const docLinkHtml = 'Like what you see? Visit the ' +\n",
              "            '<a target=\"_blank\" href=https://colab.research.google.com/notebooks/data_table.ipynb>data table notebook</a>'\n",
              "            + ' to learn more about interactive tables.';\n",
              "          element.innerHTML = '';\n",
              "          dataTable['output_type'] = 'display_data';\n",
              "          await google.colab.output.renderOutput(dataTable, element);\n",
              "          const docLink = document.createElement('div');\n",
              "          docLink.innerHTML = docLinkHtml;\n",
              "          element.appendChild(docLink);\n",
              "        }\n",
              "      </script>\n",
              "    </div>\n",
              "  </div>\n",
              "  "
            ]
          },
          "metadata": {},
          "execution_count": 1
        }
      ]
    },
    {
      "cell_type": "code",
      "source": [
        "y_titanic_df = titanic_df['Survived']\n",
        "X_titanic_df = titanic_df.drop('Survived', axis = 1)"
      ],
      "metadata": {
        "id": "FM8E-OWCD460"
      },
      "execution_count": 2,
      "outputs": []
    },
    {
      "cell_type": "code",
      "source": [
        "import numpy as np\n",
        "from sklearn.base import BaseEstimator\n",
        "\n",
        "class MyDummyClassfier(BaseEstimator):\n",
        "  # fit() 메소드는 아무것도 학습하지 않음\n",
        "  def fit(self, X, y = None):\n",
        "    pass\n",
        "  def predict(self, X):\n",
        "    pred = np.zeros((X.shape[0], 1))\n",
        "    for i in range(X.shape[0]):\n",
        "      if X['Sex'].iloc[i] == 1:\n",
        "        pred[i] = 0\n",
        "      else:\n",
        "        pred[i] = 1\n",
        "    return pred\n"
      ],
      "metadata": {
        "id": "fqzlBJ4DEfqe"
      },
      "execution_count": 3,
      "outputs": []
    },
    {
      "cell_type": "code",
      "source": [
        "import pandas as pd\n",
        "from sklearn.preprocessing import LabelEncoder\n",
        "\n",
        "# Null 처리 함수\n",
        "def fillna(df):\n",
        "  df['Age'].fillna(df['Age'].mean(), inplace = True)\n",
        "  df['Age'].fillna('N', inplace = True)\n",
        "  df['Embarked'].fillna('N', inplace = True)\n",
        "  df['Fare'].fillna(0, inplace = True)\n",
        "  return df\n",
        "# 머신러닝 알고리즘에 불필요한 피처 제거\n",
        "def drop_features(df):\n",
        "  df.drop(['PassengerId', 'Name', 'Ticket'], axis = 1, inplace = True)\n",
        "  return df\n",
        "# 레이블 인코딩 수행\n",
        "def format_features(df):\n",
        "  df['Cabin'] = df['Cabin'].str[:1]\n",
        "  features = ['Cabin', 'Sex', 'Embarked']\n",
        "  for feature in features:\n",
        "    le = LabelEncoder()\n",
        "    le = le.fit(df[feature])\n",
        "    df[feature] = le.transform(df[feature])\n",
        "  return df\n",
        "# 앞에서 설정한 데이터 전처리 함수 호출\n",
        "def transform_features(df):\n",
        "  df = fillna(df)\n",
        "  df = drop_features(df)\n",
        "  df = format_features(df)\n",
        "  return df\n"
      ],
      "metadata": {
        "id": "rbC2YjsTFuPR"
      },
      "execution_count": 4,
      "outputs": []
    },
    {
      "cell_type": "code",
      "source": [
        "X_titanic_df = transform_features(X_titanic_df)"
      ],
      "metadata": {
        "id": "vjqMck9XHHOZ"
      },
      "execution_count": 5,
      "outputs": []
    },
    {
      "cell_type": "code",
      "source": [
        "X_titanic_df.head()"
      ],
      "metadata": {
        "colab": {
          "base_uri": "https://localhost:8080/",
          "height": 206
        },
        "id": "hUUUTWqmHXMU",
        "outputId": "35f00525-5c26-4b47-dfeb-4a435a90413b"
      },
      "execution_count": 6,
      "outputs": [
        {
          "output_type": "execute_result",
          "data": {
            "text/plain": [
              "   Pclass  Sex   Age  SibSp  Parch     Fare  Cabin  Embarked\n",
              "0       3    1  22.0      1      0   7.2500      8         3\n",
              "1       1    0  38.0      1      0  71.2833      2         0\n",
              "2       3    0  26.0      0      0   7.9250      8         3\n",
              "3       1    0  35.0      1      0  53.1000      2         3\n",
              "4       3    1  35.0      0      0   8.0500      8         3"
            ],
            "text/html": [
              "\n",
              "  <div id=\"df-da2b5a13-fb32-400a-8f98-5923f0156ce6\">\n",
              "    <div class=\"colab-df-container\">\n",
              "      <div>\n",
              "<style scoped>\n",
              "    .dataframe tbody tr th:only-of-type {\n",
              "        vertical-align: middle;\n",
              "    }\n",
              "\n",
              "    .dataframe tbody tr th {\n",
              "        vertical-align: top;\n",
              "    }\n",
              "\n",
              "    .dataframe thead th {\n",
              "        text-align: right;\n",
              "    }\n",
              "</style>\n",
              "<table border=\"1\" class=\"dataframe\">\n",
              "  <thead>\n",
              "    <tr style=\"text-align: right;\">\n",
              "      <th></th>\n",
              "      <th>Pclass</th>\n",
              "      <th>Sex</th>\n",
              "      <th>Age</th>\n",
              "      <th>SibSp</th>\n",
              "      <th>Parch</th>\n",
              "      <th>Fare</th>\n",
              "      <th>Cabin</th>\n",
              "      <th>Embarked</th>\n",
              "    </tr>\n",
              "  </thead>\n",
              "  <tbody>\n",
              "    <tr>\n",
              "      <th>0</th>\n",
              "      <td>3</td>\n",
              "      <td>1</td>\n",
              "      <td>22.0</td>\n",
              "      <td>1</td>\n",
              "      <td>0</td>\n",
              "      <td>7.2500</td>\n",
              "      <td>8</td>\n",
              "      <td>3</td>\n",
              "    </tr>\n",
              "    <tr>\n",
              "      <th>1</th>\n",
              "      <td>1</td>\n",
              "      <td>0</td>\n",
              "      <td>38.0</td>\n",
              "      <td>1</td>\n",
              "      <td>0</td>\n",
              "      <td>71.2833</td>\n",
              "      <td>2</td>\n",
              "      <td>0</td>\n",
              "    </tr>\n",
              "    <tr>\n",
              "      <th>2</th>\n",
              "      <td>3</td>\n",
              "      <td>0</td>\n",
              "      <td>26.0</td>\n",
              "      <td>0</td>\n",
              "      <td>0</td>\n",
              "      <td>7.9250</td>\n",
              "      <td>8</td>\n",
              "      <td>3</td>\n",
              "    </tr>\n",
              "    <tr>\n",
              "      <th>3</th>\n",
              "      <td>1</td>\n",
              "      <td>0</td>\n",
              "      <td>35.0</td>\n",
              "      <td>1</td>\n",
              "      <td>0</td>\n",
              "      <td>53.1000</td>\n",
              "      <td>2</td>\n",
              "      <td>3</td>\n",
              "    </tr>\n",
              "    <tr>\n",
              "      <th>4</th>\n",
              "      <td>3</td>\n",
              "      <td>1</td>\n",
              "      <td>35.0</td>\n",
              "      <td>0</td>\n",
              "      <td>0</td>\n",
              "      <td>8.0500</td>\n",
              "      <td>8</td>\n",
              "      <td>3</td>\n",
              "    </tr>\n",
              "  </tbody>\n",
              "</table>\n",
              "</div>\n",
              "      <button class=\"colab-df-convert\" onclick=\"convertToInteractive('df-da2b5a13-fb32-400a-8f98-5923f0156ce6')\"\n",
              "              title=\"Convert this dataframe to an interactive table.\"\n",
              "              style=\"display:none;\">\n",
              "        \n",
              "  <svg xmlns=\"http://www.w3.org/2000/svg\" height=\"24px\"viewBox=\"0 0 24 24\"\n",
              "       width=\"24px\">\n",
              "    <path d=\"M0 0h24v24H0V0z\" fill=\"none\"/>\n",
              "    <path d=\"M18.56 5.44l.94 2.06.94-2.06 2.06-.94-2.06-.94-.94-2.06-.94 2.06-2.06.94zm-11 1L8.5 8.5l.94-2.06 2.06-.94-2.06-.94L8.5 2.5l-.94 2.06-2.06.94zm10 10l.94 2.06.94-2.06 2.06-.94-2.06-.94-.94-2.06-.94 2.06-2.06.94z\"/><path d=\"M17.41 7.96l-1.37-1.37c-.4-.4-.92-.59-1.43-.59-.52 0-1.04.2-1.43.59L10.3 9.45l-7.72 7.72c-.78.78-.78 2.05 0 2.83L4 21.41c.39.39.9.59 1.41.59.51 0 1.02-.2 1.41-.59l7.78-7.78 2.81-2.81c.8-.78.8-2.07 0-2.86zM5.41 20L4 18.59l7.72-7.72 1.47 1.35L5.41 20z\"/>\n",
              "  </svg>\n",
              "      </button>\n",
              "      \n",
              "  <style>\n",
              "    .colab-df-container {\n",
              "      display:flex;\n",
              "      flex-wrap:wrap;\n",
              "      gap: 12px;\n",
              "    }\n",
              "\n",
              "    .colab-df-convert {\n",
              "      background-color: #E8F0FE;\n",
              "      border: none;\n",
              "      border-radius: 50%;\n",
              "      cursor: pointer;\n",
              "      display: none;\n",
              "      fill: #1967D2;\n",
              "      height: 32px;\n",
              "      padding: 0 0 0 0;\n",
              "      width: 32px;\n",
              "    }\n",
              "\n",
              "    .colab-df-convert:hover {\n",
              "      background-color: #E2EBFA;\n",
              "      box-shadow: 0px 1px 2px rgba(60, 64, 67, 0.3), 0px 1px 3px 1px rgba(60, 64, 67, 0.15);\n",
              "      fill: #174EA6;\n",
              "    }\n",
              "\n",
              "    [theme=dark] .colab-df-convert {\n",
              "      background-color: #3B4455;\n",
              "      fill: #D2E3FC;\n",
              "    }\n",
              "\n",
              "    [theme=dark] .colab-df-convert:hover {\n",
              "      background-color: #434B5C;\n",
              "      box-shadow: 0px 1px 3px 1px rgba(0, 0, 0, 0.15);\n",
              "      filter: drop-shadow(0px 1px 2px rgba(0, 0, 0, 0.3));\n",
              "      fill: #FFFFFF;\n",
              "    }\n",
              "  </style>\n",
              "\n",
              "      <script>\n",
              "        const buttonEl =\n",
              "          document.querySelector('#df-da2b5a13-fb32-400a-8f98-5923f0156ce6 button.colab-df-convert');\n",
              "        buttonEl.style.display =\n",
              "          google.colab.kernel.accessAllowed ? 'block' : 'none';\n",
              "\n",
              "        async function convertToInteractive(key) {\n",
              "          const element = document.querySelector('#df-da2b5a13-fb32-400a-8f98-5923f0156ce6');\n",
              "          const dataTable =\n",
              "            await google.colab.kernel.invokeFunction('convertToInteractive',\n",
              "                                                     [key], {});\n",
              "          if (!dataTable) return;\n",
              "\n",
              "          const docLinkHtml = 'Like what you see? Visit the ' +\n",
              "            '<a target=\"_blank\" href=https://colab.research.google.com/notebooks/data_table.ipynb>data table notebook</a>'\n",
              "            + ' to learn more about interactive tables.';\n",
              "          element.innerHTML = '';\n",
              "          dataTable['output_type'] = 'display_data';\n",
              "          await google.colab.output.renderOutput(dataTable, element);\n",
              "          const docLink = document.createElement('div');\n",
              "          docLink.innerHTML = docLinkHtml;\n",
              "          element.appendChild(docLink);\n",
              "        }\n",
              "      </script>\n",
              "    </div>\n",
              "  </div>\n",
              "  "
            ]
          },
          "metadata": {},
          "execution_count": 6
        }
      ]
    },
    {
      "cell_type": "code",
      "source": [
        "X_train, X_test, y_train, y_test =  train_test_split(X_titanic_df, y_titanic_df, test_size = 0.2, random_state = 0)"
      ],
      "metadata": {
        "id": "elmabrXHHYeK"
      },
      "execution_count": 7,
      "outputs": []
    },
    {
      "cell_type": "code",
      "source": [
        "myclf = MyDummyClassfier()\n",
        "myclf.fit(X_train, y_train)\n",
        "\n",
        "mypredictions = myclf.predict(X_test)\n",
        "print('Dummy Classifier 의 정확도는 : {0:.4f}'.format(accuracy_score(y_test, mypredictions)))"
      ],
      "metadata": {
        "colab": {
          "base_uri": "https://localhost:8080/"
        },
        "id": "iXzCcS8zIfVU",
        "outputId": "8546fab0-4ad8-4acb-ee14-e330c664f543"
      },
      "execution_count": 8,
      "outputs": [
        {
          "output_type": "stream",
          "name": "stdout",
          "text": [
            "Dummy Classifier 의 정확도는 : 0.7877\n"
          ]
        }
      ]
    },
    {
      "cell_type": "markdown",
      "source": [
        " # 불균형한 데이터셋"
      ],
      "metadata": {
        "id": "kVoH7HSOI_Uk"
      }
    },
    {
      "cell_type": "markdown",
      "source": [
        "#### MNIST 데이터셋"
      ],
      "metadata": {
        "id": "7PFkfWyiJxIb"
      }
    },
    {
      "cell_type": "code",
      "source": [
        "from sklearn.datasets import load_digits\n",
        "from sklearn.model_selection import train_test_split\n",
        "from sklearn.base import BaseEstimator\n",
        "from sklearn.metrics import accuracy_score\n",
        "import numpy as np\n",
        "import pandas as pd\n",
        "\n",
        "class MyFakeClassifier(BaseEstimator):\n",
        "  def fit(self, X, y):\n",
        "    pass\n",
        "\n",
        "  def predict(self, X):\n",
        "    return np.zeros((len(X), 1) , dtype=bool)\n",
        "\n",
        "digits = load_digits()\n"
      ],
      "metadata": {
        "id": "9QED_MX5JzMs"
      },
      "execution_count": 9,
      "outputs": []
    },
    {
      "cell_type": "code",
      "source": [
        "digits.keys()"
      ],
      "metadata": {
        "colab": {
          "base_uri": "https://localhost:8080/"
        },
        "id": "Mfx4QIqfNrGN",
        "outputId": "3d2705a8-cc94-47f8-9bea-3d1bc7f06a2a"
      },
      "execution_count": 10,
      "outputs": [
        {
          "output_type": "execute_result",
          "data": {
            "text/plain": [
              "dict_keys(['data', 'target', 'frame', 'feature_names', 'target_names', 'images', 'DESCR'])"
            ]
          },
          "metadata": {},
          "execution_count": 10
        }
      ]
    },
    {
      "cell_type": "code",
      "source": [
        "y = (digits.target == 7).astype(int)\n",
        "X_train, X_test, y_train, y_test = train_test_split(digits.data, y, random_state = 11)"
      ],
      "metadata": {
        "id": "gxctZGtpQP7l"
      },
      "execution_count": 11,
      "outputs": []
    },
    {
      "cell_type": "code",
      "source": [
        "# DummyClassifier로 학습/예측/정확도 평가\n",
        "fakeclf = MyFakeClassifier()\n",
        "fakeclf.fit(X_train, y_train)\n",
        "fakepred = fakeclf.predict(X_test)\n",
        "\n",
        "print('모든 예측을 0으로 하여도 정확도는 : {:.3f}'.format(accuracy_score(y_test, fakepred)))"
      ],
      "metadata": {
        "colab": {
          "base_uri": "https://localhost:8080/"
        },
        "id": "0ogQp-COQgcD",
        "outputId": "2e6a62a8-0ac4-43c4-cc42-b24902b5df7c"
      },
      "execution_count": 12,
      "outputs": [
        {
          "output_type": "stream",
          "name": "stdout",
          "text": [
            "모든 예측을 0으로 하여도 정확도는 : 0.900\n"
          ]
        }
      ]
    },
    {
      "cell_type": "markdown",
      "source": [
        "# 2 오차행렬(Confusion Matrix)\n",
        "- TN : 실제도 아니고 예측도 아니라고 한 것\n",
        "- FN : 실제가 맞고 예측은 아니라고 한 것\n",
        "- FP : 실제가 아니고 예측은 맞다고 한 것\n",
        "- TP : 실제도 맞고 예측도 맞다고 한 것"
      ],
      "metadata": {
        "id": "V9URMlSaQqIn"
      }
    },
    {
      "cell_type": "code",
      "source": [
        "from sklearn.metrics import confusion_matrix\n",
        "\n",
        "confusion_matrix(y_test, fakepred) # (실제값, 예측값)\n"
      ],
      "metadata": {
        "colab": {
          "base_uri": "https://localhost:8080/"
        },
        "id": "clGKi6vGRBmp",
        "outputId": "c3a4be5e-54d6-458a-ea73-c7947d9d42b3"
      },
      "execution_count": 13,
      "outputs": [
        {
          "output_type": "execute_result",
          "data": {
            "text/plain": [
              "array([[405,   0],\n",
              "       [ 45,   0]])"
            ]
          },
          "metadata": {},
          "execution_count": 13
        }
      ]
    },
    {
      "cell_type": "code",
      "source": [
        "confusion_matrix(fakepred, y_test) # (예측값, 실제값의 경우) - 원하는 값이 나오지않음"
      ],
      "metadata": {
        "colab": {
          "base_uri": "https://localhost:8080/"
        },
        "id": "ax8WpTfWSWil",
        "outputId": "6bb31919-1181-4210-f98b-cd1abe9dae36"
      },
      "execution_count": 14,
      "outputs": [
        {
          "output_type": "execute_result",
          "data": {
            "text/plain": [
              "array([[405,  45],\n",
              "       [  0,   0]])"
            ]
          },
          "metadata": {},
          "execution_count": 14
        }
      ]
    },
    {
      "cell_type": "markdown",
      "source": [
        "- 정확도 = (TN + TP) / (TN + FP + FN + TP) \n",
        "- 정밀도 = TP / (FP + TP) -  예측을  Positive 로 한 대상중에서 예측값이 실제와 일치한 데이터의 비율\n",
        "- 재현율 = TP / (FN + TP) - 실제값이 Positive인 대상 중에서 예측과 실제값이 Positive로 일치한 데이터의 비율"
      ],
      "metadata": {
        "id": "LWg7OM_FTBxB"
      }
    },
    {
      "cell_type": "code",
      "source": [
        "from sklearn.metrics import accuracy_score, precision_score\n",
        "from sklearn.metrics import recall_score, confusion_matrix"
      ],
      "metadata": {
        "id": "pkE2a755TT7r"
      },
      "execution_count": 15,
      "outputs": []
    },
    {
      "cell_type": "code",
      "source": [
        "from IPython.utils.syspathcontext import prepended_to_syspath\n",
        "def get_clf_eval(y_test, pred):\n",
        "  confusion = confusion_matrix(y_test, pred)\n",
        "  accuracy = accuracy_score(y_test, pred)\n",
        "  precision = precision_score(y_test, pred)\n",
        "  recall = recall_score(y_test, pred)\n",
        "  print('오차 행렬')\n",
        "  print(confusion)\n",
        "  print('정확도;{0:.4f}, 정밀도 : {1:.4f}, 재현율 : {2:.4f}'.format(accuracy, precision, recall))"
      ],
      "metadata": {
        "id": "Xt0meoN6VdOX"
      },
      "execution_count": 16,
      "outputs": []
    },
    {
      "cell_type": "code",
      "source": [
        "from sklearn.model_selection import train_test_split\n",
        "from sklearn.linear_model import LogisticRegression\n",
        "\n",
        "titanic_df = pd.read_csv('titanic_train.csv')\n",
        "y_titanic_df = titanic_df['Survived']\n",
        "X_titanic_df = titanic_df.drop('Survived', axis = 1)\n",
        "X_titanic_df = transform_features(X_titanic_df)\n",
        "\n",
        "X_train, X_test, y_train, y_test = train_test_split(X_titanic_df, y_titanic_df, test_size = 0.20, random_state= 11)\n",
        "lr_clf = LogisticRegression(solver = 'liblinear')\n",
        "lr_clf.fit(X_train, y_train)\n",
        "pred = lr_clf.predict(X_test)\n",
        "get_clf_eval(y_test, pred)\n"
      ],
      "metadata": {
        "colab": {
          "base_uri": "https://localhost:8080/"
        },
        "id": "yLvrCiyWWJ9y",
        "outputId": "9e93c55d-f1a5-41e4-e67d-f664052a0e70"
      },
      "execution_count": 17,
      "outputs": [
        {
          "output_type": "stream",
          "name": "stdout",
          "text": [
            "오차 행렬\n",
            "[[108  10]\n",
            " [ 14  47]]\n",
            "정확도;0.8659, 정밀도 : 0.8246, 재현율 : 0.7705\n"
          ]
        }
      ]
    },
    {
      "cell_type": "code",
      "source": [
        "pred_proba = lr_clf.predict_proba(X_test)\n",
        "pred = lr_clf.predict(X_test)\n",
        "print('pred_proba()결과 Shape :{0}'.format(pred.shape))\n",
        "print('pred_proba array에서 앞 3개만 샘플로 추출: \\n', pred_proba[:3])\n",
        "\n",
        "# 예측 확률 array와 예측 결과값 array를 concatenate하여 예측 확률과 결과값을 한눈에 확인\n",
        "pred_proba_result = np.concatenate([pred_proba, pred.reshape(-1, 1)], axis = 1)\n",
        "print('두개의 class 중에서 더 큰 확률을 클래스 값으로 예측\\n', pred_proba_result[:3])"
      ],
      "metadata": {
        "colab": {
          "base_uri": "https://localhost:8080/"
        },
        "id": "SnRXUtnwYIqu",
        "outputId": "c4663026-cbd8-403c-a1b1-e546738edf5b"
      },
      "execution_count": 18,
      "outputs": [
        {
          "output_type": "stream",
          "name": "stdout",
          "text": [
            "pred_proba()결과 Shape :(179,)\n",
            "pred_proba array에서 앞 3개만 샘플로 추출: \n",
            " [[0.44890748 0.55109252]\n",
            " [0.86309497 0.13690503]\n",
            " [0.86409996 0.13590004]]\n",
            "두개의 class 중에서 더 큰 확률을 클래스 값으로 예측\n",
            " [[0.44890748 0.55109252 1.        ]\n",
            " [0.86309497 0.13690503 0.        ]\n",
            " [0.86409996 0.13590004 0.        ]]\n"
          ]
        }
      ]
    },
    {
      "cell_type": "code",
      "source": [
        "from sklearn.preprocessing import Binarizer\n",
        "\n",
        "X = [[1, -1, 2],\n",
        "     [2, 0, 0],\n",
        "     [0, 1.1, 1.2]]\n",
        "\n",
        "binarizer = Binarizer(threshold= 1.1)\n",
        "print(binarizer.fit_transform(X))\n"
      ],
      "metadata": {
        "colab": {
          "base_uri": "https://localhost:8080/"
        },
        "id": "hwsJ0GvzcIuF",
        "outputId": "dcd17df7-5f26-4a60-c223-11a6be1059e9"
      },
      "execution_count": 19,
      "outputs": [
        {
          "output_type": "stream",
          "name": "stdout",
          "text": [
            "[[0. 0. 1.]\n",
            " [1. 0. 0.]\n",
            " [0. 0. 1.]]\n"
          ]
        }
      ]
    },
    {
      "cell_type": "code",
      "source": [
        "from sklearn.preprocessing import Binarizer\n",
        "# Binarizer 의 threshold 설정값, 분류 결정 임계값\n",
        "\n",
        "custom_threshold = 0.5\n",
        "\n",
        "# predict_proba() 반환값이 두 번째 칼럼, 즉 Positive클래스 칼럼 하나만 추출해 Binarizer을 적용\n",
        "pred_proba_1 = pred_proba[:, 1].reshape(-1, 1)\n",
        "\n",
        "binarizer = Binarizer(threshold = custom_threshold).fit(pred_proba_1)\n",
        "custom_predict = binarizer.transform(pred_proba_1)\n",
        "\n",
        "get_clf_eval(y_test, custom_predict)"
      ],
      "metadata": {
        "colab": {
          "base_uri": "https://localhost:8080/"
        },
        "id": "8Ky4D48vc5U1",
        "outputId": "1a083940-3264-4e06-f936-4658264f8b62"
      },
      "execution_count": 20,
      "outputs": [
        {
          "output_type": "stream",
          "name": "stdout",
          "text": [
            "오차 행렬\n",
            "[[108  10]\n",
            " [ 14  47]]\n",
            "정확도;0.8659, 정밀도 : 0.8246, 재현율 : 0.7705\n"
          ]
        }
      ]
    },
    {
      "cell_type": "code",
      "source": [
        "custom_threshold = 0.4\n",
        "\n",
        "pred_proba_1 = pred_proba[:, 1].reshape(-1, 1)\n",
        "\n",
        "binarizer = Binarizer(threshold = custom_threshold).fit(pred_proba_1)\n",
        "custom_predict = binarizer.transform(pred_proba_1)\n",
        "\n",
        "get_clf_eval(y_test, custom_predict)"
      ],
      "metadata": {
        "colab": {
          "base_uri": "https://localhost:8080/"
        },
        "id": "Q3tW4noJeihf",
        "outputId": "0995781b-2c0a-41e7-b574-8fb0149ecbd9"
      },
      "execution_count": 21,
      "outputs": [
        {
          "output_type": "stream",
          "name": "stdout",
          "text": [
            "오차 행렬\n",
            "[[97 21]\n",
            " [11 50]]\n",
            "정확도;0.8212, 정밀도 : 0.7042, 재현율 : 0.8197\n"
          ]
        }
      ]
    },
    {
      "cell_type": "code",
      "source": [
        "# 테스트를 수행할 모든 임곗값을 리스트 객체로 저장\n",
        "thresholds = [0.4, 0.45, 0.50, 0.55, 0.60]\n",
        "\n",
        "def get_eval_by_threshold(y_test, pred_proba_c1, thresholds):\n",
        "  for custom_threshold in thresholds:\n",
        "    binarizer = Binarizer(threshold = custom_threshold).fit(pred_proba_c1)\n",
        "    custom_predict = binarizer.transform(pred_proba_c1)\n",
        "    print('임곗값: ',custom_threshold)\n",
        "    get_clf_eval(y_test, custom_predict)\n",
        "\n",
        "get_eval_by_threshold(y_test, pred_proba[:, 1].reshape(-1, 1), thresholds)"
      ],
      "metadata": {
        "colab": {
          "base_uri": "https://localhost:8080/"
        },
        "id": "UeOfAp2Ge6yl",
        "outputId": "21a05b99-82f3-4da3-d2a0-060d8a36c75e"
      },
      "execution_count": 22,
      "outputs": [
        {
          "output_type": "stream",
          "name": "stdout",
          "text": [
            "임곗값:  0.4\n",
            "오차 행렬\n",
            "[[97 21]\n",
            " [11 50]]\n",
            "정확도;0.8212, 정밀도 : 0.7042, 재현율 : 0.8197\n",
            "임곗값:  0.45\n",
            "오차 행렬\n",
            "[[105  13]\n",
            " [ 13  48]]\n",
            "정확도;0.8547, 정밀도 : 0.7869, 재현율 : 0.7869\n",
            "임곗값:  0.5\n",
            "오차 행렬\n",
            "[[108  10]\n",
            " [ 14  47]]\n",
            "정확도;0.8659, 정밀도 : 0.8246, 재현율 : 0.7705\n",
            "임곗값:  0.55\n",
            "오차 행렬\n",
            "[[111   7]\n",
            " [ 16  45]]\n",
            "정확도;0.8715, 정밀도 : 0.8654, 재현율 : 0.7377\n",
            "임곗값:  0.6\n",
            "오차 행렬\n",
            "[[113   5]\n",
            " [ 17  44]]\n",
            "정확도;0.8771, 정밀도 : 0.8980, 재현율 : 0.7213\n"
          ]
        }
      ]
    },
    {
      "cell_type": "code",
      "source": [
        "from sklearn.metrics import precision_recall_curve\n",
        "\n",
        "# 레이블 값이 1일 떄의 예측 확률을 추출\n",
        "pred_proba_class1 = lr_clf.predict_proba(X_test)[:, 1]\n",
        "\n",
        "# 실제값 데이터 세트와 레이블 값이 1일 때의 예측 확률을 precision_recall_curve 인자로 입력\n",
        "precisions, recalls, thresholds = precision_recall_curve(y_test, pred_proba_class1)\n",
        "print('반환된 분류 결정 임곗값 배열의 Shape:', thresholds.shape)\n",
        "\n",
        "thr_index = np.arange(0, thresholds.shape[0], 15)\n",
        "print('샘플 추출을 위한 임계값 배열의 index 10개:', thr_index)\n",
        "print('샘플용 10개의 임곗값:', np.round(thresholds[thr_index], 2))\n",
        "\n",
        "print('샘플 임계값별 정밀도: ', np.round(precisions[thr_index], 3))\n",
        "print('샘플 임계값별 재현율: ', np.round(recalls[thr_index], 3))\n"
      ],
      "metadata": {
        "colab": {
          "base_uri": "https://localhost:8080/"
        },
        "id": "odTFu5vO3j0F",
        "outputId": "8e72909d-3295-456e-c719-6f7986f93bf3"
      },
      "execution_count": 23,
      "outputs": [
        {
          "output_type": "stream",
          "name": "stdout",
          "text": [
            "반환된 분류 결정 임곗값 배열의 Shape: (147,)\n",
            "샘플 추출을 위한 임계값 배열의 index 10개: [  0  15  30  45  60  75  90 105 120 135]\n",
            "샘플용 10개의 임곗값: [0.12 0.13 0.15 0.17 0.26 0.38 0.5  0.64 0.76 0.9 ]\n",
            "샘플 임계값별 정밀도:  [0.379 0.424 0.451 0.519 0.618 0.689 0.797 0.93  0.964 1.   ]\n",
            "샘플 임계값별 재현율:  [1.    0.967 0.902 0.902 0.902 0.836 0.77  0.656 0.443 0.213]\n"
          ]
        }
      ]
    },
    {
      "cell_type": "markdown",
      "source": [
        "# 4 F1 스코어\n",
        "- F1 스코어는 정밀도와 재현율을 결합한 지표\n",
        "- 어느 한쪽으로 치우치지 않는 수치를 나타낼 때 상대적으로 높은 값을 가짐"
      ],
      "metadata": {
        "id": "TLbvgWN8gXlY"
      }
    },
    {
      "cell_type": "code",
      "source": [
        "from sklearn.metrics import f1_score\n",
        "f1 = f1_score(y_test, pred)\n",
        "print('F1 스코어: {0:.4f}'.format(f1))"
      ],
      "metadata": {
        "colab": {
          "base_uri": "https://localhost:8080/"
        },
        "id": "6I6nVZva3HLb",
        "outputId": "7c1de2c9-e048-48b0-f509-095e7d7a686f"
      },
      "execution_count": 24,
      "outputs": [
        {
          "output_type": "stream",
          "name": "stdout",
          "text": [
            "F1 스코어: 0.7966\n"
          ]
        }
      ]
    },
    {
      "cell_type": "code",
      "source": [
        "def get_clf_eval(y_test, pred):\n",
        "  confusion = confusion_matrix(y_test, pred)\n",
        "  accuracy = accuracy_score(y_test, pred)\n",
        "  precision = precision_score(y_test, pred)\n",
        "  recall = recall_score(y_test, pred)\n",
        "  # F1 스코어 추가\n",
        "  f1 = f1_score(y_test, pred)\n",
        "  print('오차행렬')\n",
        "  print(confusion)\n",
        "  print('정확도;{0:.4f}, 정밀도 : {1:.4f}, 재현율 : {2:.4f}, F1 : {3:.4f}'.format(accuracy, precision, recall, f1))\n",
        "  \n",
        "thresholds = [0.4, 0.45, 0.50, 0.55, 0.60]\n",
        "pred_proba = lr_clf.predict_proba(X_test)\n",
        "get_eval_by_threshold(y_test, pred_proba[:, 1].reshape(-1, 1), thresholds)"
      ],
      "metadata": {
        "colab": {
          "base_uri": "https://localhost:8080/"
        },
        "id": "hbfrelTA69OP",
        "outputId": "06663dc1-4e59-4d17-8a48-d25d0f122a3e"
      },
      "execution_count": 25,
      "outputs": [
        {
          "output_type": "stream",
          "name": "stdout",
          "text": [
            "임곗값:  0.4\n",
            "오차행렬\n",
            "[[97 21]\n",
            " [11 50]]\n",
            "정확도;0.8212, 정밀도 : 0.7042, 재현율 : 0.8197, F1 : 0.7576\n",
            "임곗값:  0.45\n",
            "오차행렬\n",
            "[[105  13]\n",
            " [ 13  48]]\n",
            "정확도;0.8547, 정밀도 : 0.7869, 재현율 : 0.7869, F1 : 0.7869\n",
            "임곗값:  0.5\n",
            "오차행렬\n",
            "[[108  10]\n",
            " [ 14  47]]\n",
            "정확도;0.8659, 정밀도 : 0.8246, 재현율 : 0.7705, F1 : 0.7966\n",
            "임곗값:  0.55\n",
            "오차행렬\n",
            "[[111   7]\n",
            " [ 16  45]]\n",
            "정확도;0.8715, 정밀도 : 0.8654, 재현율 : 0.7377, F1 : 0.7965\n",
            "임곗값:  0.6\n",
            "오차행렬\n",
            "[[113   5]\n",
            " [ 17  44]]\n",
            "정확도;0.8771, 정밀도 : 0.8980, 재현율 : 0.7213, F1 : 0.8000\n"
          ]
        }
      ]
    },
    {
      "cell_type": "markdown",
      "source": [
        "# 5 ROC 곡선과 AUC\n",
        "- 비율이 1이 가까워질 수록 더 좋은 값"
      ],
      "metadata": {
        "id": "uRqnqB_v7UGS"
      }
    },
    {
      "cell_type": "code",
      "source": [
        "from sklearn.metrics import roc_curve\n",
        "\n",
        "pred_proba_class1 = lr_clf.predict_proba(X_test)[:, 1]\n",
        "\n",
        "fprs, tprs, thresholds = roc_curve(y_test, pred_proba_class1)\n",
        "\n",
        "thr_index = np.arange(0, thresholds.shape[0], 5)\n",
        "print('샘플 추출을 위한 임곗값 배열의 index 10개:', thr_index)\n",
        "print('샘플용 10개의 임곗값:', np.round(thresholds[thr_index], 2))\n",
        "\n",
        "print('샘플 임곗값별 FPR:', np.round(fprs[thr_index], 3))\n",
        "print('샘플 임곗값별 TPR:', np.round(tprs[thr_index], 3))"
      ],
      "metadata": {
        "colab": {
          "base_uri": "https://localhost:8080/"
        },
        "id": "Ifk2BHPr9ZRb",
        "outputId": "10ae5aec-75cf-4743-f46e-b29de8165dd2"
      },
      "execution_count": 26,
      "outputs": [
        {
          "output_type": "stream",
          "name": "stdout",
          "text": [
            "샘플 추출을 위한 임곗값 배열의 index 10개: [ 0  5 10 15 20 25 30 35 40 45 50]\n",
            "샘플용 10개의 임곗값: [1.94 0.87 0.63 0.55 0.45 0.38 0.31 0.23 0.14 0.13 0.12]\n",
            "샘플 임곗값별 FPR: [0.    0.008 0.025 0.059 0.127 0.186 0.212 0.347 0.61  0.746 0.847]\n",
            "샘플 임곗값별 TPR: [0.    0.246 0.672 0.738 0.787 0.836 0.869 0.902 0.951 0.967 1.   ]\n"
          ]
        }
      ]
    },
    {
      "cell_type": "markdown",
      "source": [
        "# 6 피마 인디언 당뇨병 예측"
      ],
      "metadata": {
        "id": "Mu_wobs-_KJe"
      }
    },
    {
      "cell_type": "code",
      "source": [
        "import numpy as np\n",
        "import pandas as pd\n",
        "import matplotlib.pyplot as plt\n",
        "%matplotlib inline\n",
        "\n",
        "from sklearn.model_selection import train_test_split\n",
        "from sklearn.metrics import accuracy_score, precision_score, recall_score, roc_auc_score\n",
        "from sklearn.metrics import f1_score, confusion_matrix, precision_recall_curve, roc_auc_score\n",
        "from sklearn.preprocessing import StandardScaler # 스케일링\n",
        "from sklearn.linear_model import LogisticRegression\n",
        "\n",
        "diabetes_data = pd.read_csv('diabetes.csv')\n",
        "print(diabetes_data['Outcome'].value_counts()) # 데이터의 분포 확인\n",
        "diabetes_data.head()"
      ],
      "metadata": {
        "colab": {
          "base_uri": "https://localhost:8080/",
          "height": 261
        },
        "id": "kxMH_gGbBHoO",
        "outputId": "d42423ac-f6c5-4453-f2f5-c7a6a1a52aa5"
      },
      "execution_count": 27,
      "outputs": [
        {
          "output_type": "stream",
          "name": "stdout",
          "text": [
            "0    500\n",
            "1    268\n",
            "Name: Outcome, dtype: int64\n"
          ]
        },
        {
          "output_type": "execute_result",
          "data": {
            "text/plain": [
              "   Pregnancies  Glucose  BloodPressure  SkinThickness  Insulin   BMI  \\\n",
              "0            6      148             72             35        0  33.6   \n",
              "1            1       85             66             29        0  26.6   \n",
              "2            8      183             64              0        0  23.3   \n",
              "3            1       89             66             23       94  28.1   \n",
              "4            0      137             40             35      168  43.1   \n",
              "\n",
              "   DiabetesPedigreeFunction  Age  Outcome  \n",
              "0                     0.627   50        1  \n",
              "1                     0.351   31        0  \n",
              "2                     0.672   32        1  \n",
              "3                     0.167   21        0  \n",
              "4                     2.288   33        1  "
            ],
            "text/html": [
              "\n",
              "  <div id=\"df-a6f16686-9173-4324-a902-e5f16994fb46\">\n",
              "    <div class=\"colab-df-container\">\n",
              "      <div>\n",
              "<style scoped>\n",
              "    .dataframe tbody tr th:only-of-type {\n",
              "        vertical-align: middle;\n",
              "    }\n",
              "\n",
              "    .dataframe tbody tr th {\n",
              "        vertical-align: top;\n",
              "    }\n",
              "\n",
              "    .dataframe thead th {\n",
              "        text-align: right;\n",
              "    }\n",
              "</style>\n",
              "<table border=\"1\" class=\"dataframe\">\n",
              "  <thead>\n",
              "    <tr style=\"text-align: right;\">\n",
              "      <th></th>\n",
              "      <th>Pregnancies</th>\n",
              "      <th>Glucose</th>\n",
              "      <th>BloodPressure</th>\n",
              "      <th>SkinThickness</th>\n",
              "      <th>Insulin</th>\n",
              "      <th>BMI</th>\n",
              "      <th>DiabetesPedigreeFunction</th>\n",
              "      <th>Age</th>\n",
              "      <th>Outcome</th>\n",
              "    </tr>\n",
              "  </thead>\n",
              "  <tbody>\n",
              "    <tr>\n",
              "      <th>0</th>\n",
              "      <td>6</td>\n",
              "      <td>148</td>\n",
              "      <td>72</td>\n",
              "      <td>35</td>\n",
              "      <td>0</td>\n",
              "      <td>33.6</td>\n",
              "      <td>0.627</td>\n",
              "      <td>50</td>\n",
              "      <td>1</td>\n",
              "    </tr>\n",
              "    <tr>\n",
              "      <th>1</th>\n",
              "      <td>1</td>\n",
              "      <td>85</td>\n",
              "      <td>66</td>\n",
              "      <td>29</td>\n",
              "      <td>0</td>\n",
              "      <td>26.6</td>\n",
              "      <td>0.351</td>\n",
              "      <td>31</td>\n",
              "      <td>0</td>\n",
              "    </tr>\n",
              "    <tr>\n",
              "      <th>2</th>\n",
              "      <td>8</td>\n",
              "      <td>183</td>\n",
              "      <td>64</td>\n",
              "      <td>0</td>\n",
              "      <td>0</td>\n",
              "      <td>23.3</td>\n",
              "      <td>0.672</td>\n",
              "      <td>32</td>\n",
              "      <td>1</td>\n",
              "    </tr>\n",
              "    <tr>\n",
              "      <th>3</th>\n",
              "      <td>1</td>\n",
              "      <td>89</td>\n",
              "      <td>66</td>\n",
              "      <td>23</td>\n",
              "      <td>94</td>\n",
              "      <td>28.1</td>\n",
              "      <td>0.167</td>\n",
              "      <td>21</td>\n",
              "      <td>0</td>\n",
              "    </tr>\n",
              "    <tr>\n",
              "      <th>4</th>\n",
              "      <td>0</td>\n",
              "      <td>137</td>\n",
              "      <td>40</td>\n",
              "      <td>35</td>\n",
              "      <td>168</td>\n",
              "      <td>43.1</td>\n",
              "      <td>2.288</td>\n",
              "      <td>33</td>\n",
              "      <td>1</td>\n",
              "    </tr>\n",
              "  </tbody>\n",
              "</table>\n",
              "</div>\n",
              "      <button class=\"colab-df-convert\" onclick=\"convertToInteractive('df-a6f16686-9173-4324-a902-e5f16994fb46')\"\n",
              "              title=\"Convert this dataframe to an interactive table.\"\n",
              "              style=\"display:none;\">\n",
              "        \n",
              "  <svg xmlns=\"http://www.w3.org/2000/svg\" height=\"24px\"viewBox=\"0 0 24 24\"\n",
              "       width=\"24px\">\n",
              "    <path d=\"M0 0h24v24H0V0z\" fill=\"none\"/>\n",
              "    <path d=\"M18.56 5.44l.94 2.06.94-2.06 2.06-.94-2.06-.94-.94-2.06-.94 2.06-2.06.94zm-11 1L8.5 8.5l.94-2.06 2.06-.94-2.06-.94L8.5 2.5l-.94 2.06-2.06.94zm10 10l.94 2.06.94-2.06 2.06-.94-2.06-.94-.94-2.06-.94 2.06-2.06.94z\"/><path d=\"M17.41 7.96l-1.37-1.37c-.4-.4-.92-.59-1.43-.59-.52 0-1.04.2-1.43.59L10.3 9.45l-7.72 7.72c-.78.78-.78 2.05 0 2.83L4 21.41c.39.39.9.59 1.41.59.51 0 1.02-.2 1.41-.59l7.78-7.78 2.81-2.81c.8-.78.8-2.07 0-2.86zM5.41 20L4 18.59l7.72-7.72 1.47 1.35L5.41 20z\"/>\n",
              "  </svg>\n",
              "      </button>\n",
              "      \n",
              "  <style>\n",
              "    .colab-df-container {\n",
              "      display:flex;\n",
              "      flex-wrap:wrap;\n",
              "      gap: 12px;\n",
              "    }\n",
              "\n",
              "    .colab-df-convert {\n",
              "      background-color: #E8F0FE;\n",
              "      border: none;\n",
              "      border-radius: 50%;\n",
              "      cursor: pointer;\n",
              "      display: none;\n",
              "      fill: #1967D2;\n",
              "      height: 32px;\n",
              "      padding: 0 0 0 0;\n",
              "      width: 32px;\n",
              "    }\n",
              "\n",
              "    .colab-df-convert:hover {\n",
              "      background-color: #E2EBFA;\n",
              "      box-shadow: 0px 1px 2px rgba(60, 64, 67, 0.3), 0px 1px 3px 1px rgba(60, 64, 67, 0.15);\n",
              "      fill: #174EA6;\n",
              "    }\n",
              "\n",
              "    [theme=dark] .colab-df-convert {\n",
              "      background-color: #3B4455;\n",
              "      fill: #D2E3FC;\n",
              "    }\n",
              "\n",
              "    [theme=dark] .colab-df-convert:hover {\n",
              "      background-color: #434B5C;\n",
              "      box-shadow: 0px 1px 3px 1px rgba(0, 0, 0, 0.15);\n",
              "      filter: drop-shadow(0px 1px 2px rgba(0, 0, 0, 0.3));\n",
              "      fill: #FFFFFF;\n",
              "    }\n",
              "  </style>\n",
              "\n",
              "      <script>\n",
              "        const buttonEl =\n",
              "          document.querySelector('#df-a6f16686-9173-4324-a902-e5f16994fb46 button.colab-df-convert');\n",
              "        buttonEl.style.display =\n",
              "          google.colab.kernel.accessAllowed ? 'block' : 'none';\n",
              "\n",
              "        async function convertToInteractive(key) {\n",
              "          const element = document.querySelector('#df-a6f16686-9173-4324-a902-e5f16994fb46');\n",
              "          const dataTable =\n",
              "            await google.colab.kernel.invokeFunction('convertToInteractive',\n",
              "                                                     [key], {});\n",
              "          if (!dataTable) return;\n",
              "\n",
              "          const docLinkHtml = 'Like what you see? Visit the ' +\n",
              "            '<a target=\"_blank\" href=https://colab.research.google.com/notebooks/data_table.ipynb>data table notebook</a>'\n",
              "            + ' to learn more about interactive tables.';\n",
              "          element.innerHTML = '';\n",
              "          dataTable['output_type'] = 'display_data';\n",
              "          await google.colab.output.renderOutput(dataTable, element);\n",
              "          const docLink = document.createElement('div');\n",
              "          docLink.innerHTML = docLinkHtml;\n",
              "          element.appendChild(docLink);\n",
              "        }\n",
              "      </script>\n",
              "    </div>\n",
              "  </div>\n",
              "  "
            ]
          },
          "metadata": {},
          "execution_count": 27
        }
      ]
    },
    {
      "cell_type": "code",
      "source": [
        "diabetes_data.info()"
      ],
      "metadata": {
        "colab": {
          "base_uri": "https://localhost:8080/"
        },
        "id": "p4_qs7LAJNid",
        "outputId": "b1a7a74a-b213-49d0-852f-d3d81266d833"
      },
      "execution_count": 28,
      "outputs": [
        {
          "output_type": "stream",
          "name": "stdout",
          "text": [
            "<class 'pandas.core.frame.DataFrame'>\n",
            "RangeIndex: 768 entries, 0 to 767\n",
            "Data columns (total 9 columns):\n",
            " #   Column                    Non-Null Count  Dtype  \n",
            "---  ------                    --------------  -----  \n",
            " 0   Pregnancies               768 non-null    int64  \n",
            " 1   Glucose                   768 non-null    int64  \n",
            " 2   BloodPressure             768 non-null    int64  \n",
            " 3   SkinThickness             768 non-null    int64  \n",
            " 4   Insulin                   768 non-null    int64  \n",
            " 5   BMI                       768 non-null    float64\n",
            " 6   DiabetesPedigreeFunction  768 non-null    float64\n",
            " 7   Age                       768 non-null    int64  \n",
            " 8   Outcome                   768 non-null    int64  \n",
            "dtypes: float64(2), int64(7)\n",
            "memory usage: 54.1 KB\n"
          ]
        }
      ]
    },
    {
      "cell_type": "code",
      "source": [
        "from scipy.sparse.linalg.isolve.iterative import non_reentrant\n",
        "def get_clf_eval(y_test, pred, pred_proba = None):\n",
        "  confusion = confusion_matrix(y_test, pred)\n",
        "  accuracy = accuracy_score(y_test, pred)\n",
        "  precision = precision_score(y_test, pred)\n",
        "  recall = recall_score(y_test, pred)\n",
        "  f1 = f1_score(y_test, pred)\n",
        "  # ROC_AUC 추가\n",
        "  roc_auc = roc_auc_score(y_test, pred_proba)\n",
        "  print('오차행렬')\n",
        "  print(confusion)\n",
        "  print('정확도;{0:.4f}, 정밀도 : {1:.4f}, 재현율 : {2:.4f}, F1 : {3:.4f}, AUC:{4:.4f}'.format(accuracy, precision, recall, f1, roc_auc))\n",
        "  "
      ],
      "metadata": {
        "id": "A0TV9n90JY18"
      },
      "execution_count": 32,
      "outputs": []
    },
    {
      "cell_type": "code",
      "source": [
        "def precision_recall_curve_plot(y_test = None, pred_proba_c1 = None):\n",
        "  precisions, recalls, thresholds = precision_recall_curve(y_test, pred_proba_c1)\n",
        "\n",
        "  plt.figure(figsize = (8, 6))\n",
        "  threshold_boundary = thresholds.shape[0]\n",
        "  plt.plot(thresholds, precisions[0: threshold_boundary],linestyle = '--', label = 'precision')\n",
        "  plt.plot(thresholds, recalls[0: threshold_boundary], label='recall')\n",
        "\n",
        "  start, end = plt.xlim()\n",
        "  plt.xticks(np.round(np.arange(start, end, 0.1), 2))\n",
        "\n",
        "  plt.xlabel('Threshold value'); plt.ylabel('Precision and Recall value')\n",
        "  plt.legend(); plt.grid()\n",
        "  plt.show()\n",
        "\n",
        "precision_recall_curve_plot(y_test, lr_clf.predict_proba(X_test)[:, 1])"
      ],
      "metadata": {
        "colab": {
          "base_uri": "https://localhost:8080/",
          "height": 388
        },
        "id": "2GBVMAOeLCw_",
        "outputId": "5e9cc07b-93e2-43e6-e5a0-7fbccb47d341"
      },
      "execution_count": 33,
      "outputs": [
        {
          "output_type": "display_data",
          "data": {
            "text/plain": [
              "<Figure size 576x432 with 1 Axes>"
            ],
            "image/png": "[encoded data removed]"
          },
          "metadata": {
            "needs_background": "light"
          }
        }
      ]
    },
    {
      "cell_type": "code",
      "source": [
        "X = diabetes_data.iloc[:, :-1]\n",
        "y = diabetes_data.iloc[:, -1]\n",
        "\n",
        "X_train, X_test, y_train, y_test = train_test_split(X, y, test_size = 0.2, random_state = 156, stratify = y)\n",
        "\n",
        "lr_clf = LogisticRegression(max_iter = 1000)\n",
        "lr_clf.fit(X_train, y_train)\n",
        "pred = lr_clf.predict(X_test)\n",
        "get_clf_eval(y_test, pred)"
      ],
      "metadata": {
        "colab": {
          "base_uri": "https://localhost:8080/",
          "height": 420
        },
        "id": "O80YXa9_L0Rt",
        "outputId": "988bdb93-2894-44b2-f0b9-9eda210f2243"
      },
      "execution_count": 34,
      "outputs": [
        {
          "output_type": "stream",
          "name": "stderr",
          "text": [
            "/usr/local/lib/python3.8/dist-packages/sklearn/metrics/_ranking.py:546: FutureWarning: Arrays of bytes/strings is being converted to decimal numbers if dtype='numeric'. This behavior is deprecated in 0.24 and will be removed in 1.1 (renaming of 0.26). Please convert your data to numeric values explicitly instead.\n",
            "  y_score = check_array(y_score, ensure_2d=False)\n"
          ]
        },
        {
          "output_type": "error",
          "ename": "ValueError",
          "evalue": "ignored",
          "traceback": [
            "\u001b[0;31m---------------------------------------------------------------------------\u001b[0m",
            "\u001b[0;31mValueError\u001b[0m                                Traceback (most recent call last)",
            "\u001b[0;32m<ipython-input-34-29a8b3e9610f>\u001b[0m in \u001b[0;36m<module>\u001b[0;34m\u001b[0m\n\u001b[1;32m      7\u001b[0m \u001b[0mlr_clf\u001b[0m\u001b[0;34m.\u001b[0m\u001b[0mfit\u001b[0m\u001b[0;34m(\u001b[0m\u001b[0mX_train\u001b[0m\u001b[0;34m,\u001b[0m \u001b[0my_train\u001b[0m\u001b[0;34m)\u001b[0m\u001b[0;34m\u001b[0m\u001b[0;34m\u001b[0m\u001b[0m\n\u001b[1;32m      8\u001b[0m \u001b[0mpred\u001b[0m \u001b[0;34m=\u001b[0m \u001b[0mlr_clf\u001b[0m\u001b[0;34m.\u001b[0m\u001b[0mpredict\u001b[0m\u001b[0;34m(\u001b[0m\u001b[0mX_test\u001b[0m\u001b[0;34m)\u001b[0m\u001b[0;34m\u001b[0m\u001b[0;34m\u001b[0m\u001b[0m\n\u001b[0;32m----> 9\u001b[0;31m \u001b[0mget_clf_eval\u001b[0m\u001b[0;34m(\u001b[0m\u001b[0my_test\u001b[0m\u001b[0;34m,\u001b[0m \u001b[0mpred\u001b[0m\u001b[0;34m)\u001b[0m\u001b[0;34m\u001b[0m\u001b[0;34m\u001b[0m\u001b[0m\n\u001b[0m",
            "\u001b[0;32m<ipython-input-32-0328f71a2a37>\u001b[0m in \u001b[0;36mget_clf_eval\u001b[0;34m(y_test, pred, pred_proba)\u001b[0m\n\u001b[1;32m      7\u001b[0m   \u001b[0mf1\u001b[0m \u001b[0;34m=\u001b[0m \u001b[0mf1_score\u001b[0m\u001b[0;34m(\u001b[0m\u001b[0my_test\u001b[0m\u001b[0;34m,\u001b[0m \u001b[0mpred\u001b[0m\u001b[0;34m)\u001b[0m\u001b[0;34m\u001b[0m\u001b[0;34m\u001b[0m\u001b[0m\n\u001b[1;32m      8\u001b[0m   \u001b[0;31m# ROC_AUC 추가\u001b[0m\u001b[0;34m\u001b[0m\u001b[0;34m\u001b[0m\u001b[0;34m\u001b[0m\u001b[0m\n\u001b[0;32m----> 9\u001b[0;31m   \u001b[0mroc_auc\u001b[0m \u001b[0;34m=\u001b[0m \u001b[0mroc_auc_score\u001b[0m\u001b[0;34m(\u001b[0m\u001b[0my_test\u001b[0m\u001b[0;34m,\u001b[0m \u001b[0mpred_proba\u001b[0m\u001b[0;34m)\u001b[0m\u001b[0;34m\u001b[0m\u001b[0;34m\u001b[0m\u001b[0m\n\u001b[0m\u001b[1;32m     10\u001b[0m   \u001b[0mprint\u001b[0m\u001b[0;34m(\u001b[0m\u001b[0;34m'오차행렬'\u001b[0m\u001b[0;34m)\u001b[0m\u001b[0;34m\u001b[0m\u001b[0;34m\u001b[0m\u001b[0m\n\u001b[1;32m     11\u001b[0m   \u001b[0mprint\u001b[0m\u001b[0;34m(\u001b[0m\u001b[0mconfusion\u001b[0m\u001b[0;34m)\u001b[0m\u001b[0;34m\u001b[0m\u001b[0;34m\u001b[0m\u001b[0m\n",
            "\u001b[0;32m/usr/local/lib/python3.8/dist-packages/sklearn/metrics/_ranking.py\u001b[0m in \u001b[0;36mroc_auc_score\u001b[0;34m(y_true, y_score, average, sample_weight, max_fpr, multi_class, labels)\u001b[0m\n\u001b[1;32m    544\u001b[0m     \u001b[0my_type\u001b[0m \u001b[0;34m=\u001b[0m \u001b[0mtype_of_target\u001b[0m\u001b[0;34m(\u001b[0m\u001b[0my_true\u001b[0m\u001b[0;34m)\u001b[0m\u001b[0;34m\u001b[0m\u001b[0;34m\u001b[0m\u001b[0m\n\u001b[1;32m    545\u001b[0m     \u001b[0my_true\u001b[0m \u001b[0;34m=\u001b[0m \u001b[0mcheck_array\u001b[0m\u001b[0;34m(\u001b[0m\u001b[0my_true\u001b[0m\u001b[0;34m,\u001b[0m \u001b[0mensure_2d\u001b[0m\u001b[0;34m=\u001b[0m\u001b[0;32mFalse\u001b[0m\u001b[0;34m,\u001b[0m \u001b[0mdtype\u001b[0m\u001b[0;34m=\u001b[0m\u001b[0;32mNone\u001b[0m\u001b[0;34m)\u001b[0m\u001b[0;34m\u001b[0m\u001b[0;34m\u001b[0m\u001b[0m\n\u001b[0;32m--> 546\u001b[0;31m     \u001b[0my_score\u001b[0m \u001b[0;34m=\u001b[0m \u001b[0mcheck_array\u001b[0m\u001b[0;34m(\u001b[0m\u001b[0my_score\u001b[0m\u001b[0;34m,\u001b[0m \u001b[0mensure_2d\u001b[0m\u001b[0;34m=\u001b[0m\u001b[0;32mFalse\u001b[0m\u001b[0;34m)\u001b[0m\u001b[0;34m\u001b[0m\u001b[0;34m\u001b[0m\u001b[0m\n\u001b[0m\u001b[1;32m    547\u001b[0m \u001b[0;34m\u001b[0m\u001b[0m\n\u001b[1;32m    548\u001b[0m     if y_type == \"multiclass\" or (\n",
            "\u001b[0;32m/usr/local/lib/python3.8/dist-packages/sklearn/utils/validation.py\u001b[0m in \u001b[0;36mcheck_array\u001b[0;34m(array, accept_sparse, accept_large_sparse, dtype, order, copy, force_all_finite, ensure_2d, allow_nd, ensure_min_samples, ensure_min_features, estimator)\u001b[0m\n\u001b[1;32m    798\u001b[0m \u001b[0;34m\u001b[0m\u001b[0m\n\u001b[1;32m    799\u001b[0m         \u001b[0;32mif\u001b[0m \u001b[0mforce_all_finite\u001b[0m\u001b[0;34m:\u001b[0m\u001b[0;34m\u001b[0m\u001b[0;34m\u001b[0m\u001b[0m\n\u001b[0;32m--> 800\u001b[0;31m             \u001b[0m_assert_all_finite\u001b[0m\u001b[0;34m(\u001b[0m\u001b[0marray\u001b[0m\u001b[0;34m,\u001b[0m \u001b[0mallow_nan\u001b[0m\u001b[0;34m=\u001b[0m\u001b[0mforce_all_finite\u001b[0m \u001b[0;34m==\u001b[0m \u001b[0;34m\"allow-nan\"\u001b[0m\u001b[0;34m)\u001b[0m\u001b[0;34m\u001b[0m\u001b[0;34m\u001b[0m\u001b[0m\n\u001b[0m\u001b[1;32m    801\u001b[0m \u001b[0;34m\u001b[0m\u001b[0m\n\u001b[1;32m    802\u001b[0m     \u001b[0;32mif\u001b[0m \u001b[0mensure_min_samples\u001b[0m \u001b[0;34m>\u001b[0m \u001b[0;36m0\u001b[0m\u001b[0;34m:\u001b[0m\u001b[0;34m\u001b[0m\u001b[0;34m\u001b[0m\u001b[0m\n",
            "\u001b[0;32m/usr/local/lib/python3.8/dist-packages/sklearn/utils/validation.py\u001b[0m in \u001b[0;36m_assert_all_finite\u001b[0;34m(X, allow_nan, msg_dtype)\u001b[0m\n\u001b[1;32m    112\u001b[0m         ):\n\u001b[1;32m    113\u001b[0m             \u001b[0mtype_err\u001b[0m \u001b[0;34m=\u001b[0m \u001b[0;34m\"infinity\"\u001b[0m \u001b[0;32mif\u001b[0m \u001b[0mallow_nan\u001b[0m \u001b[0;32melse\u001b[0m \u001b[0;34m\"NaN, infinity\"\u001b[0m\u001b[0;34m\u001b[0m\u001b[0;34m\u001b[0m\u001b[0m\n\u001b[0;32m--> 114\u001b[0;31m             raise ValueError(\n\u001b[0m\u001b[1;32m    115\u001b[0m                 msg_err.format(\n\u001b[1;32m    116\u001b[0m                     \u001b[0mtype_err\u001b[0m\u001b[0;34m,\u001b[0m \u001b[0mmsg_dtype\u001b[0m \u001b[0;32mif\u001b[0m \u001b[0mmsg_dtype\u001b[0m \u001b[0;32mis\u001b[0m \u001b[0;32mnot\u001b[0m \u001b[0;32mNone\u001b[0m \u001b[0;32melse\u001b[0m \u001b[0mX\u001b[0m\u001b[0;34m.\u001b[0m\u001b[0mdtype\u001b[0m\u001b[0;34m\u001b[0m\u001b[0;34m\u001b[0m\u001b[0m\n",
            "\u001b[0;31mValueError\u001b[0m: Input contains NaN, infinity or a value too large for dtype('float64')."
          ]
        }
      ]
    },
    {
      "cell_type": "code",
      "source": [
        "pred_proba_c1 = lr_clf.predict_proba(X_test)[:, 1] # x -> 특성들의 집합\n",
        "precision_recall_curve_plot(y_test, pred_proba_c1)\n"
      ],
      "metadata": {
        "colab": {
          "base_uri": "https://localhost:8080/",
          "height": 388
        },
        "id": "Ubhqb-eKMkUi",
        "outputId": "88de7cb4-c6f4-4915-8b9b-e39072e27e15"
      },
      "execution_count": 35,
      "outputs": [
        {
          "output_type": "display_data",
          "data": {
            "text/plain": [
              "<Figure size 576x432 with 1 Axes>"
            ],
            "image/png": "[encoded data removed]"
          },
          "metadata": {
            "needs_background": "light"
          }
        }
      ]
    },
    {
      "cell_type": "code",
      "source": [
        "diabetes_data.describe()"
      ],
      "metadata": {
        "colab": {
          "base_uri": "https://localhost:8080/",
          "height": 300
        },
        "id": "CUfCjiQFOTCL",
        "outputId": "d2f179cb-fa77-441c-f92a-7d428b3d2b50"
      },
      "execution_count": 36,
      "outputs": [
        {
          "output_type": "execute_result",
          "data": {
            "text/plain": [
              "       Pregnancies     Glucose  BloodPressure  SkinThickness     Insulin  \\\n",
              "count   768.000000  768.000000     768.000000     768.000000  768.000000   \n",
              "mean      3.845052  120.894531      69.105469      20.536458   79.799479   \n",
              "std       3.369578   31.972618      19.355807      15.952218  115.244002   \n",
              "min       0.000000    0.000000       0.000000       0.000000    0.000000   \n",
              "25%       1.000000   99.000000      62.000000       0.000000    0.000000   \n",
              "50%       3.000000  117.000000      72.000000      23.000000   30.500000   \n",
              "75%       6.000000  140.250000      80.000000      32.000000  127.250000   \n",
              "max      17.000000  199.000000     122.000000      99.000000  846.000000   \n",
              "\n",
              "              BMI  DiabetesPedigreeFunction         Age     Outcome  \n",
              "count  768.000000                768.000000  768.000000  768.000000  \n",
              "mean    31.992578                  0.471876   33.240885    0.348958  \n",
              "std      7.884160                  0.331329   11.760232    0.476951  \n",
              "min      0.000000                  0.078000   21.000000    0.000000  \n",
              "25%     27.300000                  0.243750   24.000000    0.000000  \n",
              "50%     32.000000                  0.372500   29.000000    0.000000  \n",
              "75%     36.600000                  0.626250   41.000000    1.000000  \n",
              "max     67.100000                  2.420000   81.000000    1.000000  "
            ],
            "text/html": [
              "\n",
              "  <div id=\"df-849e27e9-b78d-4af0-b130-34d8609862be\">\n",
              "    <div class=\"colab-df-container\">\n",
              "      <div>\n",
              "<style scoped>\n",
              "    .dataframe tbody tr th:only-of-type {\n",
              "        vertical-align: middle;\n",
              "    }\n",
              "\n",
              "    .dataframe tbody tr th {\n",
              "        vertical-align: top;\n",
              "    }\n",
              "\n",
              "    .dataframe thead th {\n",
              "        text-align: right;\n",
              "    }\n",
              "</style>\n",
              "<table border=\"1\" class=\"dataframe\">\n",
              "  <thead>\n",
              "    <tr style=\"text-align: right;\">\n",
              "      <th></th>\n",
              "      <th>Pregnancies</th>\n",
              "      <th>Glucose</th>\n",
              "      <th>BloodPressure</th>\n",
              "      <th>SkinThickness</th>\n",
              "      <th>Insulin</th>\n",
              "      <th>BMI</th>\n",
              "      <th>DiabetesPedigreeFunction</th>\n",
              "      <th>Age</th>\n",
              "      <th>Outcome</th>\n",
              "    </tr>\n",
              "  </thead>\n",
              "  <tbody>\n",
              "    <tr>\n",
              "      <th>count</th>\n",
              "      <td>768.000000</td>\n",
              "      <td>768.000000</td>\n",
              "      <td>768.000000</td>\n",
              "      <td>768.000000</td>\n",
              "      <td>768.000000</td>\n",
              "      <td>768.000000</td>\n",
              "      <td>768.000000</td>\n",
              "      <td>768.000000</td>\n",
              "      <td>768.000000</td>\n",
              "    </tr>\n",
              "    <tr>\n",
              "      <th>mean</th>\n",
              "      <td>3.845052</td>\n",
              "      <td>120.894531</td>\n",
              "      <td>69.105469</td>\n",
              "      <td>20.536458</td>\n",
              "      <td>79.799479</td>\n",
              "      <td>31.992578</td>\n",
              "      <td>0.471876</td>\n",
              "      <td>33.240885</td>\n",
              "      <td>0.348958</td>\n",
              "    </tr>\n",
              "    <tr>\n",
              "      <th>std</th>\n",
              "      <td>3.369578</td>\n",
              "      <td>31.972618</td>\n",
              "      <td>19.355807</td>\n",
              "      <td>15.952218</td>\n",
              "      <td>115.244002</td>\n",
              "      <td>7.884160</td>\n",
              "      <td>0.331329</td>\n",
              "      <td>11.760232</td>\n",
              "      <td>0.476951</td>\n",
              "    </tr>\n",
              "    <tr>\n",
              "      <th>min</th>\n",
              "      <td>0.000000</td>\n",
              "      <td>0.000000</td>\n",
              "      <td>0.000000</td>\n",
              "      <td>0.000000</td>\n",
              "      <td>0.000000</td>\n",
              "      <td>0.000000</td>\n",
              "      <td>0.078000</td>\n",
              "      <td>21.000000</td>\n",
              "      <td>0.000000</td>\n",
              "    </tr>\n",
              "    <tr>\n",
              "      <th>25%</th>\n",
              "      <td>1.000000</td>\n",
              "      <td>99.000000</td>\n",
              "      <td>62.000000</td>\n",
              "      <td>0.000000</td>\n",
              "      <td>0.000000</td>\n",
              "      <td>27.300000</td>\n",
              "      <td>0.243750</td>\n",
              "      <td>24.000000</td>\n",
              "      <td>0.000000</td>\n",
              "    </tr>\n",
              "    <tr>\n",
              "      <th>50%</th>\n",
              "      <td>3.000000</td>\n",
              "      <td>117.000000</td>\n",
              "      <td>72.000000</td>\n",
              "      <td>23.000000</td>\n",
              "      <td>30.500000</td>\n",
              "      <td>32.000000</td>\n",
              "      <td>0.372500</td>\n",
              "      <td>29.000000</td>\n",
              "      <td>0.000000</td>\n",
              "    </tr>\n",
              "    <tr>\n",
              "      <th>75%</th>\n",
              "      <td>6.000000</td>\n",
              "      <td>140.250000</td>\n",
              "      <td>80.000000</td>\n",
              "      <td>32.000000</td>\n",
              "      <td>127.250000</td>\n",
              "      <td>36.600000</td>\n",
              "      <td>0.626250</td>\n",
              "      <td>41.000000</td>\n",
              "      <td>1.000000</td>\n",
              "    </tr>\n",
              "    <tr>\n",
              "      <th>max</th>\n",
              "      <td>17.000000</td>\n",
              "      <td>199.000000</td>\n",
              "      <td>122.000000</td>\n",
              "      <td>99.000000</td>\n",
              "      <td>846.000000</td>\n",
              "      <td>67.100000</td>\n",
              "      <td>2.420000</td>\n",
              "      <td>81.000000</td>\n",
              "      <td>1.000000</td>\n",
              "    </tr>\n",
              "  </tbody>\n",
              "</table>\n",
              "</div>\n",
              "      <button class=\"colab-df-convert\" onclick=\"convertToInteractive('df-849e27e9-b78d-4af0-b130-34d8609862be')\"\n",
              "              title=\"Convert this dataframe to an interactive table.\"\n",
              "              style=\"display:none;\">\n",
              "        \n",
              "  <svg xmlns=\"http://www.w3.org/2000/svg\" height=\"24px\"viewBox=\"0 0 24 24\"\n",
              "       width=\"24px\">\n",
              "    <path d=\"M0 0h24v24H0V0z\" fill=\"none\"/>\n",
              "    <path d=\"M18.56 5.44l.94 2.06.94-2.06 2.06-.94-2.06-.94-.94-2.06-.94 2.06-2.06.94zm-11 1L8.5 8.5l.94-2.06 2.06-.94-2.06-.94L8.5 2.5l-.94 2.06-2.06.94zm10 10l.94 2.06.94-2.06 2.06-.94-2.06-.94-.94-2.06-.94 2.06-2.06.94z\"/><path d=\"M17.41 7.96l-1.37-1.37c-.4-.4-.92-.59-1.43-.59-.52 0-1.04.2-1.43.59L10.3 9.45l-7.72 7.72c-.78.78-.78 2.05 0 2.83L4 21.41c.39.39.9.59 1.41.59.51 0 1.02-.2 1.41-.59l7.78-7.78 2.81-2.81c.8-.78.8-2.07 0-2.86zM5.41 20L4 18.59l7.72-7.72 1.47 1.35L5.41 20z\"/>\n",
              "  </svg>\n",
              "      </button>\n",
              "      \n",
              "  <style>\n",
              "    .colab-df-container {\n",
              "      display:flex;\n",
              "      flex-wrap:wrap;\n",
              "      gap: 12px;\n",
              "    }\n",
              "\n",
              "    .colab-df-convert {\n",
              "      background-color: #E8F0FE;\n",
              "      border: none;\n",
              "      border-radius: 50%;\n",
              "      cursor: pointer;\n",
              "      display: none;\n",
              "      fill: #1967D2;\n",
              "      height: 32px;\n",
              "      padding: 0 0 0 0;\n",
              "      width: 32px;\n",
              "    }\n",
              "\n",
              "    .colab-df-convert:hover {\n",
              "      background-color: #E2EBFA;\n",
              "      box-shadow: 0px 1px 2px rgba(60, 64, 67, 0.3), 0px 1px 3px 1px rgba(60, 64, 67, 0.15);\n",
              "      fill: #174EA6;\n",
              "    }\n",
              "\n",
              "    [theme=dark] .colab-df-convert {\n",
              "      background-color: #3B4455;\n",
              "      fill: #D2E3FC;\n",
              "    }\n",
              "\n",
              "    [theme=dark] .colab-df-convert:hover {\n",
              "      background-color: #434B5C;\n",
              "      box-shadow: 0px 1px 3px 1px rgba(0, 0, 0, 0.15);\n",
              "      filter: drop-shadow(0px 1px 2px rgba(0, 0, 0, 0.3));\n",
              "      fill: #FFFFFF;\n",
              "    }\n",
              "  </style>\n",
              "\n",
              "      <script>\n",
              "        const buttonEl =\n",
              "          document.querySelector('#df-849e27e9-b78d-4af0-b130-34d8609862be button.colab-df-convert');\n",
              "        buttonEl.style.display =\n",
              "          google.colab.kernel.accessAllowed ? 'block' : 'none';\n",
              "\n",
              "        async function convertToInteractive(key) {\n",
              "          const element = document.querySelector('#df-849e27e9-b78d-4af0-b130-34d8609862be');\n",
              "          const dataTable =\n",
              "            await google.colab.kernel.invokeFunction('convertToInteractive',\n",
              "                                                     [key], {});\n",
              "          if (!dataTable) return;\n",
              "\n",
              "          const docLinkHtml = 'Like what you see? Visit the ' +\n",
              "            '<a target=\"_blank\" href=https://colab.research.google.com/notebooks/data_table.ipynb>data table notebook</a>'\n",
              "            + ' to learn more about interactive tables.';\n",
              "          element.innerHTML = '';\n",
              "          dataTable['output_type'] = 'display_data';\n",
              "          await google.colab.output.renderOutput(dataTable, element);\n",
              "          const docLink = document.createElement('div');\n",
              "          docLink.innerHTML = docLinkHtml;\n",
              "          element.appendChild(docLink);\n",
              "        }\n",
              "      </script>\n",
              "    </div>\n",
              "  </div>\n",
              "  "
            ]
          },
          "metadata": {},
          "execution_count": 36
        }
      ]
    },
    {
      "cell_type": "markdown",
      "source": [
        "![image.png](data:image/png;base64,iVBORw0KGgoAAAANSUhEUgAABFgAAAFsCAYAAAD40A25AAAAAXNSR0IArs4c6QAAAARnQU1BAACxjwv8YQUAAAAJcEhZcwAADsMAAA7DAcdvqGQAAMIsSURBVHhe7b0LnBzFde9/Zhch7er9QtoHCzIIg7AFzgazxsFGiQM4MRaJMTjBSu69MnLixKCbQBL+DsbEwdzEJJHsxHGEFd8EyDWYJCiOY0HiiBgbRIgcwOZhhC2Q94HQW+iFpJ35n1NdPdPd093VPdUz0zP7+34+vdPV1TvTfeqcU1Wnq6oJAAAAAAAAAAAAAAAAAAAAAAAAAAAAAAAAAACHXXPmzHj1lFMW6CQAAAAAAGgROvQnAAAAAJrMaF/f+mNdXfuLkya9OtLb+42Rnp536iwAAAAAAJBzCvoTAAAAAE1kpKfn7EJHx/M6WaZE9L/7RkbW6CQAAAAAAMgpCLAAAECO+P6SJSfPP3Rozoljx070jY3t0ofBBGG0r+87/HGRk6rAlfVQz8jIEzoJAAAAAAByCAIsAADQYPa86U0z33jjjbcVic4vlEo/SYXCaXz4FCqVTuH9Wc5ZxMnScf74caFQGCkRjfH+C3zsW32jo4+w8x5XJ4G24rWBgZ4TJ078Ly7vs7ncP6wPyyiWP+kbGblRJxMx2tMzSB0d72JdeQzBGQAAAACA+oMACwAANIDRhQuXlDo730+l0pXccb5QH66NUukIFQr/xHubjnd0fO20H/941MkA7cRob+86LufrZL9UKj3bNzr6FpWRgG2nnTZr8okTe3WSiqXSh/pHR+/TSQAAAAAAUAcQYAEAgDoy0tNzaaFQ+BXuKF+rD2VKiWi8UCp96kRHxxcGhof36MOgDRjp77+My3ajTlKho+MtPT/+8bM6GctYX9+FrBubdVL05LWOEyfe2rNjx2v6EAAAAAAAyBi8RQgAADKGO7Odw729/3O0r+9R7hQ/VK/gilDg3+Lv/3RnqbRtrLf3ppGenm6dBVqcvuHhh6hU2qqTRMXi6XrPiJ4S9E0npfTklGJn56d1EgAAAAAA1AGMYAEAgIwYW7BgUamz89pSofCb7FwX6MNGSqXSk/yxm7dd/H+7+f/3FUqlSVQoyHecwvkL+fhiTpfXZ4nh8WKpdEv/6Gi5c92OjPT0XMnyWMHbe1iA32b5fLN3dPRPdXZbIAsez9m//w2dlGk+b+NyfUonjYz29a3ij79yUg6lYvGyvrGxh3USAAAAAABkCAIsAABgydiCBaeUOjt/jTv7t+lDsZRKpXv43P8qFApPnXz48H/P27PngM6KZbS//11ULF5cInoP/+8l+nAUv9I7MnK33m8rRvv63ssf/+KkPBQK7+4dHv6WTtWFkb6+T3HFeX6pWLy+b2xsuz5cF0YXLjyHOjuf00kJjkzl3zysk0ZUwO+kk36kky7fZL14j94HAAAAAAAZggALAABYMNzbe00H0Z9y575XH4rihRLRF6lYvDeL1y/z757Fv/vr/Lur9aEq+Pdu7hsZ+T862TaM9Pb+e6FQWCb78lYl/tjCctjF9/oZOVYvVICrVPoP2WfZ/iH/3i0qo06M9vX9HH98Xfb5957n31si+2ng7/g3/vgZJ1WmbYNvAAAAAADNBGuwAABADcioFe7of7GjUPhKXHClVCpJB/mD3KE9hzvIa7MIrgj9o6Mv9o6O/u9CofBWFbgJoUB0x0hf31/oZFsga9t4givHO8bHP9g3Ovpb9Q6uCIVSabrelR+/Uu/Vj1LpUr0nv/0dvZsK1o1/1rsVSqVb+HinTgEAAAAAgIxAgAUAAFIio1ZKnZ3/zR39j+pDVXAH9gvFUuki7vy/r3dk5AF9OHN6hoe/3zcy8uulQuEXJeCgD5cpEH1stLf3z3Sy5eH7+VW9K/ufrvWtONv7++fo3cSUisVX9S5x2b9lx2mnLdTJzJHXLMtaPjpJRc+CtWnoKBRkBIufQmHxaE/Pb+sUAAAAAADICARYAAAgIUlGrZSIbiuWSgN9IyO/0T86+rg+XHf6hof/sdDR8c5SqfR9fahCobB6pK/vD3Sq1blIf1JhfPwevZuIH/f19bMcbh7t7X3xpFJpN+9/WWclgsv2Fb2rOHHs2Jl6N3MmnzhxTaEyymR33+jo/Xo/FRKAY52QRZT9dHTcofcAAAAAAEBGIMACAAAJ0KNWvhs1akU6scVS6T19IyOf6h8d/bE+3FB6h4efPGnSpJ/l3Q3OkQrcWb9lpKfnd3SyJeEyOJXlP0n2S0TFhTt2vKwyEjDW13cJV3j/xQW1slQo3CfHWCb/g2VytjohATK9i393h05SoaOjbiNYmF/Rn6Jcd4329f0xb//I2z+xHN6vcxLB9/lPercMH+vg7/lfOgkAAAAAADIAARYAADAggQk9aqVPH/LBne4/7B0dHcrDq5EXvPLKqz0LF36w5Kz94qPQ0fFHo729v66TrUi//pSgw3MFJXozo319v8gnbuLz/6ZvdPRMKhYf1Vkik0V6NxH8HeW38pSSvTY7NSP9/R/hj/JIHda73+PflSk9su7LFayLG4Z7e69QeQnwTBP6mv5U8HfKIroAAAAAACAjEGABAIAYRnt7PyOBCZ0M8t1SsXhp38jILdxZLepjTaewZcvx8Y4OGQHxbeeIh0LhC9w5/5BOtRQdhUKP3hVe1J+x8L2eXyKS6TUf7R0Z+V11sFBYoT4ZrgT36t1ElEqlcr1ZKBZn6t1EvDYw0DPS03MpX9M1YwsWTNWHfXB+d6FU+qRORsL69j69a2ThyMhmvu7jfPHb9CFFoVD4AP/ePJ0EAAAAAACWIMACAAARjPT1fYF7oTfrpJ9S6Y6ehQuH+sbG/lUfyRUDw8N7CidOrOCOddWaLNyxvuvHfX2LdbJlKJZKanqQUCAKDVB4KUlMhmhtoVS6rXdkZJ0cG+vvfwvf/4fVCczJkyc/r3cTwf87We/KCJbZejeS0Z6eQVlkeLSv7wcnxsdHCx0dD8loqFJn5w9k2pI+rQx//438caqTiobPK8siIbv5nypvQdLw9VyudwEAAAAAgCUIsAAAQAgjvb1/yp3z6uk0pdIId6wv7x0d/f9kpIg+mkt6dux4uaOj45fkmvUhBd/XtI5Sqe6vNY5C3uAz0tPzE8O9vW/WhxLR4QkqlIiM03PGenv/pFAo/JDL6tP6EBWLRe+6I/8650c/2q/3E8G/Ww6wFEqlyCAP39vbRnt711FHx39RobCaD53l5GgKhb5SqfSTOqUY6+v7IB+/TSe97Obf/Ru9r+D0qN5Nym7+vRm8lac4aTBNCAAAAAAgIxBgAQCAACN9fb/HHfP/rZNluHP67Hih8HN9w8MP6UO5R94iUyT6oE6W4fu7iu/zBp2sK8O9ve8f6em5Uj5H+/r+Tt7gU+jo2NJRKLww2tv7+/o0I4ERLLGvWVbrmBQKP1kqFsuvOt5x6qlneMuVv2+93k1OqVQOsDBVARYZNcP3dDvf23f596/Th32wHm3m6/+Z3tHRO/UhWSfmw/y/YW8K+uspkyefweeXX08t8Hc8oXcTwfe9n7fp/D3BtXl+adecOTP0PgAAAAAAsAABFgAA8DDc2/se7oSGvcL28Y7x8StOHRl5RqdbBnldNHfeq4IpfJ9rXu3rG9LJzBlduHDJSG/vP3cUChsKHR3/KJ98+JecXE2h8OnRvr7vjPb3v1sfiYS/45jeFebrz1AKxeKiQqHw631jY4f1IRofHy8HPFgeOw93dz+ok4lhmXkDLN36U8G68zNjfX3/yff0/+lDQb5WLJWW942OvqNnZOTf9TEZaXM1f9ztpCoUSqXf6R0ZWXnkyJGqUSZTjh79D72biFKptJe3mSyT8gK/Lm9MnrxM7wIAAAAAAAsQYAEAAI08yecO9J/ppJd/LZw4cWXPjh2+RUJbib6Rkc9xB/vvdbJMkeiP9W6mSKCq1NHxFHfof14fiuMiKpUeGenpuVinQ+kolSoBlkJhVmlwMHIdkt7R0U/I6B2dlMVjB/h/nEVumUKptPasl156QycTUyoUTta7QjnAMtLX96kO5209g84RH7IY8pW9IyPv7x8d9b0yebS//13ua6M9HJZATM/o6GclEZShjHSZt2fPAZ1MBOu1jGCZSSdOVAVm+Pj5ehcAAAAAAFiAAAsAAGje6Oq6gzubb9HJCsXizT07drymUy1L0VmwtzyiQ3PxSE/Pcr2fGdyhX82yTLUQa6Gj47f0bijjpZIvIPLq8HDsIrOjCxeeJlOTRvv6PkodHfLq4zLjhYJvTZMUeEew/FiCQjICh+/3Vn0syG/1jowM9o2NyeidKkrF4kq9W6ZYKpUDMXve9KaZVChcqzI0pVIp9RS1UqGwn/9xhtbj7zpHHTjPtxYMAAAAAACoDQRYAACAeeXUU3u5k/wxnSzDHeCP946NbdHJlubUkZGt/PFrTspDR8cv671MGOnpudQ36qJU2jpOJK9LLi82q+Djes/lypH+/l/Q+1UUSqWjeldx4qSTQl+TLG8KGu3tXUudnS/L1CQ+9EUu21ucXKZUeuikUumXapkexddQeYtQqTTC3/8t3r3IOeLja3zP5/WOjISNiKpQKJQDXiyfA6xvl/WPjn5TH6Kw6UF8DTJSJhX8P7KYrxOQKpW+oz4rvEt/AgAAAAAACxBgAQAA5uTx8Uv1bhmZitE3NvbnOtkWcIf/7lKp5JsmUiDKdIpIoVDwB3EKhT85dWTk6b6RkU8WS6U3s1xlJI2sBfIN3j+oznEpFn2jNbwUOjt9I1g6C4WqNwmN9fX9PN/f9/g3r9eHqikULisVCn9cJHp8pLf3CVlgVuckYZf+lBE3f6R3ffA93SDTgZKs18PX+vv85+9E1wrF4k+zvj2ss2Sa1Vm+QJXDv/I52/V+Yvh+D/B9d7145pmTubx9I1g4PePHfX1LdRIAAAAAANQIAiwAAMBwB/QyvVuGO7/36t22gjvt/vU7SqVT9J413FE/j3+gPAqlRLRjz8yZX9ZJWXD3xb6Rkf/TOzLyrt7R0Rs6SqXf01ku79GfVfC5vgBLsVisGsFSLJXKU3X4t7/I6Q/ppItvNBLL4u38cfdob+/Tw7293lc4h8Lf+QO9WwXry9f5994m693oQ0ZYHrtZDtfy/1zjHSnF13I+V9Cb+AL9AadS6eWxBQtO16k0HJI/019/feYJecNRgE4iBFgAAAAAACxBgAUAABjuHFeNhiiUSsN6t20Y6+19H39c4aQcSkSb9a41IR31tW957jnv2398lDo6/lPvKgpE3kVkfZwIBFg6CgXf64VlwdhCoXCB7BdLpV+iYlHeXPQVlcnwfb588pEjPy1BEC7b3+EyLy+CS4XCUj53/Whf3w9G+vqul/VbdE6Ql/RnkN/qGx19X//o6FM6bQVfy5f4mnp1skKhcF2ps/MFuUZ9JBEsVyU7mValR9bslrQLy+ZtehcAAAAAANQIAiwAAODwvP6sUCh8fbS399fk7UL6SEsz0tPTXSwUqt4axJ3rr+pda/i7fNONfEGMEIrFoqwNUqZUKHgXkfXRUSz6R7AEgmIniH6od6Vyu7BQKPje2NNRKv2uvH1HgiDyhp6+0dG38nes5Gt8Vp8inFUgUuu3jPT13SevUOZ76tR58r2P612HUukf+TveaVxrJQX6ldWDfF2+4FMZlpFcI1/fc7KAr/f6ouBrPC6fnePjauFh/u7gNDEZyQMAAAAAACxAgAUAAIRS6Um9V4Y76Av5z18e6+oa487s10Z7e39f1vjYcdppC/UpLQXfzxruSJ+jkw6l0kP9o6N/rVPW8PerESQuHcVi7DoknUQ/q3cV/P9RI0Soc9Kk4AgW3xShgeHhkZJbjoXCaglEqH2hVPpYz+jo/TpVRu69b3T0LaVC4TpOvuAcdeBruZqPS5Bl12hf3z+N9PZ+kdNf5u96plQsfkQWpO0dHf1F/o7H9L9kQ7F4uXzo6UtefOsB6bL8Il/fK6ybv63eOBQBy0oFWMY7O9Un38MT6rPCT0kATu8DAAAAAIAaQIAFAACYvrGx/8cf33ZSVXRzZ/Z93OP9dInon8dPnBjjDu1TI319fyHrdsh6Gfq8XCIdZxmNwdcvQYQyfC+vjRcKH9fJrLhYfwrbe1999RW9H0qpUPC9Ppk7/g/ovSqOBUaw8PWrESyjfX3lN+0U5R5LpRGddPm13tHRv9T7ofQND3+pd2TknEKpdE2pVPpbfdjBWUz3ikKh8FH+7q2c/5usL+u9C9JmSqGgAixBSsXiZ1le1VODCoU+3u488sYbI6yXnwxbsLZYKqmRK53j4+50rf/Wn14wTQgAAAAAwALuMwAAABC4Y7q4o1S6lzvSvlEYSeBO937u5D7KTnUHd/xf5UM7Ob2Txsd3caf4tWJHx85TFyx4rbBlizOCoEFs7+/vO6lUkkVmfSNFBAka9YyMfF0nreH7Loz29Z3g73WD9y9I0ELvVzHa2/tbLKM/0UlFsVR6c//o6Is66WOkp2degeWokyL0tVQsrit1dPxT3+jomfoojS1YcMp4Z+f7CqXSEZb9y/x9/mk9CZDRIEeOHZPvuILLVvThKf69J/h7vzQwPLzHOauCXFvv2NhevvdxfagmZHSUBPBYljv4uxbowyLb2/tGRn5f9vm3LmY5/DbvLpd0KKXSQyxbmb70BN+/BAPv46M/x98xXbJZL+awXvjWYeH/+Y3e0dEv6BQAAAAAAEgJt98AAAC4vHLqqb2Txsdv4s7pan0oW0qlEe4sywiLI4VC4QSnT5QKhePsjE9wR/6EHNOfxzhvnM8t8v5JfH4HH5/E+518rJM7/pP4GrmPXOrk/5VjMkKhk/Mn8bGT5DxJ83FZryMY5NjO/7uid3j4WzqdGdyR38a/57zlplQ6wh320Gknstgu3/fXdFLB172ub3T0ozpZxc65c6cfnzKl/AYkvre/oWLxOb7XLv6d2/ThhqECckS/xWXxIZanGk3D9/Aq3/9fdpw48VcLX3tthzoxBSP9/Zfx923UyTKlYvG04OuZR/v6ruIPeeX1T6gDEbCcVLCGr+0/WL6X6MM00tu7mWV3oU4K63tHRvwjigAAAAAAQGK4zQUAACDIWH//W7hT+0sSiODkqc7R9oA72g+Md3SsljVL9KHM4E77f3Cn/V06SScKhbnBER96So9v5EyJ6LWOEyeGenbs2KYPVVEaHJw09uqr3jcSfY3vZX5HobC6Z2QkuKZI3XjxzDMnTz1y5Le5Ar1dH6qC72dnB9H/TDtCaLS392Osc3+hkwr+rvLolTDGent/o1QoSIBprnMkkl/pHRm5W+/Lb/0Z/1Y5kMiyfFbWo9FJAAAAAACQEqzBAgAAIfQMD3+/d3T0E9whHSicOPGmUrF4JfdAP8lZD0owwDmrNSkUCld1lkrfHunpuVQfygz+7jG9qzipWPxfelcx3Nsrr4iuDjoUiyvigiuCTK8q6bfhaOYWiLobGVyRRY6nHj78XFxwReD8+awn/8z3+zP6UCJKhUJ1gKNYXKf3QukZHf2LE4XCWfx7q1g+/6AP+ymVZI2ZcnBFUShs0XsKLrtz+Tvw4AUAAAAAoEbQkAIAgBrgjvObOwuFpUWipdx5/Qnunf4UO9TWep1zqfRG7+joFJ3KBFn0t6NQWK+TDoXCu4vF4g7uwK9mGf2aPlqmWCp9qH90VNYIMTLS27uPv8d9W86LpVLp632jo7+l03WF7+39fG8bdDIRJaIdfSMjid86NdLX94cso0/opHH0ShhqfZXx8UXFQmFWZ0fH68Xx8QN9Y2O+NyQJYwsWTC2ddNJBnVSME5116sjIVp0EAAAAAAApQIAFAAAyYttpp806+dixGR0nnTSdisVp46XS9EJHx/RCqTSNeL8knx0dEoQ5yMcWlAqFcf48wenxwP6JjlKpKJ/cwR7n75J1WE5QoVAsFYuSX+SOvqzdotKd/L9yXtH5/y7edvOxyfxPJ9P4+BS+hhn8+/P4+Dz+jjP4U956dCpfzyN9o6PLeD9TRnp7v87XW36zj4EVvSMj9+h9I/zdY/zdTsCiVNrLMvhs38jIHSpdR0b6+3+By6c8OkSVS6m0geX5H4Vi8Tu87S52dCzma7uCjwXfzPRRvsfYUSgu/Dsf4d+5SydD117JkuCUrnHWjVNHRp7WSQAAAAAAkAIEWAAAYALy6imnLKhlEdYkqPVrSqXv6WQUh3n71d6RkcjXMocx0tv7w0Kh8CadlCk11/cND39eJ+uCXkz2q7LP93WcCoVbxguFzw0MDx+RY0H4fFm3p/yqZ/6ff+kbHf15nYxlbMGC04udnd/kynk2/87NLJ+/0ll1YaSvT0YV/ZlO8k8WLuwZHv5PnQQAAAAAACnAGiwAADABqVdwRZD1a4ql0kqdDGM9578zbXBFI4GZCuPj/nTGjPT3/zJ/qOAKlUp/dKKz8/S+kZE/igquCHxfd5eI7tRJeZLxDr1rpGfHjpf7RkfP6B0dnVPv4Iow+ciRv+b7GtVJ6ujsrNtoGQAAAACAdgcBFgAAAJnTPzr611QoXMKd95tKpdI63r7F29/ysXf3jox8hPOf0qemxbeWSKGjY6/ezZzh3t7/WSiV7uV7eIiKxZ/sHR39vdN+/ONyMCKOjlLpSb0rw0LqFsyyZd6ePQfGC4WfKxE9z+Xz6oJXXnlVZwEAAAAAAAAAAKBdGe3r+zBvJXd7dWCgPF0oS0Z7e39Nvn+st/cmfSgVIz09v+Re40hv7zf04dwicuTrdEbqAAAAAACAmsAIFgAAAC1D78jIPSWiG3hXXpe9auH27T9ycrJD3oREhcIvF4iGekZHP6sPp0LWMtG7MkXoX/VubhE59o2OflAnAQAAAABADXC7DwAAAABZEVzkt3DixJt6duzYppMAAAAAAKBNwQgWAAAAIENKpdLv6121MC6CKwAAAAAAEwOMYAEAAAAyYqS//9pCqXSP7JdKpSd7R0eHuKItqkwAAAAAANDWYAQLAAAAkAGjCxcuKRSLf6ST8oajGxFcAQAAAACYOCDAAgAAAFgy3Nv7Durs3EiFQp+kS0S/1zs8/C2VCQAAAAAAJgSYIgQAAABYMNrX93NUKv0DFQqTJV0qldb1jY5+VGUCAAAAAIAJA0awAAAAADUy0tPzm/zx9XJwheiLCK4AAAAAAExMEGABAAAAIhjt6/unsb6+C3WyzGh//wWc92Cho+Pz+pAEV77QNzLy6zoJAAAAAAAmGIWzzjqL24TpOXr0qN4DAAAA2pN7xsdpc0cH/XnBmVF7XqlEy3n7Od68/A3n/yWfBwAAAAAAJi6FoaGhmgIsAAAAQLvz2R076Ixjx2hk0iRacOIEnRQIrLzMx/921ix6asoUfQQAAAAAAExU8LgNAAAAiODB6dPVZ9/x477gytaTT6YvzJlDv7VwIYIrAAAAAABAgREsAAAAQAwXHjlCc8bHaXqxqF6998NJk+i/urqcTAAAAAAAADQIsAAAAAAAAAAAAABYgilCAAAAAAAAAAAAAJYgwAIAAAAAAAAAAABgCQIsAAAAAAAAAAAAAJYgwAIAAAAAAAAAAABgCQIsAAAAAAAAAAAAAJYgwAIAAAAAAAAAAABgCQIsAAAAAAAAAAAAAJYgwAIAAAAAAAAAAABgCQIsAAAAAAAAAAAAAJYgwAIAAAAAAAAAAABgCQIsAAAAAAAAAAAAAJYgwAIAAAAAAAAAAABgCQIsAAAAAAAAAAAAAJYgwAIAAAAAAAAAAABgSWFoaKik94EVV9Ot6y+jAZ2qsJ0eWnkb3a9TEw9XLu0sh2DZh93rRJBDFGlso9Fy8v7e83RO4usEZsLK3ZWlzjv4DK27YS09oXPDsdGJsGsQAteR6LtrvY409wocbMo8S0zXkZfrbGVcGQZxZRqUcZzM61EeYdcX9f02v6//N/d+Ikwegq3Mw2RnI89GECULIe/XnNfraycmgqy9NgCd8oIRLJkjCraSVqrtIU4N0GXrb2UVBO2J14GizONpFduADdsTtItmyfJ+uq3824J7PWgEAJAv8u533evLc50gfnc9rW/ItaGerOCVhbs1uo5pZNkDIHjbebX6gPbVWwRYQJ1xOzjt2KHxOhd02ACoD3nxIe3sy0BtQCcaxwCdc41b5zYTKfOozgT0IVsgz+yBTEEWBPs/cX5xYnKS/gQNw1FKevghokvdhoK3gx7WgAh24CvnbC9/j3tOuv93MOULwXME0/cI7jlJ/l+o9VrygjiZNFcWJp8omQVlEZcfJiOTLE35ecB0j0JyOSj7SY3z/1nZcIU03+Hmxx1z0tHXKZh+J0u8tsG/q/cqhN2TYDrupdZrl0bBemJpacK+J+o6XILXE3ctwe9Kci9ZnJPkO/JM0uuPO8/NC5NLWlnE/V/SawXtQxp9iNKFM+nD7ItWqf3gOXE65c1z/VmS6xC855nyk5D0OyrnhdfFbn7c7we+I6Q9XN+62kTYPXiPhU1Njvr+4LW453mPx5W9EHY9XrzfFTwn+PtC1PdMdBxZie5tZ92ToANVyakiz2rd9edXaCV5u9cfdk9yzKv7SfXWJXieNz86L1zOQvD7hahrSQZGsDSJgXIBeyPJXsWT47IFI4Lec7yVRhD3O+L+PyzfS9w5ab4njLT3GnXORMEkb29+kvIKfkcryNp0j0IaOcTZj5lsbDjsnCTfkZzw6xSy/R0/aZ9meK8lbYXmXr/NtdvKICjLuO+Iu9eo/09SVqZzknxHqxAlJyFv9xl3rWBiENTJGF2Y1k3d6rzgOSa9dn2u4J4T9C+N8BFJv8N7Xq11cbLvqF9dnSXub0R9f/BavOclKfsk+OUZfZ+mawVmTLrbSN1rFkn1Nk73g/nRMnKDKyroFfn/2ckaAZbMkQKR+WSyuQUWpjBRx+PwKoH8r1c5kyL/E6XESQleh5DF9yahUb+TFpGJW+5Zzyc0yTtKL0zOodGyTGobYSS5R9M5UflB6mnDUZjKwqassrzONHjlH2cTYfrdSoRdf1R5Nfpe66lXrcREuc9WxuB3t7OnLjeOW400+ufet/xPsI5rBlHXnrSeDCNpXRxHmu9Ic2214JWFbFmXV5o6plai5Nls/WtHstD/iYJJ9/OrtwiwZI4UshS8u7kKkYZgxZU1opD1/P40xN2r11AkP89O3jX4vDrJpLKsp+55bSMfDjCcetuwqSwarff1LHOvXYSVtwyHl9/0Vp7tShb32kp61Swmyn22G61SP9RKVu2uOB+QlKjvSGM7pnoyi+tsBEmu03ROFm0G0D5UOv3P3+e1qVr8WavYUTuQrawRYMklQWedpcP2Rvvke8Xwm4npXsU5udfpKj8azLWRRJb11L2JhK1eN1LvG1HmEY0MNRx+gpDJvbaSXjWTiXKfoDXIst2Vhb+O+46sbKcR9UoWJLnOVrkXkC9c+7HprEP3Gke2skaApaUIdlLcSnsiEKz00ViuHcgyP5jKolXLyn1aa7peqdAmih428l7bVa/SAl/XPjyvyvK2+3QS1Jm8245cn/faJlJ7GLQGbodd9NQLdHcigABL7gl2VLyGaTsfuVajDjoHIWmHKo7gd2TxnfWkHk4y7DtM8o66DnHubvS1FlnW8j/1Isk9ms6pR3klIShHk1xN+WFkdS+1/LYtYfrdSoRdf5Qcs7zX4G+Yyq4ZZdsM0t6nnN8IPwDaA1dfvHVPGkz6FlV/hZFW18PwfkcW3xdG8Huzqou935PF+jxJ7t9WRrXca5o6plaiyqRWPQfx1KK7WZe5DbXoSz10v156ay9rBFhyhVdRpGBl8yqKW+Dn0PMqKlrL05woo/YqbxKC15pWoU33mvScZhMlz6RUyzH8O0zy9l9HtYxMsjTlZ4Htd5vuUUgjhywaZEGSyNF0Ti3fkYXuhf1OraT9bu/5tVdozaO6PLK91yTyNJ2T5DvagbRyqIcfAOnJu15W9CX9tXl1zqtvkvb7AHnThXue/3eS2G/wnKB/SWsbYb9hIul3eM+rxQZt28NJrrMe8qjV31R/T/y11lKPer8j7X2C5CTR3Sx0r96Y9KVaZ6t1P4neVn9PtO7XIqPg92cj68LQ0FBJ74OWwI3OecmTwQEAAAAAAFBP0B4GrQp0t91BgAUAAAAAAAAAAADAEkwRAgAAAAAAAAAAALAEARYAAAAAAAAAAAAASxBgAQAAAAAAAAAAALAEARYAAAAAAAAAAAAASxBgAQAAAAAAAAAAALAEARYAAAAAAAAAAAAASxBgAQAAAAAAAAAAALAEARYAAAAAAAAAAAAASxBgAQAAAAAAAAAAALCkMDQ0VNL71kyePFnvtR8nn3wyHTt2TKdA3kF5NQ7IemKB8p54oMwbC+TdOCBrAOoLbKyxQN6N5Y033tB7fjINsMyePZsWLlyoU+1FqVSiQqGgUyDvjI+PU2dnp06BelIsFqmjA4PhAGhXYOONBfVX44BuAwDaCfi0xiGBrB/+8Ic65SfTAIs0CLq7u3WqvUCDp7VAeTUOOPOJBYLNEw/408YCeTcOyBqA+oI2YmOBvBvH8ePH6ejRozrlByUAAAAAAAAAAAAAYAkCLAAAAAAAAAAAAACWIMACAAAAAAAAAAAAYAkCLAAAAAAAAAAAAACWIMACAAAAAAAAAAAAYAkCLAAAAAAAAAAAAACWIMACAAAAAAAAAAAAYAkCLAAAAAAAAAAAAACWIMACAAAAAAAAAAAAYAkCLAAAAAAAAAAAAACWFIaGhkp635rOzk7q7u7WqfZifHxc3V/9GKRVt6+gJVN10scwbVp9J23QKbryRlpzSb9OBPKC33PoObr7E+toi04GGbzuDlpxbpdOBb+LuWAV3XHtEiqf8chquvNBnRBM+bScblyzjNyrPfLs3XTzXf6rWX7TGlrWpxMh12vKD8NUXv779uO/B788g9fvu7Yw+fkwyaL+srIu7xCKxSJ1dOQ9Vgv7UmRgX6VSiQqFgk7lGF85+gnKyVdOQRkEvsdkE0230Qx0Joi5/vN/p49Yeba6fdnbXxjZ1V/+6wven+/awuTnJQe+yFTeRn0Iof5tO9CaZOTTAnZj8rfWOp5Dn2ZuI6Zon+XKp9nLytbnhWGUd+K2UXz/J13byF5WdbcNoz5Uc/z4cTp69KhO+ZnAARZXcY7Qc/feTOue1IcjaFYlLAo3tM+jiEqh53queTmtum6Y1ul8paC0iVZ/VtRK3+M+N+3HUcbdZSVU6dO3VZRaK9tuV8lUehFtc3/blK8Nam7ZkJw0eZRWXe+siiH5r9+cH0VN5SWyveCAx6ir5Td43Srqv2tdqLyC1+rHJIv6y8q6vCNojQBLOCIj2Fc6+2qZAEsYSoYzaLOn4g2Wk5yzqm8drQuTeZV++LGVdx50Joza6j/HPmY86fnutrIvsyxN5R1FNvVX8Pr4CNdfw1x/SSoor+C1+rCWVfX3B2VhyjeVt1EfIkCABSQnrU8L2EHQjgJY63hOfVqtbUT5bl/7rOr6+EjTfJq9rEz5xvKOoCZ5q/v3to3i+z9V8optG9nLyiQLo6xM5W3KjyAuwNKavaJM6KcZodHSHMEFPNQ3TJu9zqVKgTeUG6eSv7jvCD33iKOQxGq17sHn6EjfYs4JMkiDp3fR8COuMfHZd22m4alLaNmVTnrw/EXUNbKpbAD05DraPNJFSy5xvs2UT1cupv5Dz9ED5evbQJuePUL9fF+DKq2v98GKs9jwiFzvEK26QFKm/CxhZ3JBPw3zPbi/NXjdVVWN+y2uc3Hl5zl/w2c3sfwW0WDYtZlkUXdZ2Zd32wH7aqB95YPllywhenZTuUxEB67yVMoKlrMKrjBOGWyu6MODd9ImLoNF5zsS9tN8G7XXmQy5chktoedok3stfP9tZV/W9pcl1fXX8pv8HRFhg+6IlOXnOT+u/rLXq3rbhlkfALAmrU/TdlE+n+3mAbGLxdUeLQsdbyufxr/pb5/lzKc13edlS7BtFN//ceWXsG1kLav624ZRH2qgSQEWiV6toTV6u+M6T4GwwO/w5K1Zc4fPcCUqFfwf99iam7SgvGmJqrnfdbsuTPUb7lAlFuC1nrwcUdUZUEq6jbaUHbkFFwzSoqnDtNVVJsUG2jpCNHe+SEIr7NaKcQkbtg4TzVoguYZ8vv7F/XTk5S1lgxG2PLWNjkyd4cg+7H6e3ELbDnXRDBkmZsrPkqqKM/z+asUki7rLyrq82w/YVwPtKw+w3w822JxKdWtFB2xouo1moDOZUd3hbzf7sra/LAnp+EmDddtT3qurlQz0qt62YdQHAGxpsk+z9nmt5dOq2mc582lN93lZUtU2CpdPrVjLqu62YdaHWmh8gMUX3HDoOvcqJ4giwZBrK/OfHJwAyI21ROxmDdEd3nlmU5fQVd5gTp4J6wzMn0u0bwf136QDRt6gkUKigkRLrnSPcYVwZdBJafpmUNehA8TqU0XXLJGZjPA5QgdYQatQRmHKH6QFs4h27/SalMtcWsDl7d5P6BlsFKb87AipON37I3/Ar6KHW2jdk8PUf8mN7PYdJLre743oljHJogGysi7vNgP21UD7ygfVDTYuhVlddGQf0arbPWWuA/WCegrSt6xi91xHLQvojUvzbdReZzKjqsPfbvZlb3/ZEVJ/XbCAr2I37ejzPGDyPaxKU3/lwBeZytuoDwBYUotPe3AT/4en38HtjqvOJc8oPQ/WOt5GPi2kfZYvn5YDn5ch1W0jLZ/I/k+atlEGelV32zDl10aDAyxOg0kFUEY20erVq9V297O7nTxuJAiy+E0l74g6VhlKlIKpRNvudb5nkxacEjY3RG5evUkXxhF6Ts4xzGlrNGFPVlVnYNYQLd7q3NPq1Xcr573C1yG4me5+eRGtUAaxgha97B9OZ2J4nyPvSEYOsMRiMOU/uYNdZBxbaAd3eKIx5ddAWPRTOXOiRYuJHtC6uPoRcd4eh/7gnXyMaJl2PqZ5qFWYZNEAWVmXd4sC+4qiDvaVC8KefjkVP53ORv6gW+ZcL3CjoTJCcgPdycfoEt3IuIT804mM5MBGrXUmPWFPrCaEfVnbXw2E1V+qwTmXhhZv1bKWthTRkmsrnQ/r+isHvshU3kZ9ACAhtfk07vR/4m7advoKp/5IsKZDEGsdb0GfFjqytBV8Wg58XnpC2kZJ+j+2baMM9KrutmHKN9DgAItEieRzmDb55nXdyQ6nkueNgKkomezUEkXyRC7VUB/BYrhP4xikwdPDo9xd+zZX5oiJ8/bNUXemXl1FD5Qd0AOcSjP9SSqMWMTJ6d1QTPnacKPRnZ5ITPnpEWce+pSU2faIJ/Dmm2M46Dz19jj71VsXs6PxOHsTJlk0QFbW5d2SwL6iyd6+coEMQQ19ksW8vMlznBsN3JDoOp11hFPOdNPFtNW18dVbaTHrQPIRlTmwUWudSYs02MJH+bS9fVnbX3oi66+pu2mzr531AD13qJ8WK93NoP7KgS8ylbdRHwBIRI0+TS1RcJUngP8AHwssi2DAWsdbzqdFt89y79Ny4PNSE9M2iu7/8JXato0y0Ku624Yp38AEXuQ2x6ihiAnndaoooDPMypnH5l1ISDsg/raqRZEkMhcRtDqyT4JRw3Qgal6lGoplyneij+HDBnfTDr63LTt3Rwa8ZDiZKT8bltOyc9mRJJzXKRFRNQpKPzX0BgodB9RPQ1WVp0kWDZCVdXm3EbCvBtpXHnBGRyaeT1wuO2nodfkWTnMDMGEjKptvo/Y6kwWD1w1xgy3hujYta1/29pcNaeovzzWnqr9y4ItM5W3UBwBqp1afpka9PPuAp/PqBGDo3GXVnX5rHW8Tn5amfdY0n5YDn5cJ6dpG5f4P/1/ytlEGelV32zDl10aDAyxyE/LZT8s8w4IHr7uRC7mS5zUG5dhkJ3CT7hNGt6DbCZmPFhyKKIQuuKOigI6SqnlsEVQpt6oE3Mivi3eomGMUwdXOK8MkTfnaGMvl5OAb+qeMIrDCt3e4syk/C0R+YYuUeRdY8iARUWWwMZFNxwH5Mcmi7rKyLu/2AfbVQPvKBTI6MuyeWI4vuw0GD2Lbqr5xR1WGEFaZN91GM9CZDBAfGdZgazf7sra/LIiqvx7cyvqrA1dlnCeCqsGaqv7KgS8ylbdRHwCondp8WtwT+KBtMtY63h4+Lap9ljef1nSflwkRbSNT/0f9n3OsipC2kbWs6m4bZn2ohQYHWLaQLEKk6FtGat4WbyvOlYZVJa/rXD1fUeWJyVRe36QiXcLUJZV52jXNknIDOnl7ixAr4eldjsMIIg7Gt1DvoG8RQGdVZv/TPvWqralayS6QBYvcOXTB12TJuRKl90yrCr5+jc/1Ljxlyg++JksUXp62lYf+PVn9GizfYkum/AxQRh66uBIbFXe+vAtm+RZxUs4+EBlX+axZuiKW97i7C2aaZFF/WdmXd3sA+2qkfeUCNTIi/CmEKlPvQm0swxsvcRcMdVah9z+RcfJJNwzUMFm37siBjVrrjDVOoyZ0sbg2sy9r+8uA6PpLdJd/u7xgsJYl6UU6U9ZfzfdFpvI26wMAtVGrT3PakF2+0SpOfpcbFGV9Te7T7H1e/n1aTPuMf8HOpzlTUN26vumysvZ5GRDZNjL0f1RZJG8b2etV/W3DlF8LhaGhoZLet6azs5O6u7t1Kga+8Ds8bwsafmR1ZQ5jIE8FVwKLQknBOYEXzn32bjVPW6Vl4dzPbqjk67SClWONFP6h5+hud0Fb7295j4cwPj6u7q/+iBMYogORC2FJfuUtTHL//kUA/fkSSCovPKTu17/IljSixAEpwmTgyk1RXRbG/LiyVnCFc/sKbkTrpLfMFKb8cJKWl9z/0L7ohRS9uuaTpSJwbYH7V7L1LrJlkkUDZGVd3iEUi0Xq6GiV2YawL1v7KpVKVCgUdCr/KBuetTn6vgwy9PsAv06ovNO3eco1BzZqrTPVJK7/1HfPoM2Ri921mX0ZZZnevoSs6q94+QSuLXD/6n+99VcOfJGpvI36EELj2nagJbH1aT67Ybx6XYNPM+p4Dn1a8jaiyDKufWa6/zif5pQTee+n6bKy93lhJJW3qW0U3/8J5vt1v6ptlIFe1d02TPkhHD9+nI4ePapTfpoTYGlBUAm3FiivxtFaARZgS6sFWIA98KeNBfJuHJA1APUFbcTGAnk3jrgAC0oAAAAAAAAAAAAAwBIEWAAAAAAAAAAAAAAsQYAFAAAAAAAAAAAAwBIEWAAAAAAAAAAAAAAsQYAFAAAAAAAAAAAAwBIEWAAAAAAAAAAAAAAsQYAFAAAAAAAAAAAAwBIEWAAAAAAAAAAAAAAsQYAFAAAAAAAAAAAAwBIEWAAAAAAAAAAAAAAsKQwNDZX0vjWdnZ00efJknQIATAQKhQKVSpm5EQAAAAAAAEBK0CZvHMVikY4ePapTfjINsAAAAAAAAAAAAABMRDBFCAAAAAAAAAAAAMASBFgAAAAAAAAAAAAALEGABQAAAAAAAAAAAMASBFgAAAAAAAAAAAAALEGABQAAAAAAAAAAAMASBFgAAAAAAAAAAAAALEGABQAAAAAAAAAAAMASBFgAAAAAAAAAAAAALEGABQAAAAAAAAAAAMASBFgAAAAAAAAAAAAALCkMDQ2V9D5oB95xA33+I0upWycPP72OPv65J3SqmqtvXU+XDegEbaeHVt5G9+uUnwvphrWraOmeh2jlbe4Z+tg0nVQcpme+9HFa+7hO0tV06/rLyP2Jquu55lZaf2n5Ahy2V37jwus/T6vOc++G8eRlh1zjxbTPd91M8NoOPkPrblhLXmn6ry9OfoypbAL52x9eSbfdpxNB1LXN88vaIMtgWcTJUt3X7EfrIOsWwCfHYJkGdD6RPjr/M+uxkPKMLfMk9lVB2fKcah0Nlnvsb9TFvvJMwCbC5JvaLmNsMJF/9pdJtA/X56X1yYmuIWvCrsvFa2MJ9TFMzhrf/fjOCylbU74Hv31lfD/1IHE5O9cY6p+8mGRlsBNjXR5nOwnLO3l7BoBGYWgDR6HtaZdrRwltwCWyDRfpF5L6NCGuTVFHjD4teRu36txU/t/FVLYBmVb1IQz5gftVhPRDmobB53vx+/94WTu6HujfMCb/7ss3yVoRuI6AjdnqNQIsbcbV199Ar3zOVSrH+ClCSZTCn/FSWQnDHYjGVTyfw5LvDwlMlHF+f17Z6VRfT3xHns9f20Mby9fjGMiZP6yuTGrDa3BBg5e8y2nshooBK/lQ5f4dh7GrbORBefoJ3Huw8lTpM+kl9xqC+T7c6/Zfc7wsJf8GOo11Q199uCy9DqaRnYG8UOXYr6Ybrn+F1ioZBWWmy8HXwfXjdfhVztqkA0pn4uzLg/6u7qpKJWiDfKTsI9LfT7shNnP5jo9XykWVP1UqbmMZ+THZoNk/V5eB3249WPjkSD/UYMQ+Lt7r17+a9VHdyyx61C27YFkGbduU7yXSvvxkej+WJGkLxPonLyZZBe2iSq/49w11ucl2qgiUd7D+VfcW1Z4BoCE4dhfXBo7Ctc1Yuwz6PEHZZlQbLr3/9/s0dSRwT3zE52vqh8mnJWrjaox1vxctJ7//N5etKsNyn6Ha/5vy1TVdtC+fPiyoOyod1TbytqOZOFm7cgjr38T4d78sq/PlGmLbRsHrD9ZxNYApQm3G/T4ndz9tfPowDZx9tU57uZCGzuim7Y9Vzr//todo+7Qzaegd+kAZVkxWtO3bD+u0l100FqV815xDA+yQ7ik7N309F93Av17h8N5X9F6Q++k2n2N5gtY+tp26zxjy/X+tXH2rdmZfeoaq74x/yxNcEe5/mM8bOIelIWj5PVw554nPPcryW0qXX6MPeNGy2Og688fX0j2esrn6Unbe2x+tGHIg38uF13+Yr3s7bddpL9GylOvzdtJCZCkORjmUlfRQ2Je3PY6e+x3q/Z5K4XJ2+tvp0bI+swy/4tUJP1IhKAe/ku1KH/Ny4QVncpk/VKngucwf3d5NSy/1fluMfZXhCulDXNFtr/6Vq2/1N4SEso9IeT/tyBOf8zSwhPs20jMHB+gcbcPJyshPnA2a/LNj254GFuO3Wxc7nxzlhxoK+5uLBzz6Z6mP4kPp6Y1aVmwTFw3Q4XKaue829mvddOYF4vFM+V6i7ctHxvdji1nX4v1TBbOszPVXsro8znaCBMs7eXsGgAaRsA1cBXfuLpvDbbyDOh2B3wYYUxsurf8P+jQmtk1RZ0w+zdjG9WCq+ytE+H9j2V5N5wwcpmcedq8o6P9N+Zo9Yw2RbVrStY087WghUtZSL4X1bwz+XempV5aB/DLRbSPnfjx1WGR7IDmND7CIA1i/ntavv5WVSCJKss/bWq2UEjUKHivjOV9t8h2a8vd6tlsrBS2NifKx2N9oL06b3Z2q0RKG41DvoY179QGXd/TQPL0bxtVnc6Psh5t9zuGJJ1+iw9Nm0Wk6LdfXLO6/baWvI5OKdwzRmdx4ft7roNmJPM9eYd6C2jQqWE5P7NhFNKfHr5+s5x+WUTO3Pa8PVEgrywsXcOl5nTc7yI+vrD1a2/KoCvMl2hx3/wf3ka+UHh9jlz2PekIa8VKBr/R1KrzoCuMFv/7d/wIrkFvmBvtycTvlt72gD5RxKvCXngy/AkWK+5l4JCijAGlt0O+fw38vjFp9cp6o6hwItepjSEdA2LXDn35l72Hqnu3WPuZ8Idq+/GR6P3Ug2BaI90/VmGSVqP6KIZXtRJQ3AHkiSRu4Gv2g5ysbaZ8+EkqYDWTchqv2aQnaFA0k6NOCVLVxayDK/9dWtulQ159L0reN/JxGs6Ydpn3+KIrS6aj+jZlg8OQV2newm2bpwVzNaBs1cQTLPLp4rWf+27Sl9OFbb6XPe+Y/qWPX66JiwX9+vXe+nDBAl3mDLEEGLqPPu//vMufi6N9oN2IbIU50d+DSivyk0T7gjeAJKpLujdIGkTLQwar1n6cbyg3HC6lnTnWjzMHfwOw+b1Ul4OUJioUhTq1ZEV0V4XQbzAOzKvsBgg10hURsya/PHz6PfBHXUHzOWkfSPaNmgiSX5dV0eZLfn0C4lfFpt2r5yZYoAOtx4omJqGAEX5lH2ZemXCGFlKOqULjSGfAElMO+o4pa7qdNUIFTt1ySlpGfxDZY5Z/175H/YcGtwac8NftkplY/lDWxdVMQsz6GBjeiMDUAvflx9uUl4/vJnFTXlwKTLGPsJKwuT2o71eWdsD0DQMNI3gb24gbPTXqbyue5pPH/YT6j5jZFHTD6tJRtXF/dr1HyCfP/ScpWRrQQLf2Q24Z02u+VMjPla7gfW5Z1bgYE1NY2crnw+otDfHNc/6Z2/+5/4B3dNlIzEFjW5faWtLMs68wmBli6addjK2nlypW07mlnmHP3wICazyXH3OFtbmdVnIk835D5iJJfOUcPM1KR20reyoedL6gaHjaN6KUvef+/8httATuEcuP8Q0T3hM5x09x3G8uJygrnnb+mkO+SeXJRT7kCMl8nzuIjBmernuBVUKNIyt/xkFLwqIaVGtLMCm9s7NYDNrZV4qy/Ev/ET57qhcMO4oZ19NIZugEZmKsokd/u8z7skZ08xfC3wmVKk8wn9Q1r9GCWpXcE2Dn0/EQerRKCehoy52I65wVXhutUY2SVK8P7nldTwLwBWeXk9X4mbN9Xma5mtC8uT6VHETaugoDz6OKznw98h66kGnE/LYXIUxo4hsatt4wCGG0wzj/rJyxnni3H9XdwPTZwqafMrX1yvB9qFM5w3Of9eluzPoY9VX2CNv/wsK9B5jSW3VESpnzBYF8esr2fjIjTtVSYZZWk/vISVpcnbwtEPEU3tWcAyAOBNrAXZRest2FrhvipdSRJcv8f6tNMbYp6Y/RptbZxw+r+5P6/TKBsZZTguh+eSavU9VSvB5Mkv+ITdXs0z7MuYtpG5VkkvH2Y7qnyzab+Tax/f3wzvXRwgC7z1Bdq5JF3QVtj2+h+uo3rHbrU+f7oNWKS08QAS2V6hRpWpfYqx9RQI0E9IXGihcKAe/MiYF1/OxEqr2GJcCIqd0/Ey/8bbYJXib5C9GGWRdUoHsWFdMNalpPHUa584RyWneso0zsXcQbGOWuxw7RYwWU9lKo56s61eheUbSSyWFLSxY4ihzmraWkfJvqKlvXKe4g+5Ckb5Tx2scG7OsyVg8hCj5JJXvG6hMlSHIj7+8/TOfI7oQ3YiUv3nkc9Dp4bI745sY4D3uV5ynrOC1zpHYyI5NeCNGD0bhC/fYlNyIJqBp2ctose9VRkT3zuHs/c1wbcT6ug7LN6bnkoMWXkJ8QGE/jnlx72BE9884Az8MkmP9QQZHhx2JPFGvVRpvaFPMlSjden51WeWEmDXB686FET8fkJ7UuR8f1kReK2gBmTLE31V4WkdXmI7biElrepPQNATohqA8tDPFnEM0lQMMLnGUns/6N8GhPbpqgzRp8mPte9t4Rt3NC6P43/9+ArW6dPqoIJ+pru4VRlFIopP4gEx8LWFckRhvar7z49I0jM/RuTf3cCh8/MqYz2EbnKIIrwUUbO9XjbRk4ASIJy+vu1/lSNIE5Bvha5jZhy4cU7gsXdPv45UsYwQLLqsD6uR7BMaMQZcSOFzru8upGh1xDxjQZRjfkBupgdlhrCxaZSaTBJo4hNR54qJRoS+ASN7QkOz3KJWYSxCnFCejHahgdXHKN2FgIMOFqJ1EYMhQubE6rma/qi407n3Vc20kgt6zXfqzgr1YCVoY6u7N3yEH3X5VNTkMRp/G8fuDhBWU5gqtZM8FbgK+m2+2SoZBp9dgnMD/WSwA86C2iySngCziqoPG2pehoSXSkE7TKr+2ldVMWqFwb0V/CWZWQizj97cNe6sPfJCf1QvRHdpai1jtLqI/voiwYi163xNupkvRFaMK96HZKw/DT2len91ImEuhaHSZbR9ZdLFnV5RHkb2jMANJ40bWBHr13/4vgceZOK9kG+Tne8z4sjsf+P9WlB4u6zjhh9mrmNG1n3G/1/grKtWgRXfOg9ahSKehGGKT/X2LWNpC5RI0jUgrgJ+jeJ/LsEWdz6x4kL9MxJ+jBDrynjm57E+iMjiE0LUseQrwBLJI4yC/6b5QpbOR5ptOhDGjW/F0QTE2mUxryvMaU3NZVLXvsWOeyuMtJIUB2DwBSt0GGHXnzXJQEOJ7LcjKG+MmRNNQbDhuOrjncwah81bNMvFz9Rc3G9lai/ke5sXHG4AcUo2cSUMagmdIEud85xREPDmUsao8+ROD4tuHq/agAFFk6r4NEjX2dGbxJU5gp7He+rUTgyRaFKv+LmDtvcT4siTw3V0/Qwn1ZLGQVIY4NqmGt1o8VdyM/eJ9fih7JH1jpKKj+zPkrdH1xsPApnTn70sHpPfhL70mR7P62CSZbBTmANdXmo7USUt6E9A0AzSN4G9ncOnU1Gu+mHyr42aBqf5yW5/4/0aTW0KXJLXN2fwP+byjZugVoJzJjyQ4mdAdBIMmgblUnQv6nFvxuDhF57qI4hlEmwpkwULRJg4SKQV+TKji/C685nlmiafFae7l08J2omWBvzjhvoVt/TGm7UeBdNUvMX9ZNO5SgDT3fY4aj37ieMjF94/a2+yLAz562yKFD1a4udRlll2OHVdKtv9AWnL5UIu75eFUWuw8J8SWBZBV/75af6dXtO47kybFNNLVL358xh7/ZF2p2y6XbfWsO/d4MnWKOCO+R5nZ4Rgyyr8uU32H5qGWbarlStmRCwH0lf75GhqqA9+uy1rwQ4r/32PF1ROlfRd5N9mZG3WrFPLC+ipr+jrFeG+2l7+P65E+h7/WwAcxl93j/kN84G+X9j/bP2E761LpRPTl7m8TqTwA/VHedJUXhjvAb7Uk8BI56YXcM+tXwuf7eMcvX6O1N+Iizup54Ydc1Mpf5iTLLi34utv4x1uan+0kSVdwbtGQCyxtgGDvNpJuJ8XixJ/X+cTzO1KeqI0aeZ2ricz31DZ/Qh/6+h7jdhKlvnjUL+0ShOfew8hDXlq2u8tSJn9359rxJuImnaRsF2iZybanH9BP796us9shK74vrD+1rn+LaR8wbYqgEc/B1k8UCkMDQ0VNL7jUFu/COyYO32yhxc95hEB91ILQtPDcnyHiv/ryYqT44/NotWef6fuLDVcGp52uc+QQn7jRZHlFrdp+awd16hkpF3USs22LXOMEQHiRhGPQnV3z37Uc8TKHFY7MB0KlSOgTKTaLzv6V/gen35bvlUEX+dqamSi3vMo2sevNcojVB3LaDg/as870JMwfvx6iLj+65AXjUi+4tpn+eaY2UpGH7fS9W1Txj8Ou2zH8EnQ48PE8L0SOF8JwXLQ/B9X1CvE9iXF/mui/ZVnROno7H30/YE/Z+HsHpC4S8jZXMyb17L1GSDwfwq/WL858SXiTo3rU/23Q9j9DVZUu23fMTpY4h9Vd+/F3/5VsvalB8g1L4s7qfOJNE1h3D/5K8DzLKKrb+COlemYk/B662qv5g05e39bgCaRlwbOLLNIDj6POuxkDok0gYqRLbhjP7f4NOY2DZFHTH6tNh78/q5oK/wEFUfhvn/uLJVOL9ZuaJgHWDID9yPsY5qNL7ri2sbpfXNYTpo+A5fWYR9f0DWIXpr1K+UND7AAgAAAAAAAAAAANBmtMwUIQAAAAAAAAAAAIC8ggALAAAAAAAAAAAAgCUIsAAAAAAAAAAAAABYggALAAAAAAAAAAAAgCUIsAAAAAAAAAAAAABYggALAAAAAAAAAAAAgCUIsAAAAAAAAAAAAABYggALAAAAAAAAAAAAgCUIsAAAAAAAAAAAAABYUhgaGirpfWs6OzvV1o50dHRQsVjUKZB3RA/Hx8d1CtQT2MbEolAoUKmUWbUBWgD408YCeTcO1F8A1Be0GRoLfFpjOXbsmN7zk3mApbu7W6faC2nstGvwqB1BeTUOceTi0MHEQBpK0mACEwf408YCeTcOyBqA+oI2YmOBvBvH8ePH6ejRozrlByUAAAAAAAAAAAAAYAkCLAAAAAAAAAAAAACWIMACAAAAAAAAAAAAYAkCLAAAAAAAAAAAAACWIMACAAAAAAAAAAAAYAkCLAAAAAAAAAAAAACWIMACAAAAAAAAAAAAYAkCLAAAAAAAAAAAAACWIMACAAAAAAAAAAAAYEkbB1gGadXta2jNmjto1QX6EAAAAAAAAAAAAEAdKAwNDZX0vjWdnZ3U3d2tU81GAiwraMnUI/TcvTfTuif14RoZHx9X95d7LlhFd1y7hLp08sizd9PNd23RqSDL6cY1y6hfp2hkE63+7AadqDB43R204lz9jYeeo7s/sY7K33jljbTmEvcbqmW9/KY1tKxPJzTDj6ymOx8MfG8A95xKOarD1b8fQTbllUw+7jXOeNK95ggCZRN5jz6GadPqO0l+tUpeodfjv+bKb3iJuV5feUb9v59isUgdHW0WqxU5XHAgRNcCZRWpE4JJf8LK3WtDpnwmgb37bNBjP8nsr5pSqUSFQkGn2gclj1mbU5ZREIN+BOxL4T0nmF/l7wI6FXMt4ffDpKojHNL608jfdomyL5N8vBhl5UWXy74oe43K98u7Wlbx+cl8djV1b2+EyVkTqQ+B/6nyEWn0Sn3X3AjdFZkO0YHQPL99xcu7UnfG0TJtO9CimHyIl4B/r/IXpvwKUT7YbyPB+qO6vqtuCxjquBCybyPG+QjBucboNnlAjl5i+zhBnxJftkb/b/KZqeq4Cg1rk0f2aeJRbdJZtbRF4/1/VFvXoVq3q/XfIcp2wjh+/DgdPXpUp/y0YIDFVWhT5ekKM64xnJxWqYSXX7eKhu9ylcqRFUUo/SCf28/nOjJ05LXo5TAHsbsiazaoVX3raJ18nzJ+quRVNZpMTi4E+Q5Pw1sZDLlOSZdpZCO5QhbllUQ+XoOOdS7KES2iba5stGPaHfM/8t1D+9zf47K8fQFtKjuMsOtxynuux+n49cFwvcFrrCrPcNoqwOKtMCIcdEXm8fpo1h8pr7hGQpJ8j32H6JQqb09F5renEAL2F0bbBViUnutGTGiDNq4MvJj1I77ilvOX0Y5PVOq1YHnJ/y/beXPFbtW1e3ywYLyfeJ0JI7E/jf1tJta+TPLxYpaVD/e6ojoDofmOrCr+NCC7JPlGnx1OU9obqmxm0OawdpXKi6sbAvceq1faLqraZu5x2Q9rt+l8nz1VfGywraLSp2+L9WUCAiygfph8hB9TmyFJm9Tk/1ddN0zr3PPVuf42/B3zN1W+L2j3Vb9ZbZNhZNdG1L8X6SP4DuPauLE43+3rr4T4uYr8TGXLaYP/j++vyfkp6jgPDWmTB318la5EoP+vyxQsEtn72qLVuua1h6BsVNrT9nXka2jLxdpOOHEBltbrFV2wgObqXVDNhrKxChto07NHqH/xcp32s6XsqIUtrHTD1HX6IKuxhg3hKm9wRXhSB1dE2S/opyPPbqrkPXgnbRrpokXnl7+BOUIHRvSuEec7h/k3XINY3MdO9BH3F/gaH3yOjvQt5pz6Y5KP6uyIAa/eRMP6WBTLL2GHMrK5Yth8jw/ElI3IfqhvmDa7FR1fyZ0+Z1R9Pctv8gdXBK8+mK538PxF/msMLc92hh2wrjDu5rKp4splXLF7yyReH432pdhNO+Iqo7j8KxdTP1dSm9zGQJVOaft5sKIDGx6R6x2KmDYZtL8JgFT2qgG1mnVdH6vCVEaahPpxZF+Ut+DzPY0pwSmvyv9vucsTXBEe3ETPHeqnxVfqtOl+jDpjgVGWBvvSRMvHi1lWFfh3+bqGR6J+MyJfy+oBjw9W9Snfp7JhUz6nTT47T0gdRd763IOxbkihV4PXXcWN5OGqOmj5TbrxfC+Xoz7mxfk/f6O34mNZpqd3cYeqohNb7tpMw1OX0DLXNgBoNEYf4cfUZkjSZo/3wRsqwRUhWH+wXXvbj2LHm312nq4NlDVmH5G8TV6F3Bt5fJiuF/xBHI/8MvD/8f01Pj9xHdd4nDphU6U9onVlySVxV8dtzCu5DTBiKp3qtmis/2eZD/n6iiyrz7IOTF1Eg762bkxbzmg76cltgEWiT2vWVLY7rmOVlOiSRL7UGf20TPJucguTC0StueKer6NQE5z+WV0JG6wswflzifbtqCi0MqCtPgMPsntnxT0Iw/uOUNcsV/b9NMM3HMtAlYPLF0H5SGdntc+BxhMshy07dxPNWlB2tl7iGrvhOJ3pbU9FX03a6514cIW42vDE49ABf8X95A522XNpQYJ1noL6YwwW2waTVQNgG23xVihPbqFth7pohjuM0kvO7a8ucAV+8+qYJxppy8CgH+KP64rpfuqJ8bfN9lUP+TiB5wdo0z59IEBU/vLF/XTk5S0+f7nlqW10ZOoMNSTclN9SqAaqt+NUJ/h31EObz27VByps+OzqmCeGOoCyNSL/gkFaxB2/rT7d2kBbuaE8d35YDQtA/bH1EVVthgBV+an9v7TR0zwEZSzaQLbE+wibNm7Iw6Ww9pOHevj/NP215hLujzds5WuP6NMIbpDkzmr376eqLWrw/4pg8GSYDnjbuqa2XB3aTrkMsLhDvGR412pukEm0kruiMUhwxR025tB1rkRadWKikqrRtJyWnUu+CKBj7OQLXFUCWjH4DKyLllxb+f8bI58mhTg4biBtepZoyZVuRJjPuTJt4CErquWTCWHOOGG5iYMvV67KebCD6buxUlYpF3hWT/z6llXK6Mob2Q4b0OhueSICFj6i9EcHiiPLKyZfnj5xNXSVBJ8F1Xmp/EZc46y60xFmf8DBVEYm/PrRde4K/V28GfypCnIHG7ReVMcyRQPZoDN5II18vITKSnzYLO9TxgCR+YO0YFb1AwQH6UyY8vVuAJ/PzhGmgL6xbkikV079vdszyiQ5uiNIq+gOVzd4K19P34xIO6k88AGgkdTmIyqY2pz2bdLB64ao3zsyrQp5cBd1D16StIFyTMjDJbf91O992H97pS+Suf9P0O43tgcaRkxgLirApOoECa6b9DWsLWrw/zH427q2bbl05DDA4iiub2oJC/pOUboH7/QMDZM1WHQ0U4yjPCdPB2Ueab4KNgVW4rICsvI9EDafusxyurGsbItpqy96p8vh9MUsdy1TGXbHjSw1mohVf8vLR6j/khv5WzTKgLxPIJ0nls7/OmXSf0mEUYQ+gXIi0ne/vIhWqGtMNn89O+Lkkw6J7Hade5XHoGX4YXjDL8nIITUUkp1x2VmpBuZcGlq8tSzvuyU4da2nfIxIeW0i4jJS9xxc22Gi8+BWNeS83Ilg5Ol3dPPdoD8qYl6xD6e8PE7flM82uO4Td9O203WHNMn8V/6fHWFP8iPsb8JjLAMPCfRDPYErf5/jTyODCNyJXSENaM8ULz+sX9dKx/iBFH6pFp1pHKnk4yVMVlIXig+LeqJpyg9DPa2NISa/ymfnBvPoR3PdYNYrGd4v9XfsCMEo9NPHRdwcecDVD9WeiG8ky4haAHJFrA8xtTnt26Tih5z/X0NX0QOxo8ZkDZB+7zSQ1G2g1iBsNIp6wDxriBZvdeuju1UQeUVcfZTW/6fprxnbAzlg5EDo1C2lt6pOSNCfCGuLmvy/GpndT8s8ZaNGy3gHWaRpy2VEDgMsbgdARj4k6xyqSCNzxNvQVHML9f5EwqtErKBXseE6AZEwvAGQrbRYjDzoPF7e5HHgfD4rtTuHUAU/np1biQiKg5DAVlSE9sE7+fyIednnLwp5guZUJqoS0Nf5AKcqUeR6k0A+SZHg4CO7Wae1rKRylGBhVTRahsLFPZWQSm+Nf+Fhl6m7abPHeW+56wH//FoDTsUrlbb/npNEiScGTidjt+cJ++KtXOkeihpBkE5/xJ7i1rypyucKd82aq1i33N94gI/F2bvgBrD9hNsfCBJfRjXoh/iAkDnVaops1fxvD6rsq9dcMlKTzjSLaPl4CZeVqUGXosHnxTTMODQ/xmfnARkKH/sUO0HdYNAr1bkgz+KZNbLtEU/nIrgOTAh1n5IHQFpifYipzZCuTRGG1GHO/+v2dNiTfNXx9y8o6pC2jmsFJMAcPnKka99mT0B4i3m9mbT+P2F/zdgeyAvyoFfvVnACdfRIsmuPa4tG+38nwP/crGVlvZR+o6ylEjX6ytTezoJcThFSi9OovcpwHnTyakCMlxuodO6y2Aaqg+M4hyMXwNRIhNIzBMzrrGXuI82fW8McQmeoY9UTtKpFpOT3HlBR5MYvXJdQPnFIkMWVlThacUbBYJQaqhg171MCTrrSS9RQd4KVyeag6zmOvuHbfM8SJebKtn4uqNXwNnBkPQkZuphkEdQM9CeAeuriG73gNABce49b48df6UTYH6iBWvXDxWmMOQv1hTdIVGdXL8aWtsNq0pnWIlpWaui7ekjjtB9kU6+BlBEx3KG46ab4/FUXxPlOKU9Tvt5N7bMbDctQhmPHzm031w3xeiX+xZWtK2956q3lX+tDC6a85lugXeKlNdY0AO1HUh8RhanNYN+mkPa7epLvXZhUgqV6MfLw0S22dVy+cKZJxY8YL1Neb6YO/j+0v2ZuDzSHwPomXqqm6TozTGT2Qtn/y+j9qUvUzAR/3z5dW9S/5qcEWSp6efNdRAtmNTfwl9NFbl0DlsiocySuk6c6Eoysu1JWzPK0IVAbzhSgqvnLMXOdkxhH6BMlifqGLCbljkwKI1nQIM+EN2zlnoNDFR3E0TpPrEMrPRm6qRy/Tivi5okGkUpS7waxWLSr3UlVORsJH11SwZsfd67WA9XpCKyiHjX8MmYxN+DFVEZ+jPoReOJTfktC1LQVbvw6T8JqaWwl0Jm8EfpEzCFOVr7Av97Um4vk1Yssu89+Nj5fZKsab4E3/ninb5ryRd6xPjsXiN83TQ001Q0mvfJ3yJyNO4bulO4ksolYnLu8KKTq+ARHayaZ+gRA/TD7iJwhI1d08D7pVL5s20CNR3xIWIA5dMFWNULFCaA0wv8b2wNNwwkwBWcjhE218j9Y1pvMdDgkQaOAnkW1RU3+P4zYh9VCurZcLeRyDZZVt7tTg5ynIL45XeU5bnp0izz9UJ1LzzEVIeOO6kSbIsTO8Ubf8DKWpXdRWHGe5eGAy+nGwJMjNZfSM1RYrYjd51nYTv7nEs/iQ1eu8kTOHWfiG2rMnQFfdJLTywKv0hKUUwqZVuSsyO0freLMq2tEo8ksHxNqWJ/7HSz7VZ77UI4zsKiWyFCeFIYGRFTAMG4BLHljQpdnQWAtq6rfiMJ544I/kOmUN7Vw5ZktrOPXeXRCdXY907lS2tfgdTf6njw5ul0p4/h8HQANPu1ge+9yKyi20+Br88IWs4yyP2AqA0nf4Vv4LlY/qnTCsa/yq+5Zf4KvGvTD33+B5/zUJNCZpmKWT9m+jLKyp/o1v84DBPc3Tflmn50D1CjR8AcmlfrLVDc0Qq+c3/Ct+abaE658q19/63T8ktfXAGSN0Ud4fZrYVGybwZRvJlifye97F6OW9oHvdexVmOq4PMPyCxkxIUHY0FEOVevNOD7NbT9Z+3+Wvam/Vu86zgbnldGe0VPqeqPaRsmIboua/D9L/zrPb4ldefuqjKktVw8KQ0NDJb1vTWdnJ3V3d+tUrbCSBd4IpCJd3ggeC1YNMRLkiZNEB0Wg5Vc4y5MRmQMs3yP79kOrxsfH1f3lHVFqNdRZc8Q7R1/JyLP4nFeOgitLLz65knqzUyXi6C8r328pgmUpCxNXD5OThtzQvqi1BMQpciWiU1HfESST8koiH4VzjeSTjXNfMu/c/R+VdiOwod8l3zNEB8L0NXgtZfz67fuNoN2UCb9eIVZ/IigWi9TRkdPBcDWi5HD6tmr5+cohoIup7Sug21XlZcpnjL8RsMEQvYu3v2pKpRIVCgWdah+C9uoQXwZVehKnH0zQvnz+NOBrvTjnhdSNLhHlWn0/jFFnqknrTyN/WxNlX2b5aPuStwnEykonPKjvnrU5/pqC+bH1HxOXH5RzGXObpFHtjTiZBMswWDZVdUMqvYqp64J+1IP/GqrtS12zsf7z0yptO9CixPmIoK6bbCiFjYX74GAdEtN+9OK1Jd81JGuPZ95GjPERDmFt3JBj6ntm0ObIe/DX/1U+L65sE/j/WJ8a+G4vUXWcS8Pa5L579OuSurewNrQg/3fBgao80b+4tmis//fJK6yOjW/LeQm3nXCOHz9OR48e1Sk/OQyw5BNUwq0FyqtxtGOABUTTrgEWEA38aWNpB3mfxH5i1okTNIPvZQZ/TpeN92WbwY3SSXzOcd6KXHcU+fME+5Rx/hznz6Lse9I7J01Sx147+WTawftHM5QNdBuA+oI2YmOBvBsHAiwZgEq4tUB5NQ448/oxl533ySxf2SZzh0Xt86e7f4B1vIs/D/PnwcBWLxBgmXi0qz8tsC7PYxubw53/2fwpnf8S67bouHToZX+c91nhVVoCAbJJWgUCOE/O2ckdf2GMP+W4La0i74XHjlHPG2+obQHvz+Lrns2ynMWynMmf9WIHy/nHkyfTq7xJwGWn7PPnXt7SgrYCAPUFbcTGAnk3DgRYMgCVcGuB8moccOa10ak7dxJEcbd53CmZz52VhbxJZ6VWpNO396STaB/bwAH+fF023j/Enwe5rIanTKGXusIGn5pBgGXi0cr+dAHblQRP5sgn25eys2PHVEBAAgRZ8wrb1Y9PPll1/mXEhQRdtrO9pSFv8ha5qUCKDqj0c4PyTbxNZt+fJyTQ/ArL/UdcBt+bPp2eT9AeRVsBgPqCNmJjgbwbBwIsGYBKuLVAeTUOOPNkyDD5s44cocWHD9O5Bw/SqdxRaSZH2D6+P3Uqvcg+WzokSQMuCLC0FjLSaQpvJ9hGZUyBmnqRsvxayZ+ewTa2SG/nHjqkggPN5jDL/rszZtALbGuyuSNeomi2vE/hRuPZ7KPewr7qrJzIsBZ2T5pET7DcvzdtGj3Hvi4MtBUAqC9oIzYWyLtxIMCSAaiEWwuUV+OAMw9H1iB4s3RQeDubOyln82eeOcpl+D3uhGzl7YcywiXClyPA0jxE6qccO0ZT2b91620a2598yrHpvC9rXUzjTT5lFFTUKINjXIay7sVxLnf5VPu8jXNa1sY4eNJJtEtPu9jNx0a7uuiVlCMx6k0X398ibtzIdibb11vYziSglHckmCmdfgluhnX8m1F/SSDlHJbh0oMH6cwjvnc3tgUyou+JmTOVj/s+y94FbQUA6gvaiI0F8m4cCLBkACrh1gLl1TjgzCvI03PpnEhA5W3cUZE1HlqVN7hMpTMincDn+dOd5oAAS2OQKS29Ml1MPrkClxFPb+IO8Ek6vxnISIwtMhKD9eGFri7aZRiJUQ9OY1m8le3rra+/nvugZRJeZjk+PGcOfYc7/y6NqL9kRJ34qXNZhm9jWdZjzRSZorhn0iTax5tMVdzPm6wbJZsE9qTWkEC0fMqUyQ6uS+Su1b4nr5uvrYftoI/LXqZ22SLXpYIt06fTU+zX0FYAoH6gjdhYIO/GgQBLBqDD3lqgvBrHRHbmsh6BTPmRqT/nHTyoOi2NQgIgMuqknotJepFgy7/Pnk1buFOCAEt2dLP9SCBFdEnW3unn7XTWJ5s1eBrFg/Pn0z/y1gjOZ/v6qX376IIDB/SRbJAg0WsySoc/d590EkmDSLyZBEdFy9Um+6zz8qk8nZsnaT4uo2ak8z/AW60BMFm0VQIt32Ibq2f99ZOvv07v3rOHlh46pI/UjgTctnGbb5ivfZTlJ8EUCZ7Imk/7eMtiwd8gMmpJgiyyts58/pR1dMR+JPAmAZm0PN/VRf/Bcn/cE+ACAGQHOvyNBfJuHAiwZAA67K1FO5eXNCJlSsAU/pQGbj3fGJOEiebMB+XJOXdOZDqCNOyzQt6M8Spvsj6DdPRkeoZM0zjGspVgivrkDotsEliRhWwF6eTJ20+m8SbTRNTGZSKfckxtJyqvS+2zvGaZ3vBN7pA8hg5JTcjTeVkbRHRIpmS8qcWnY/xoyhT66oIFkWtc2CC+7qf276d3791bs5wkgPLy5MlqPQ6Z7iRTReRTRlXsyjgIIN/kLp4rnX/Zl+DraSmuXXzAffPn03cztq+3HDxIl+7ZowLBtfBDtnsJAo3ytkN/SmAqT4i8RU8kGDfEepMGWSPnn+fOVfcJAMgOdPgbC+TdOBBgyQAEWFqLVi0veQI6wB3gOdxQ7OVNXsErT+zUGgu8L53l4BoD0mGQJ4hj0uCVDjo3euXzNU43YmzDRHDm0mG6kBvsy7ijZ7vgowTFnpk+nX7AvlJeMSodP+kEyhoYjUACLzKNSRYBlTViltT4JPtJvod/4Y6gdLBBPNLxk2CKBFZ+gvWo3tN8REMPsF7JtIwDrG9H+bOT7VQ8ogQtTuJ9+ZTusRyfJMf0NknnyevA0/B/e3po0+zZOmWHjE64aN8+es+ePcrnpUEWkZUg4HbeXmbdlMBls1GBFi77JTIdhzv/4tNN3M3y/LcM5Clr01zGfuvtKQMO4p9knRj5FHnKa6pbCZHxW1nW57HcL+J770iozxJk+Zd58+gQ2nsAZAI6/I0F8m4cCLBkAAIsrUUrlJe8LlQCKjK0WRZplCfa8raPLJEnjjKE+/u8yboJMgc+a9rZmZ//+uv0jgMHUj8NDfI0d1RUx483WdMkT0hHRNaOkSe/b+ZNnnQnRUbR/GVfn3pTB/AjgStZI0TWCpFX2maBBFJlLZw9bMfSATwsn2x7al9/yqu4Zd8WCcTNOXGCZrKfmn3sGJ3LuiEjA+KCA382MEBPeRYQTYsE/N65bx+9m7ckSHBSAgDyFiyRyzbeZKRX3pFgm+jFz+/erY+E83Xu7N+/YIFOpUPW7HkPf/8lCWUprziW6X8yEkl8lUz3aRfkoYRMiZLRO0MsD1PwUOrJL7Jfq8eoLAAmGujwNxbIu3E0NMDSroiyitKC1iCP5TWZG3XncyflJ3hbwgYpi1c2mqe4I/LfvD3HHZGXM3qy2262MZs7kBdxY/ynuQM0UGMZvcgd4e+xjF/k7QXez6LD2yhETxezfi7mTvXZ/Cn6auKe2bNpwwSfMiRv8/kJ7ji/hWX2dtafqSlHgHjZw3XpNgmmcCd3mLcx/XmkSXrktfEl3HF///79NMj3GuQF1vdbFi7UqeTIFLdflhErbHNJ+PqMGfTtadPopRyMTrFh7okT9NPc6f9Fvveo0Pd3+D7XzJunU2bkFcuXsxyvSLBWjfipp7k++D6Xm9QJEwGR89tYd8VW32MIJv85y/0/LAKGAADuaBYKanF80BjQX20s8kA/jEwDLAAAPzLF5ye4w/U23i7hBl3SYcqNQDpvW7hRLYGAZ3ib6O74XO44XsxldGmKERwuoyedpN5G8Tx3WCSgsruNgs2nHztGP33oEL3PIJf7uNN73wQMspzDenMR6817WT61hD+eY315RQdQRliPRvizFfTncr7fj+zdW3XPX5wzhx5O8eT/7UeO0P/at49OMUy9Exn9G3d2v9XdTa+3UMAyCTO4nvhZlue1ESPl/oPvee3cuToVjQRrfpPLxMR/8vf9C8vyGda9icxSrpd/8cABWso2HMWfsNy/w/ICAAAAkoIACwAZI0+u38adhkHe3s0dr3ohAZGsuhlHCwV6kDvIG7nRLWs2TCTO4sb1Va+/Tj+ZYKSGl0e4E6kCKiefTD/mzl+7s4A7wD9z6BBdFfNk/K5Zs+gb06frVPsiNv5Otu13sTxkREcajrGtbe7qUkHNZ1l/dpxU7xVZ6sfP8v3/+p49OuWwl/3Hyr4+nYpG7vqX9++nKw0jLaRzKwGG/2KZtTsSyPzNgDxdPjdnjvI5YUjg/mP79qkASxxPs859ne3zv/gTVPgZltsvsR7OiXgS+X/mzaP/nAD6BwAAIBsQYAEgI07XQ7Mv5UayDdu5w/UD7nht5477Ee6MyfQSCYDI9ADZDssxfVwahNLxPcX95K2Pr+M0/qxlPRd5Q81XZ86kh6ZNo0O8385MZ/n8ApeXqYPnRUb9/Bt3cr7Dm3QkJyIXHDlCN3AnUF4vHMbvLVhAL7b41I0o3vzGG/ROvn+x8zRhEdEb6dTKVAzZGvNi7cbwB6+9Rm8JBJk+dcopsaMjTmUftWL//sigprwl6+vsgx7t7laym0jIqIrVbF/B13SLv1+9cCHtCoxumsfnfYzPP5//L4ofsD1+bfp0egwjMSIRfyb1wQci6oM/mD9fjVIEAAAATCDAAoAlAydO0GUHD9J7uXGWFmk0S4drK3ciXuFG8I9425NRx30eX5cEfd7KnR/pFC/kdFLkuh6YMYO+wZ0cCbq0G+85dEgNx58Z8cQyiDxFl6kJT+IppkLWplm1d2/o6A0Z1fMJ7mC3E6IvMlolGEiIQ0ZcSIfs+xIsbeMggXTsP7lzp045xE0TetOxY3Tj7t2R/khG0sl0s3b0O0mROmXN2JhOVfgm++O/8LxZSNZJun7PHhVUD0P07sHp0yNHvoBqPsz1gkwbCiJvUfqNhQtbesQZAACAxoAACwA10suNYFmH4H0pAyuy7ol0vqQj2siO15ncGJcFOKVDFDfn3Mu+zk76Bz11qB2eustCpL/BHZILE0wHOsD3vlFGq3R3T4gpQGmRN3F85rXXVIc5yD9wp+6eWbN0qnURW/kgd7ZknZUkiF1/SwIrvB3MKFCad2Q0ytpXX9Uph3tmzlR+I4iMAPrd3burRmcIY9xx/TLrzESYCpQEWdPnupD1VD41f76aXqYCVbt20cKIIPEXZ8+mh9lvg/REBVn+leuDv5wzR6cAAACAcBBgASAlMhXnskOHUk0tkekB0nH4b/7cmYMnYHO5US5P42U4+rIEU5rkrSZ/z53mVl5fQ57yfnzPHjorJCDgRRb93dTdTd/mxnQ7TeWoBzKC5Q9fe02n/Mg6HK06jUo6rVdyJyvJdD+ZSidT6iQQt61Np0bFIVPt/mZkRKcc/pn9xF8HAmxvZV9z865dNCVkoW85/yszZqiRc6DC7+3eTW8PrOMlevbn3Mm/je0uzJftZV/9Z3PnqpFToHY+vG8f/WLIw5PfWrAgszfwAQAAaE86+/v7P6X3AQAxyFx3maN9Ezd6z07wRFsCKv/EnYZ13NF4iDsQP+RGWV46ELKWi7yVQxbu+9bUqTTOncQ3xwQeurhTNMgdpEn8KU9PWw0JBPx/3Lnrj5km9Sp3TNbNnk1/y+UlDWi85M6MBAsPsS7JW7KCvMp5ovOtxtCRI/SZHTvojIhpFy6yYOj9bN+fnzdPTQWS0V4TEVm09wPsF72eTaZRbO6urPcho+dktFNYaPn/sr19ZeZMOj6BpwRFISMcZZSkl17Wy3nFYuj6NfLa5T+eO7flX1+dB6Sem891/qKgH2A93YJRVgAAAGJAgAWABMgaDLKYY5I3hsgoj7/gRu4/T5uWq6BKFDKVQTqI3+YOkcwzjxvhcQ7nyd3IujGtgnSYb9m5UwWJopCO8hruKE/EEQi2SKdO7GJBYKqCjFTY1GJrP/zS/v1qbZkoTrB9yGiLL8+erabAIBDn8G72jzKSxWU/+xTvuh/yZpywNVckoClvtQHh7O/sVEFhWfPIRfzvohAf/Rh3+v+EfVg7vSK+2Ygsg6PYJFj4ONeVUjYAAABAGAiwAGDg6gMH6H/u26dT0ch897+YM4f+nTsW0sFoNV7nBqNMYXqcr1+6SrKAYhjncmdaGpet8JRU1tCQkStRSGDpT+bOpUf1KB5QG6IJwSfq8mYrGcUlUxZagevYxpfHrKe0Yfp0+izryhPcuUIn1o8EprzeYHTSJDUyTpCplDKlMohMc/lXrBFiRF4JLouUxyHr1/zp/PkT7hX79UZ814xisaouLHFd8d0WesgAAACgsbR8bXzh9Z+n9evX0/pbr9ZHAMiOX9u7lz7EnYc45M0ONy5YoBYVfLkNFkOV10R/ie/lfy9cqNaWCEOe8p9mmELRbGQ6wq/EBMbkrUCf4U5JK05jyRvy9DyMtxs6hnngJO7A/taePZFvAZOpQL9/yin0N7Nm4al1CLK2kQQBvMjb0AQZDfcrIf7zczoQDcwkGS34VyzPrN4+B/zIAu9BLosJxAIAAAAtv8itBFhWndfNvcKHaOVt9+ujE5urb11Plw3oxMFnaN0Na+kJnQxSlp9iOz208jbySfEdN9DnP7KUymc8vJJuu08nBFM+XU23rr+M3Ms5/PQ6+vjn/Fdjut4095MVc4pF+jXudIXNc3eRDsLwyk/RFe87Tx8JkZ8PkyzqL6tayvvpuw6EdpL+afp0tX5CXpHXMH8gYiFimb7117MrrztNA+wrHAlGXhpYL+K5yZNVcCLP/Pbu3fTOwEKiLupNLD/7CUMZ+GmGjWatM2mQKXi/Exgl9qfc4ZdFom/buVMtbuvlP7q7ae3cuTpVTWvZl739JeH2116LfJOVzduCjPLzkgNfZLreVPeTAgnUXxkIqvzh/PkYxQISkM7fRurwNbfS+kvdb/Hj+87AeXn1abXglw0T2e+7kG5Yu4pmPRa89wA58P+2Pq+pGOXnxV5W1v7fuj2QjpZ/5PHE5z5OK1euRHBFoxR0DiumyIS3h/YspVURo3scZdzFSuicu+7peXTZ2hvYNWm0su1iJVMy/tIzNO/Sz9MN70iYrw1qHhuSyl/5EO06bxXdeo3OZkzXm+Z+suQG7nRFBVfkNcu/x53GJz91L13xvtnR8vNhkkX9ZVVreZ922Qy6OySQ8n5ucM4JrLuRF8SxRQVX7ps50y64AvsKJez1ugtjFhXOA+8+fDgyuLJm7txycCW6DPw0y0az1Jm0eNcHcfnxySerRbGDwZU3CgW1oG0UrWVf9vaXlBcjRtnJOjd2wZUY+XnJQK/qbRup7iclYb5tfs59G8gD6fxtrA7fd5v+Ds/GdniYO5KPuh1VsdNL59EzX9L5D2+ngZz6tPRcTZef8VL5d1euXEfPzLmMPn+938Ll+tavX0VLTW4xB/7f1uc1FaP8vNjLytr/m6431f0kA2NK24qr6ZyBw/TMVypRv/sfZgc8cHGIklxIQ2d00/aHKxG+Jz73KG2ftpQu10p/4QVnUvf2hyoRvMfX0qPbu2nppY7Sm/LpmnNo4OAzdE85Snk/bXz6MA1c5Cq96XrT3E92XMUd82DHwOVfuUEr00penPwuo/x8mGRRd1nZlffXuBF/IGR6hOmVx83iPYGRFC6buaF834wZOpUW2FccIydVvyNGAnAnxywu3Eyk8hNbD+P/zJ2rppAZy8BHc21UsNeZ9AwEfIAsBCxvKLssxAbvmjVLvWEonBazL2v7S840zwLCXuR18rVhlp8Xe72qt22ku5+0vBoy9Te4qDcAVaTyt+l1+OpLlxI9vbF8vmOnj9Lax/WB+26jh9hOz7xA/1qOfFp67qfbfCManqC1j22n7jOGyrKUTrbTSX+ItutjUTTf/9v6vOZilJ8Xa1nZ+3/T9aa6n4TkJ8Ai0SNZS2X9rSxqiXbJPm9uBEqGvQWPMWJQ3jVYfOmI/2lblBK/RJtd5yo8vpleOthNs9xhVy7vGKIzp22n511lUtxPz7NXmrdAJKUV9gVXXR3uf4FPmNPDuaZ8NpmzB+jwDzd7HCIr/ZMv0eFps+g0SZiuN839ZIS8DeWXI9ZcuX/mTPrLOXNIdReN8vNjkkXdZWVZ3oPcaZIgS5C8BljeEjGcXsqwZmBfschCm9K5DpLXUU4yAkvWDwnyB/Pn03+qjqu5DHw02UYz0ZmUdHPH/6LASL/nTj6Z5nKZB0cA/mDyZPr3uNEWLWZf1vaXgrD1rmTtqO/VOkUlVf2VgV7V2zZS3U96ZH2b4GvYezGCBRhI5W/T6jD3mS4e8IxeSUCefFo9UDMaEk1XyoH/t/V5TcUsPy/WsrL2//btgVrI4QiWeXTx2so8LZq2lD586630ee/cQzkWGBZWxZyL0/9Pi3PhgnncEhgLdS5VBjkwi7oP7qNXdNJL92xR+dNo1rTDtI/1qwplFKb8C6lnDtGuHaFXQz3vMF9vqvvJiKhFUf9q9mz6infkg1F+XkyyaICsrMubaDjkKd68nHaeTw3pkPyAOyQ2ixDDvsy4i5t6mZ1THQkbpSbrKsmbpRzMNuGl+TZqrzNpkWlAQZ7q6qKfCDkuUyvjaC37sre/pHQVi3R6iD97xmb9j1T1l71e1d02Ut1PbQTrjv6cPlwAeSGlv02pw8HRK4J6aj9wWWXqxTW30mXlIEx+fFpWSMc96nriab7/t/Z5TcUkPy8Z6JW1/7dtD9RGDgMs3bTrMXcOlTM3vntgoDwv6iEtAKOCTSN6Sc9DTPw/bckTNLZH7ybglb3h6xGU2b6PYs8w5T8+RtEvzRVM15vuftIgI1fCRmTIPPeot+kEMcrPi0kWDZBVmvIOe91uHuehyxiKsCe+2yLWMbAD9uVF3kAVJK8Blr4Q3f1GEjs3lYGPxtpoKNY6E03YW6K+3dUV+lrh702erPfS0GL2ZW1/1cxn+5E3XQWRt1tlTar6y1qv6m8bqe7HQPABg4xgyev0R5BjUvrbcB12plS89GSwS3o/3bbyIaJL9cj9S4mMi6I2wadlgZoONLCdHspy/c2m+397n9dUTPLzkoFeWft/2/aAgRwGWCrDfNQQIrVXOaaG7AimYTueeYiJ/6ctcaKHSTlttmFOt0QK9W4opvx39NA8vRuO6XrT3U9SJnND6V0hi10e7ehItWaHUX5eTLJogKzSlHfY87rJEWsDNBNp8h4NmaoiZZw9sC8vB0JeFVtdEvkgbF2LQ0lew2wqAx+NtdFQrHUmnFnc8Q8uECxTgEpse8HpQXtYrjJFKD0tZl/W9lfNKRFB7J1JdDUlqeova72qv22kuh8DoxFrTAGQipT+NlSHZUqFd60VjbNEwjn0vCzSqbbn6Zz1632LiVbRBJ9mh7whaL1e0NQQPEpL0/2/vc9rKib5eclAr6z9v217wEAOAywhRAz9AX6e2LErMohUNTxLInMRQ58O7xVpv0L7ouZVqvIw5TvRx/Bhg7tojCsG0/Wmuh9LFh87FtqQ/VLUooxG+XkxyaIBsrIub76+kA5pWKMzDxwJCbD0h4xqSQPsy8zMkCDWrhzqiFR8sn5IkOm+DpPZJrw030btdSYNgxGjV8Km5z2RYDHW1rIve/tLyrSIwPBOG7tKVX/Z61XdbSPV/dTG1BB/ERZQBsAhpb9NrMMX0g0XDVStFyHH1ToSnoU+1YgWeZOQWkw0Pz6tdmR9zlW0dM9DtNIquNJ8/2/t85qKSX5eMtAra/9v2x6oDdQO7YRSsjNpyDu3M3TxH0YNzxqgc3yRbe+wQ8coBs72r6BcWazIlM8qvfewb4VvwVmp+XnHMZquN839WBK2lsirnZ1qTYZQjPLzY5JF3WVlXd7s/0Jk9JrFmib15IchT8sliBbW+UsM7MuIP0DhsKMOT9ptka5S2BSLn/KNyDCXgY+m22gGOpOCdwYCLLL+jqxfE7bQcfiS0wFazL6s7S8hYW/nEt4WEuBKTKr6KwO9qrdtpLqf2pgd8G2y6O1hBFhADKn8bWIdlvUiwnyIHNe7QXTnMy8+rTZk5Ip+1a/1tKAc+H9bn9dUzPLzYi0ra/9v3x6oBdQO7UTIa6V8C2GpNzW57/UOviaLFf76i33DDqtevxZYtdyUX/1Ksavp8vOInnlYO0fT9ZryM6Qz5OnUQm5Qhb1q1MEsP/U+fv12K5Ms6i8r+/JeGDLCpx7D1LPgvyOmIyx//XW9VwOwLyMzA52QQyFv38gLT4foyBWsHz/pWaDVVAZqSLb7hroc2Ki1ziTkjGPH6PzAQrb/OH26+gybSjg9yfS8FrMva/tLiLwtqLp2Irp51y6frqYjXf1lrVd1tw3z/dgSfMCQ19GbID8Y7SKlT1OoN66EPVV33pri/X/5vVvlZR+6I5sXn1YT11xOS7nD7fqc9Dhvp3WnSzXd/1v7vOZikp+3bWSvV/b+37Y9UAuFoaGheixMkB5xNB9ZSt20vTKvzj128Bla5756S169LA5DHyMuxFXndbMDeUhFNaVQvWlF4H9qF1crIFHeVeyIdNIrByXPM+mlL328rHTSiLrMHRYVJh9XdorD9IznfxWm/HK5Omx/eGXlPeOKmOtVmPKzQRZF/bNXX9UpP1+aPZv+bepUOhbyZDZOfiqPgvKPkUUDZGVT3re/9hqdE3j98Ud7euyGqtcJGamyNqI8Pzdnjlq4uDZgX3F8cWzMN9Xu+cmT6ROnnKJT+UKuU643iHRmP8nX/JwbgIkpA1XfnPGSp1yba6MKa50xc+3+/fSBAwd0ygkC3LRggdp/07FjdOeOHWrf5YmuLvqjefEzrh1azL6s7c+MLBgswZQoHpwxQwW3Xq9hNEWc/FSet/6y1qv624ZRHyz4I9ZpGQXpInWI1CUAxBJnFzX4NFXnzH400o+U+0Caw0+vo497O4k58Gk14fM/XkJ8kQqmXEbku/aQY033//Y+r6nEyK+qbZSBXln7f1N5m/JTkp8ACwBN5padO+ltEU8ED3R20j9Nm0abeNs7AYcFy6tC7x0Z0SkHee3q7fPn61T+WL17d+jCxTKs+7e5Mxi6tg6omQUnTtBfBgIWsujpn8+erVP545f276cPegIFXu7i6070VqEJhni/9aOjvtFK/2fePPrPri61P8B6sCagB89Onky35DTQlnc+undvzEhKBwlp/sOMGfRN7vTnMeDd6sxlXb+Ldd7LAyzvv5s5U6cAAACACpgiBIDmHm4syborYczgBtaHuTO2fmSEPrlzJ/0id8rOfeMNmihN2TNC1i7515pHgTSGf4ho/MriptdEdKpB7fxESHBys+5055Wvso68HPH67uu4Y/s7u3bZrdvThrzj8GFfcOXR7u5ycEUImyLUc+JEbt8mlWekgXZxSJA4iNRDV7NP+6uxMfrVfftoADqbKWG+rTzCDQAAAAjQ2d/f/ym9D8CERtaK+N6UKfTWN96gGSFrsrgs5M7CUj7npw8dUk+/ZR78m48do15u1M7k/5MQjQzXlteVtgtDR4741lx4kTulf5PjkQnCfi6D/VymgyGN49O5rGRa2HNc3mGvdAbpkWkjYhsuYkt5f8IrVi4dpQtYR8LeKtTP9/PegwdpL+uRTIMBzoiK+Z4Ay9o5c3zr7Bxku/tZ9o1dnnVXZP/VSZPolZwuip1X5E1NUs94kVdee2Ub5Gyuiy5nnX0L11HdfJ6Uh2ygdj7E9Xyvx7fJg5j1Oa//AAAANA8EWADwIB1yWfxS3irU52lQxSGL3y3izvp53KCVt5BI41aeJkrgRRq7siZBL58zmztwk7jBe5w79LK1Ej/P9+R9Kvr/uOO8rQU6nC/xNUogRTrKQeSYvIlD7mM3htVbIZ2P/7Vvn045/CV3QFphGpZM//sB27ysrzArIrAqtryE849yR3V4AgcJ3s7+7Rc8C0XLNKr/ChmlJPogC+F6Ef/xne5uegOd/cRcwX73TI8c5S1NMtVKPO9ZAfkGOYXrHBl5Ib5bzp3CdY8Ewo5A/qmQ6UG/tnevTjl8Y/p0+j6XBQAAABAGAiwABHidG6Hf5o6APLWWJ7VRnS4TbuBFphL9JHfkZai3BF9+kTsolx86RG/nY2/lBrBMv5Eh9PIayJO5ESyvOQ1bULeZfJQ7z5P1U1N5evfnc+eq/VbgxyefrOQehow4eg+XxSh3mrfj6XrNLGMZekc4PTxtGn1dv1WmFdjNOi2vbZ7O+iABuTBkjZl3sg3L6DWxz4moLyvZD7ijlP5m1iz654gyPsad+EsCIy9EtvN4ezzn08bywjSW1cf27FHBFJf7Z86krezP/pt1VRYOnso+Ocl0IKlfJEj4fq57ZPSeBPolqJy3eiaPXHXgAJ0TCGb9Leu+jCQCAAAAwsAitwAYuIg7VdIJD76WtJ7IFCN5DeRrvMmoGpnGIk/P3+BP2eRK5Emw2udNOjTyKcckT87NyrDP5g7lZ157TaeIvjBnjnqrUishHePf3r1bp8KRDvO/TJum7q3IsgTJkOlxdwTeGvOxnh56tUVHBf30wYP0kf37aQp3cOOQKUPfYF35b+7oSjC23ZGpdp/YuVPty/SIrxsWAP7/5DXCR47oVAUZhfF/+f+3t6h+NIrg4rayOPf/6O1VAXgvi9j+lrF/e18Nr6B318+RUUhSlwA/Its/Cfg2kZcs6gwAAABEgQALAAmRJ9gy1FoCDhJskaeCeeYQN5iPcMfvMH/u48a5BGpkiLh8HuB0eZPj/CkN+DBkSsAKPf1DOlWtOvdcXnf6v3fvVkPl45DO8tf4Pr/JWy2vPp1ofPq119QoLZc/nzOH/r3FAnBBxNZlIeTgKIwopIMq239Pnty2b3FxAyZJ364kIyX++NVXQxcCl5ETn2c9kSlD7Yys6yP338k+RwIYUT42yLsPH6YbAgFhWYRd3hQUhYyAlCmq8kBAgp5pkJrsP7hMn5wyRelxbWM22w+pL4KLDP/B/PkqSAgAAABEgQALADWykBu0C2V6D2+y5oC8nlTWW5lqePKdV2S0zIvcQXzq5JPpWW5Auutn3LpzJ5139KhqVErjspWRTt9H9+xJ1AGRTseD3KGRVw1HvV1qonPN/v3lNzJJQEpeZf7jNpo6IwuF/o99+5RdJ0Wmb6hgC3+26iieIDKV8Tb2A385Z06qt4dJh/+3YkaOtdurbiXIIYukyzSyC/neg3XB/+jrU0HtOKReufPVV32LLsuU1T9NMS1TprnJ+lIX8pY22CJBoEf492SR6h+xLU/U1z6L7H531y6dcpARjl9q0QcMAAAAGgcCLABkzLwTJ9ToFgm6yAJ58/lT1nJx11lpFZ6fPJm2cCNbXk+9q7OTPrlgQVsEGrq44/IR7jTLuiFJeYQ7lc+efLKSiazXAkitIfR73AGRwNs/Tp+uOmTtikwxk+kaEnBJg8hEphTIyJZW1psvjI7SAzNn1jQyyTQ9TwJRfz1rFo20qHxktJOMaJQ3/sg6J1FI0O0zCaaWiKxEZi4vs1xuPeWUmkfT2QRbBJmq+jyX0Ut8HbIguCwc3u4jXCQQL9Me3XXHBAk8fXzhwgkxHRAAAIAdCLAA0EDkqaQEXWQBXPdT3lgkQRhpqHtfBZknPjdnjgoytBPydP1/7t2r3u6UBlmrRYIKEmyRzfREuh254vXX1TSGf5o+nb7V5tM8vEgH+j0HD6rgUlrkddDy5hFZpPQF3pcpfK2CLKRqs6jvOW+8Qb+6fz+dFRGgkjWPHpo2TS3c+gzLJu/0sTzO53txFyoPQwJH3+X7kVEgW/meknh2eSX4dYE31vzeggXqtfhZ4AZbhviao8rChNyH6LG8eWvspJPotc5ONdqx0YEHGVdzCt+PvKFPFl7u5f1+3mT9sR/qYJAEp2RkZhpkoXkZrfXmgHy+yHXgw21WBwIAAKgPCLAAkCOkqy4jYNwAjCBBF3mSdnKxSPL+jcn8KeuIqDR/yiaBGznmHVaeNfIE9u+5Qy0N63ZBmt6yzoaMTgi+VjYpMkpBOoWvcGNeRinIE1/Q3sgrnWXRV1mTJM30IS/fY52RoIvYk3Sgk67P0cr80v799EE9pSyKl1kWMkVFgi3Nes13B/tSec2xbHPY/8qnjEJcwB14Ca5EBWXFR8qIpae4THelvHZ5HfMfBxZUlWlBMj2oHmQRbPEiAcNhLrsRvm8pNwls7OzspON8XG18jizQe5z1XCzGPR6UpAQ4ZKSnvOFtpudzFm9yXN5E5daRSZBRl1+bMSPRukHCb+zdSz/jWVxYkEDy/501S6cAAACAeBBgAaCNkGfiEoyRIIz65E0arNJ1c5+Xu58lPu49Jq/8lJE00pmQtWXkiaCsKxPkM/Pn039Nab/pIPI0Wt4WFfbmkzSIxH4kARfuYLgBF7XxPpxt+yHTCWQUw0/wJmsV1YoE6mQamqyD1M4BF5GTrGsjow1MSHDhP1kuO9l2dnBHWRbptkV8onTWpeM+gz9lm8nHpPMuIyFkS3JtLhIke5yvc0tXV81TKMXn3Lh7t/LVLvfOnEl/H7OobZZkHWxJg/hL9y14ovFSNlkj9ZXUW3HIb/96SHBl09SpakFmAAAAICmZBlg6uXHRxY2MdqTIjbGOCfCEsV1AeWXD4Ouv08X799NPeF4B+pVTTqF/8Sy4qAI13DhuFxZzR+OnZI0W/eakrJBpENu5M/YadxZ3cgd6D3/uOekk2s2b7B/gz1oQyc/kTuEs3ga4g7SItxm8/xr/xhPTp9PLbeqT88g87qguOXSI3srbhYaRGia+zx27F7nj/hKX31be5BXszSJrfyrrIP3izp102Z49+kgyxEZGWK9f5U30exfbzTjb1Un8fZPYD4kFdcq+fHJaAs3KNrjTPovLZi7vT+fNlh9xh30L29ZTsqizZbD53exnVo6N6ZTDt2bOpC/19upUYzn1jTfoTewDT2c/Ir5QfEorspt1Q+zmFS6fx1me4mvDEN2WUTErR0eV3XqR8l3T34/X9gNgQbu1EfMO5N04TnB74mhEHZl5gKW7TsNZm804N9Dk/kBrgPLKFmlwX7R/P01lud6zcCEd8si2XYNZC2QaCHeS33L4MJ0beKpZD2TEwtjkyfQ6dwTkia50qMVty767ybNdt7M4mx37HL7GU/izwBVqFE9w52Idd9ZkeH4WoPJORheX07msO29l3VnK25wUoyLC+J4EXHgbZR2RAIMEGkoNKod6+dMzWT5vZxuTTfQ5j4ist3K7Rjrq22Vj+cvr77Pg/Tt30gd48/LQ3Ll097x5uam/JFgrQRbZ3sTbWVxmErTKC+Ivh7VNSNBNPn/MaQliJ+G0Q4foo6++Sn2BkTtPzphBf8t1Xa2BbwCAAx54NhbIu3Ec53YdAiyWoMPeWqC8GsdEcOZTWJ/OPHJEbW/mDoaMUmglPn/qqfRf06frlB0IsNSGdOD6vR1V1iGbrpsEV37IHX7pXI7y5w7uUErwRUZEyboWccEXyZGgqayBIdNvTAGDRvhTsau3HDyoRsv1N3iaiotMQdo6daoa9SVyfZnluq9OHexfGRujn/EsaCuLs365p4c2z5yZ+/qrl8tHAtBzZVQQb6fw/kLe+niLC/bWgoz428W6vZs3GYWylzcpE/m0HZ13PuvabwwP+6ZmCf80fz79vWFKEQAgGejwNxbIu3EgwJIB6LC3FiivxjERnbmMTjiTnao8gZcnutJZncJyyCMyzWTNqaf6Rh3ZgABLNkhH9DTWoVN5O01PyziDt6yQMQbjbJcyhUYCKepTHzuFf88bNvjqggX0z55pf0Ea7U9PZznI6J838SYBKVnUVBaeteGYBJOkoy6dc+60yyYd9f2eTaYc1RsZESJTgqRz7/LdGTPovlNOUaMvhFatv0SnZR2veTr40s33kQaZiuMGT+RTpk7Wa3rOu/burZqaJUHKv1u4UE0NAgBkAzr8jQXybhwIsGQAOuytBcqrccCZO8xmRzufN+lYyFoc8gpR6cj2cmdDOlWNQJ6C/0ivOyBrQ8inPInPEgRY6oeMlFLTMVhvVNDl8OGGjeb47TPPVCMFwsiDP5VpKWpRWv3prqUi0xbfkOAR677vLTX8KYElmeIhnfU8TPU4/+BBWvHqqyoA4XL/ggX09UBwC/VXfXn/rl30gdde0ymHb86ZQw+ccsqEeJsXAI0EbcTGAnk3DgRYMgANntYC5dU44MzNTGd9lPVS5HM6y2uat7PIm3QeZY0Odx0K6SjKE/cTLFd5Biz7MvJAXv1a5E95Ci+dRtVxlKfxrOv7uXOcxVtWTCDA0lhEP9ygiwTuZvImCxpLIC/LdUtWnX125EK68Kf2/MLOnXSlZ72VkcmT6d6FC+nZqVP1kQqQd32QqZ0SXDnHM8VTAip/29OjFsIFAGQP2oiNBfJuHAiwZAAaPK0FyqtxwJlPLBBgyQ8yJmM6V/AqUMd2KKM6TuZPKR1lkVJW/FHeOC3HZaST/I9M5yjw+c9Pm0bfjulgwp/Wzjv376ef3rNHrd8kSGDl32fPpn+LefUv5J0tEpD8+V276NLAW6v+k3X+/3E57LFcywUAEA3aiI0F8m4cCLBkABo8rQXKq3HAmU8sEGCZeMCfpkPWkJE1mi7dvVstBivIW6AenT2bnpgxQ6XjgLyzQxYSvnrHDt8aWbLgt6x7850WWFAYgFYHbcTGAnk3DgRYMgCVcGuB8moccOYTCwRYJh7wp+n4vZdfpp2TJ9MrvMlrnV/p6oqcfhUG5G2Pmg60cyedc/iwSj87bRptmT6d/ps/ZfFcF8gagPqCNmJjgbwbBwIsGYBKuLVAeTUOOPOJBQIsEw/408YCedeOvP787a+/Tj+7Zw/9aMoUenLGDHpq+nT1CvMwIGsA6gvaiI0F8m4cCLBkACrh1gLl1TjgzCcWCLBMPOBPGwvkXRt/+KMfqdc6yyiVp6dPVwEWE5A1APUFbcTGAnk3jpYIsAxedwetONez0NjIJlr92Q06EZKvOELP3XszrXtS9pfTjWuWUb86TjT8yGq680GdYNz/Dx5PSutVwiKPITpQlk84frkO06bVd1JF6swFq+iOa5dQ+Yyg/Ez5gXI58uzddPNdW3TKYflNa2hZn04ceo7u/sQ68p5hyg8jq/LK9tpMsqi/rKzLO4S2c+ZX3khrLil7Ep+MTH4qSDva14QLsKS0iabbaAY6E6SR9V8afWy+rOztL4ws5B3rq3w+zk+UPvjuI0zWOai/3v3BG+kX3uleQdg1VoMAC6gvKfxt0C7j/IX2XbsDPivaTgdp1e0raEn1S8uYynn+/3cI+kWTnQbJqo0Y69OCRMjHRw78v63PC6NhbXKj/LzYy8okC6OsTNeb6n4c4gIsnf39/Z/S+9ZIgU7yzG1NDDuV3337XJ3QzFhEl791Mm187Acq2Tv4HjrvlOB3n6Cd3/smbRkVx7GcztjJxvbJtbTz1HfTxW9/G03e+Bip/2ahXf8zvXSCC/TTfzem/jMt0qlojU6kyOJ3acX7F9GMsnx0VgBHGXezEn6S1m7cyHK7gpZ/4Aza+e9bSElJK5s4qE+u2Ugbdw/QFe+/is7Yrb/TlK8Nai7L/abPfJk2bpxMb/uV5XTRlI302AuSrw1qFhvS79xOX+ZrmDy4gpa/s1Lupvwosigv9dvk6NRG97d/fqAsH1O+H5Ms6i8r6/KOoK063KqBM5eeu/cmuv2vWQYb59O7r5tGW76rSpyu/cBx2qDlu3HjThr4+eV01Rk76Zsq308729eECbCktImm22gGOhNGo+q/NPrYfFnZ218U9vI2+KoXHuNjctyz8f2/e+kbtPkzf++0m7ywrN59/Ha6XeTE51bJugG+yFTekn/N4JFofYigddp2oPVI42+57b5iEX3/dxz9FTuL8xfLr11Bi2cQHXjZ812xdjpGW/5d27pnm/zWy2nhjzfQX6g2zCC9++fPozce0z5Rn+O91lp8WjZtxHTtr1D5eMmB/7f1eVE0pE1ulJ8Xe1kl8f/1bQ+EI8GsEydO6JSf3NQqEilavVpvjww7B/sWc7E49M+SmJKMWPGct9odndFPM6byd2x1YlVbntrGZ86lBRdIip3WlUuo69Bz9EBU1LiNWH7TClqyjzv99z7HMohjkAZPlxE9lQjflrs20/DUJbTsSic9eP4i6hrZVIngPbmONo900ZJLnFIx5dOVi6nfJ/cNtOnZI9TPijyo0stpcR+X6YOVKOWGR/i6+4ZolSo7U34d4Wsckt9+pBL/3PDZTSyfRTQov23KD2KSRd1lZV/e7Q9XAiq44h31tYHWecrkTl9EfQufN0xdp7Ns9ZEKsK92IJ1NNN9G7XWmmaTRxxzIytr+6kkaX+Ww/JIlRM9uKsvTB8tmnSsnxpG1p65rev1l1gcAGk4qf8s2+omK/gqODVT6QWWuvJE7o8M0fEinXUx2GoSvY6hvmDaXr084QgdG9G4VLeLTouTjofn+39bnNRej/LxYy8re/1u3B2ogHwGWB++s3JTw4FbSIZaEDNMBNqT+xR5B0W7awZ2kweuuoiVTh2lTYKhRu7Lhs6tjpyyUuWCQFrFctnrlzqq5lR3r3Pmi8lphddDKZcNWLplZCyTXkM8ms7ifjry8xSd3FfyaOsMZJqaMbhtt8U5henILbTvURTNkmJgpv+44OlRB9Mz726b8CiZZ1F1W1uU9AQiTYa3AvtqAlDbRdBvNQGeaSRp9zIGsrO0vT4R2tGK4YAHN9dR/Ta+/jPoAQOOpj7/VD4Ie3EQH9JFIAnYapDqo6jysjqQlfFoS+eTA/9v6vKZilp8Xa1lZ+3/79kAt5HNcpAhbPg8dCARaumjJtWtozRrZ7vBETLfQugcl2rVM5a04l+i5e++kDdxouOpcFponqgU0fTOoq0q+Dl2zRPriaCMi2cooTPmDtGAW0e6dXpNycUYXDc6fS7Rvh8/oXMQoTPnNwvTb1fkmWTRAVtbl3f64Muy/yfUxvN0e9qSpglQcoXKHfbUB6Wyi+TZqrzPNJJU+Nl1W9vbXaCJ9FRM7eiUE//k5qL+M+gBAo7H3t+phcUCvl98kUy0e8IyyjSbWriODqt5+1hq60TNaohV8WjL5NN//W/u8pmKSn5cM6kpr/2/bHqiN3AVYZB6Vs8iTd7iQU0B+xAl4gixPrqObfVOHltON1y7xD/kBRob3xU8sopED8VOPTPlP7qDdejecLbRjn94NxZSfESp62k/LbqoMD3NGQ+mEKT8JJlk0QFbW5d1GyDTEI7OGaPFW14/cTc/RElrhKWMv4quWcQNlU5IRYxrYVxuQyiZyYKPWOtNM0ulj02VlbX/1Id5XOcOztz0V1rytIHPk3U6X+MjIhTpdclB/GfUBgEaT1N9eeaPzsNgzbULZMW2Ktb2kdupMidgaCL5soDvL/SjeHhmm/kv8QZZq8uPTksgnlqb7f3uf11RM8vOSQV1p7f9t2wMGchRgkcVZZfSJu9aKdx0EmZvoMXrp+Ki5dV206PzwqKlEMfvJMT4xOtfhrFlzIzcnQBTOWjcxSKRQ74ZiyldDFuMIC6Z5MeVnhegc69ksZ1SUbFfRA7RpxI3EmvITYJJFA2RlXd5tRte+zZ6ArDsyLjgH2vVVsqBWutFxsK82IJVN5MBGrXWmmaTTx6bLytr+siaBr5IRwyObjU/E1fRj3QbbujhBWyoH9ZdRHwBoNAn8rQqSBNeDk4DL6dvobsMDnWR2OkiDp5NvDcFQHryT7pa1MvTyC+HkxKcllE8sTff/9j6vqZjk5yWDutLa/9u2BwzkJMAiBqNfHzayiR2DN7gSxhba8nJMXEkWOOojZ2qQmiYkU4bcwIx/1MGERSJzEUOfjuyTgVbR64k4U7dM+U70MXzYoDMndMvO3ZHz2yRIYcqvP/7A3s13ERu8dxiZKd/FJIsGyMq6vCcoKsruDGN0kNXQ9ULSccEV2FcbkM4mmm+j9jrTTFLpY9NlZW9/9SeJr+K21wX9VXPPTUgnbtNIPw1dJ3eXg/rLqA8ANJpa/K0TPFBvU/H1gxw7palLaIV+oLdGbJv7TDLCJGoqs99OPVy5jJZQYM2LBOTXp6WVT/P9v7XPayom+XnJoK609v+27YHayEeARYzdDa5EDGG90RcUWU7L9Luuq42az5UpRu7UIBWBcp2ZU9BRBTmhUB3HflrsG/rnHSrsyCoYua4sVmTKZ5Xed6RqhW/fsERlFIEVzr2LFZnyG42pUorJN8mi7rKyLu/2J3RBKxVld/2HNH6cV80ZF5KGfbUBKW2i6Taagc40kzT6mANZWdtfXUnqq2Tuuf31NL3+MuoDAI0nrb8tvwW06qUc/od5zuaM5FdvYE35Eg9Z8yK0DgvBNwogtz4trXxy4P9tfV5TMcvPi7WsrP2/fXugFnIRYJGbUOhFaiubZ2ibL0+m/wjVRu2dGlTBfQKthxxFLKbT9lywiu4oLw5c/bq4weuGfEOFq16/FlgUy5Rf/UoxCYx5hiWGvAbLtyiXKb/OLL/OE/UW2V3CmsXX5OqOMV+GeerAoEkW9ZeVfXm3PfL2Mi6Dq8pPe7hCv9IjQxUIjpGH6ADsq60wlYGafuo+HcuBjVrrTDMxyYfvJU/2ZW1/9cTkq1zU2xvCn9B566/lNwWmGahRwin0qu62YdYHABqN0S5YX8s+TfmfI1a+2GSnDtzRPb0rfMQJn+9bb0X9v+eaWsGnRSKjXyrryTTd/1v7vOZikp+3bWRfV9r7f9v2QC0UhoaGSnrfms7OTuru7tap5EhFLlN6qhkuz7GTwnLWZ9Eceo7uDkQl3XMkYuld2Nb3vyH/l4Tx8XF1fy0DK8cd1y6ibd45nCHHfLIPkw07WGfRYSG4Ng5jyle/uaQ8jy1YNlw6lelhQtUoJlN+OJmUl+/aTfdWna9kS57rNcmiAbKyLu8QisUidXTkbr3sGpFK2A3gsgSevbuyYJpPNl60nEjKr/3tq1QqUaFQ0KkJQEwZqLpF5n2XyzUHNmqtM9U0rv6LkY+67pzZl7X9hWMtb999eQnR31mbQ6/JX3/5/SLfafWaLg3wRabyNupDCC3XtgOtRZxdeH2aaj9UzvMS7qMde5nxpDcvgZ2qc4boQNDXKQI2GPr/6X1aJm3EhD6tQlA+jmzIK8um+3+zLGvxaQ1rk8fIr6ptZC0rsyyMsjKVtyk/hOPHj9PRo0d1yk8uAiytACrh1gLl1TjaK8ACTEy4AAuAP20wkHfjgKwBqC9oIzYWyLtxxAVYUAIAAAAAAAAAAAAAliDAAgAAAAAAAAAAAGAJAiwAAAAAAAAAAAAAliDAAgAAAAAAAAAAAGAJAiwAAAAAAAAAAAAAliDAAgAAAAAAAAAAAGAJAiwAAAAAAAAAAAAAliDAAgAAAAAAAAAAAGAJAiwAAAAAAAAAAAAAlhSGhoZKet+azs5Omjx5sk4BACYChUKBSqXM3AgAAAAAAAAgJWiTN45isUhHjx7VKT+ZBlgAAAAAAAAAAAAAJiKYIgQAAAAAAAAAAABgCQIsAAAAAAAAAAAAAJYgwAIAAAAAAAAAAABgCQIsAAAAAAAAAAAAAJYgwAIAAAAAAAAAAABgCQIsAAAAAAAAAAAAAJYgwAIAAAAAAAAAAABgCQIsAAAAAAAAAAAAAJYgwAIAAAAAAAAAAABgCQIsAAAAAAAAAAAAAJYUhoaGSnq/iVxNt66/jAZ0qsz2h2jlbffrBJ9163q6rHzSYXrmSx+ntY/rZOA7tj+8km67TyeYC6//PK06r7vqeNvxjhvo8x9ZSt06efjpdfTxzz2hU9W4cnHYTg+tvI0qEmcC31clP1N+oFzCrsdXrgefoXU3rCXvGaZ8e+QaL6Z9Pn3yciHdsHYVzXrMc2/X3ErrLy0ro49omZtkUX9ZWZd32+KU8dJpOumjIie//JiAjwoC+8o7fvmxBAP1SkA+YWUYoOk2moHO1Av/vVXLWkisj4H7VATPr7us7O2vbgTureragnWY6doy0Kt624bRdgBoOGn8rf9cX/siUZsz8P/G+szBb8v59Wl++2ZC2l+pri0H/t/W5zUVo/y82MvK2v+brjfV/ZhpmREsPsErumnpRz5PN7xD9qVzxAUnxrZyJa17+jANXHorF6eGhfZhFroUqI2wWoGrLyC6h2Ugcli58iHadd4quvUanRnAUcZdrITO+euenkeXrb2BpanRyraLlUx935eeoXmXujJPkK8Nah7LPep6VLnOYUPS1/DQnqW06tZyyRnz7RC9WU/rPUYfRH5//fqQjvd9t+l78mx8/4fZqB8NOA0HkyzqLyvr8m5rnqC1N+j79mwPbZeKYKN20lfT5We8VJbvypXr6Jk5l9Hnry9L0AfsK/9ceP3FRK58ZXt4F9cr/rqj54VKflUZBmi6jWagM/Xjahqie/Tv8haUNZNKHwdmUbc0wtzvk83bIKu7rOztr57EtwW47ruIynpmvLYM9KretmG0HQAaTjp/e+H1PfS81t+q9kWCNqexPmNr6JnjdBy931PpF+XZp5nbX+rayOkHlq8tygfkwP/b+rymYpSfF3tZWft/6/ZAevIRYHlHD82TTx0gKW9uZJJv/GLVA5ZorJMnHR8Jspx5gYjvNJrFHeDtLzjnP/HkS3zmPOpRguGGxIeWqobYPaEd3/bi/s95I37300YJNp0d5vwupKEzZERPJcL3xOcepe3TltLlWukvvOBM6uYyKTvfx9fSo9u7aemlzveZ8umac2jAJ3d9PRe5Sn81nTPAZfqVyjXf/zBXGAMXa6U25dtx9a2raOke1jlVSVUjBusY/ENchZm5+tKlROXOeACTLOouK/vynnAov+MNmN1Pt/ki6k/Q2se2U/cZQ7qMvMC+WoEnPvfxinyF+zbSMwcH6By34meZr/XkO2V4Jg2Fyqf5NmqvM/Xkflpb/l0mKOta9HHPWPncIHWXlbX91Zf4toAElP1P95xrO4evuprm+yKTbZhtB4CGk9LfPsE2W7HJuPaFQ7DNaazPFIdpX1SDNtc+zdD+Uu01vraHKxK8/zZuu0fU1833/7Y+r7kY5efFWlb2/t+6PVADrTGCRZ5Uyef2R8tD3e5/wfEQjnG9QvsO8mm68aAERbtojM+98PoP09Jp2+mhwFCjicJps7vp8N5XdMrDO4boTJbL815nzKr5PIt13gJRea2wOmjlouQ+p4dzTflsMmcP0OEfbvbJXQW/ps2i0yShjO4l2uwdIv74ZnrpYDfNkoCaKd+S+2/zBPFCkMrK90Q0jqrOuB+TLOouK+vynnjEBsxMwL7aE/UwwKlbqmi6jWagMw1FHox4Gvsp9fHCBeqxTAT1l5W1/TWYyLaAkRz4IpNtGG0HgMZj62+Vj4sKIhvanOE4D6OjaDWfVk2wbpa+Ydi15cD/2/q8pmKWnxdrWVn7f/v2QC3kK8AycBmtXy9TMnjzDg3SDSlf42D7PmfUgSqgJ2jtVyTa5fz/qvOInvnSbXQ/OyCZGuSNak0o4hywGl69j91PNd2zReUDjV8vSuamfGco4q4dIb+tRxfFVR5iFKb8PBHfGTfJogGysi7vCUbCxotUHKFyh321JqqijpA7E2fnzbdRe51pJDKcfcDz0KQmffS2GXxDp+stK3v7aygJ/Jl6MBWqfznwRSbbMNoOAI3G1t9eTZdLX8YzIsNLogdAofVZNy39iPaZvFWmabSYT2Mi218Bqq+t+f7f2uc1FZP8vGSgV9b+37Y9UBv5CLCIcPRuGWk46SCLPHkx8vha+nh5epEs6nQ13fqRpf4hPxMBbkh93m1wfkjmYKcLLr2yN2yyjAc3sBWFKf/xMdqld8N5gsb26N1QTPnNwBne9tKTYe4hBpMsGiAr6/JuU5zhgs/H2o6aQsadlodiRkEFgX3lGafOoKfvqVoU0G2MnvPCyqqF2eLJgY1a60x2iM24svywrMditJ1o+agRhuU6fx09QzHz7V3qLStr+8uQNG2Ba251Hkx5hmgbyYEvMtmG0XYAaDSxdiFrVbj1zTn0vOrL6CwfSdqcYfXZ/XRb2Wfy9vB2GrjUG2QJIU8+zUNV+0uNeBigy3zrdsgMBp1IQtP9v73Payom+XnJQK+s/b9te8BAPgIswcWb2OgVej5wrJAiolZX3yoLlzrG523UrV/vX1Sv7fAGmr5C9GG+56hFOMMwBrPCgmFeTPnuejuRONHOaEz5TUCGt3mexCbGJIsGyMq6vNsSGS4Y/eRI8mVxZGdBrXQBTNhXTpE3NOhF2IIBFDWVUPvU589OW4fkwEatdSY7vEGRe+jDLEvTInJJ9VHWFImeb1+m3rKytr8MSdgWUAHES+eFvtEplhz4IpNtGG0HgEYTaxfeAMjzdI70WTwBgzKmNmdMfeaD+17qpSCh6zRq8uTTFFHtL6kDnIVv3f6eBPFlvc7w0RMhNN3/2/u8pmKSn5cM9Mra/9u2Bwzkcw2W+54PXVTUNywq7sbZucgbh9TUoHfINCGZMiQOi40vEOFsa6SB9aVniM67vLpDIJG5iKFPzlSsqLmLjApqmfKd6GP4sEFnnuQTO3ZFzm8Th2jKzwfyNoaBqrl7fkyyaICsrMt7AnHN5bSUAvNBy8gTJr04clxwBfbVMqgAvOpgmkenSLDloe0DdHFIR7X5NmqvM41Egi3rnqbyInLZ6mO9ZWVvfw0ltC3gdFSchdzjgis58EUm2zDaDgCNxtbfSrDlIdpetYBsfJszTX3mpxV8mqn9JUEWN0Al90/cSQ+b+tF8/2/t85qKSX5eMtAra/9v2x6ojVwEWC68/lafA1Fzs2VH35haDEfSnhWFxcEIwYVzlAHKu+LdqUEqEOM6M6egowpyQqGGZwVXF/cOO3RkFYxsVxYrMuWzSu89XLUCum/qhTKKwBNH72JFpvxcIHP3zNdjkkXdZWVd3hMHmQ8afs/SIdGvmjNNbYB9tQZqaoQ8CUv59D6MpttoBjrTTGz10fdErP6ysra/JnO1+xY940LuOfBFJtsw2g4Ajac+/jamzVlDfeZ9yp9vn5ai/eUS+bAsB/7f1uc1FbP8vFjLytr/27cHaiEnI1jm+RZdWnWeY/DlG1Nz62THXZyJGwZqXl31om3eqUEV3AWl9JCjBIsitSTvuIFu9T1ZZYf0Ic9CWGpOtjsku/p1ccFFB6tev8b/710oz5Rf/UqxwKJdj1e/Bsu3cJcpPw+o1a/DI5xq6LUeLWWSRf1lZV/eEwNnNfHQpzFSWbPDj5QH7KvFcAL1h2Pu9+pbA9OB1OjIShmop4Xuuh85sFFrnakjFwYepMi1qdGlSfWVz6/YF5fdrRU5qTTXdd0NlJW1/dUTvhdTWyD4StMg3vqr+b7IZBtm2wGg0Rjtgu2o4tOuplsDo+tVfyaow5FtTnN9JvWXb70VVZ9V/ECufZqp/cVcfb2nThDZXsq9wcfcALKMfqmsN9N0/2/t85qLSX7etpG9Xtn7f9v2QC0UhoaGSnq/iYjiS2CkwvaHVwYWp2XnsdYNrAjbq9Y/kAKV4Ezwf93jioPP0Lo2fmWz716Zw945mOJwPnImveSZay2NKJlOpQiTDTvg9TIiSMGOODhP25SvfpMbvjppLNftDwWi06b8DAiRix9HP6nq2rW8Zz8aek1KtuS5XpMsGiAr6/Jue6SsL6Z9Yfftk40XLSeCfbUWgXv3UpZDsG7y1zvK/s94yVOuObBRa52pF0F5h1xbnHyCfjpgj766zqXesrK2v/phbgtUrtuLew9V9Ze1XtXfNoy2A0CjibMLlRft08JsILrNGfSvHsrfEzynuh+VW58WlE0Zjy/yXXvQR4W045vu/+19XlOJkV9V2ygDvbL2/6byNuWnJCcBFgAAAAAAAAAAAIDWJZ+L3AIAAAAAAAAAAAC0EAiwAAAAAAAAAAAAAFiCAAsAAAAAAAAAAACAJQiwAAAAAAAAAAAAAFiCAAsAAAAAAAAAAACAJQiwAAAAAAAAAAAAAFiCAAsAAAAAAAAAAACAJQiwAAAAAAAAAAAAAFiCAAsAAAAAAAAAAACAJQiwAAAAAAAAAAAAAFhSGBoaKul9azo7O6mjoz1jNnJfxWJRp0DeEV0cHx/XKVBPIOuJRaFQoFIps2oDtACw8cYCeTcOyBqA+oI2Q2NBf7WxHD9+XO/5yTzA0t3drVPthVTAcn+gNUB5NQ5x5O0aWAXVSENJGkxg4gB/2lgg78YBWQNQX9BGbCyQd+OQ4MrRo0d1yg9KAAAAAAAAAAAAAMASBFgAAAAAAAAAAAAALEGABQAAAAAAAAAAAMASBFgAAAAAAAAAAAAALEGABQAAAAAAAAAAAMASBFgAAAAAAAAAAAAALEGABQAAAAAAAAAAAMASBFgAAAAAAAAAAAAALEGABQAAAAAAAAAAAMASBFgAAAAAAAAAAAAALCkMDQ2V9L41nZ2d1N3drVNJWU43rllG/ToVZPiR1XTng0SD191BK87t0kddjtBz995M656Uff/3uP/n4v5/8HhSxsfH1f21BvGy8OKX6zBtWn0nbdApxQWr6I5rl1D5jOB3mfID13Lk2bvp5ru26JTD8pvW0LI+nTj0HN39iXXkPcOUH0a68pJrHKIDZV0KQd/n7gi9cgiRX5lBWnX7CloyVSeZoKx896mJPacGWVmXdwjFYpE6OtokVhu4/1r01Us72lepVKJCoaBTrY/v/qvKyC9ff50Tjq2886AzQdLWf+oeZm2m1Z/1Xnm8D/Tft5/qe2CuvJHWXFIpmWpZVv9eVflZy8re/sLIpL0RuLfwcvbLyKQLvjKqupf6+yKTbRhtJ4TWatuB1iOtv42xSaPPc4i208a0Q4PUpY2oZDE3oj527nPGkyH1hpcc+H9bnxdGo9vk6hqr6vsg9rKy9v/Wbadqjh8/TkePHtUpP539/f2f0vvWSIFOmjRJp5JyNl10+SKaoVNBDry8kR57gah38D103inB7z5BO7/3TdoyKsa0nM7YuYlWf3It7Tz13XTx299Gkzc+Rj+Q01ho1/9ML53gAv30342p/0yLdCpaoxPpKPFcvtebPvNl2rhxI82/eBVN++4WCt65o4y7WQk/SWv5vJ2nXkHLP3AG7fx3fa5WNgkqfHLNRtq4e4CueP9VdMZukXmC/KprmUxv+5XldNEUp0zVGWJQs9iQfud2+jJfw+TBFbT8nZNp42Oq5Iz5USQrL9Gb36UV7xf9c3VJZwVYfu0KWsxK6uqjYJSflyuvpauObyiXSbWsBundP38evfGYlqWcw5v7W4KtrKzLO4L26XCzvv7O2+mI5/7f8zPvobel0Fcv7WxfbRNgYRm/+/jtdLu2uWAZDV73P2jRczdVbHLK29hfXFSpWwI03UYz0JkwEtd/0uj9tauduvr1l/16ZPCBY9/9pnPcu015C10+f5g2fCHoU9l3r1hE3/8dR05ybrXuvp2WvX8hDd97E93+1+53unJgrGVlb39RZNHeWP7zg7T5M87vhpez7mztc9pNIp99g1fQ27mtEHZ1Qd3c+PogXfH2LbQlI1nY2obRdiJonbYdaD3S+ts4m0zi8wx22oB2aBjZtxFFFhfT/JOr2+1yfb9+9Xmc52+vV5ED/2/r86JoWJs8rr73YS8ra/9v3XYKR4JZJ06c0Ck/OahVNtCdq1fTat+2iYYl69BztElHj/pnSUxJnj55z3Mjl/00YyrR8FYnVrXlqW185lxacIGk2BCvXEJd/F0PxEaN24PlNzlK7I0MbrgrLLo8SIOny4ieSoRvy12baXjqElp2pZMePH8RdY1sqkTwnlxHm0e6aMkly1XSlE9XLqZ+n9w30KZnj1A/K/KgSi+nxX1cpg9Wrm/DI8/Rkb4hWqXKzpRvx/KbdEV2L3+nPhYKO5Fls4Zp+JBOK8zy8/Hgnf5orZbVovMdSTgcoQMjercKW1nZl3fbo/XV9Tly/w+Ivi527z+NPsK+WgKW6TpXvoxTRotoUN//lrturshfeHATPXeonxaH2XgObNReZyyQBop6oriaNoX5sUQ+0AvX3Rf00zCf5/kvzRZa94mKnARHlotZyl52046I0UbWsrK2v/rir/f1tZV9Gd//dVc59Z/nqeMW/h+vTMvwPV2lGq8embO8yrZTd19kso2U9TEAjSClv423yQQ+z2SndW+HNgZHTtwm12kX6WSrTrrbh4yh+f7f1uc1Gb7P2Prei7Ws7P2/ddupBnIZtpcggQwjCm9YhTFMB7jz6zYelKB0w0oZ4tRh2mQYwtYeOEq67akEd3rBIC1iuWx1lUmxgbayocydLyqvFVYHrVw2bGW3NWuB5Bry+WoW99ORl7f45K6CX1NnOMPElNFtoy3eBvCTW2jboS6aIcPETPmWbPjsasOQNmE53ShOhDtWB/QRhVF+aXGChJHYysq6vEEqfYR9tSYXLKC5MZ3yWJpuoxnojA1cX99cfuiRAVcuoyXkCXimRZVlFPaysra/BiMPqY5wp8Qh/P6jcBqfW1kbw6m7LzLZRub1MQD2pPO36WwyDJOdmrFshzYCN4j02a36QAV5ILI6UV8vB/7f1uc1mxT1vbWsrP2/qbzN+lAL+QuwsPEMiUAPhTWsumjJtWtozRrZ7vBETLfQugcl2rVM5a04l+i5e++kDcoQWWieqFZb43YO+m7UMgrKyUPfDOo6dCA0yts1S1ReHG1EJFsZhSl/kBbMItq9M8zVOaOLBudz83ffjlBnKEZhym8EzoigB6qdiFF+JiQYFpSPV7/X0I2eKLW1rKzLewIgoxO4S3fVdVq3lP9gX/KI4z1S6SPsqyVZfskSomc3RdcXqiIPL5fm26i9zjSWMB/oEjd6JRzVuaiSXz8tC60LbWVlb38NRbWrhmlz+Qmivn9aRXeU5eOvc7w4wRmiVbdXzl1zk/tkrwG+yGQb1vUxAFmT1t+ms0kh6PPi7TSMbNuh9ceZkbDbuk/XfP9v7fNahgzqSmv/bypvU35t5C7AIg1cmQzkb1g5BeRHnICnwaSiad6pQ8vpxmv5u7xDftodpWRzaWjx1vI0qrufJZbTjexGkzG8L3ayDNHIgfjpNKb8J3fQbr0bzhbawRVENKb87FDDDWlT1UJMcRjlp+BK4vZl1O/TzcBUuUeGqf+S+Mo1C1lZl3dbIUNw76Ztp69wGhfXLqJthgVN0+oj7Ct/yNxftzG5eOvqGHt36hQKC7hGkgMbtdaZehDmAz2EPpGK4cobnQcrniHG/jaBWxdGPHBwsZWVtf1lyAWejhrXIw94pw3o0T2LFstxb50TJh/d/jqdT37QlecmGu5bRne4wegwGuCLTLaRrD4GoIFE2UUqm2SqfF5aO21UOzQ7ZFr/opfvrl+frun+397ntQwZ1JXW/t+27WQgZwEWJ5rKYgk0rKTj4zH61XfTc2o9jOj52840o2Ha9NkNqqPsNqDXrEkebGhJpu6mzb75mw/ErBlQjbPWTQwSxNG7oZjyY4dtC2HBNC+m/IyQyuv0bXS3cQqRH6P8VKNXr/0S990P3skdgiO+OfPV2MvKurzbCVmwa81VnsbJA3xsTXwnIqU+wr7yh5oqqOuWrYsj6gilG9XrW5nJgY1a60zGJPCB8mQ2diSRBxUgi3ybRAUZPr6par2BALaysra/DPEGmLg9dRW3f4K+bNsjnoAU1zmx8nl5k0e+3BHjzlfX6YN8RxE0wBeZbMNoOwA0GoNdJLHJWJ+XxE4b2g7NhloeeKam6f7f3ue1DBnUldb+37btZCBfARaZh8UfR4wNqy205eWYuBI3huVVT2pqEDsSNcxfLY4rgZl+WhY7ZK7dcKKAVcP3JDIXMfTJmact69pEzKtUQ7FM+RG/q3DWONiyc3fk/DYZTmbKrx/O8HSauoRWlANzXBlNZYO9hPdvX0WDRvmFIJ00vUq1ee0XP9aysi7v9kfNE/WNTnCmHtK5y1SHO5U+wr5aEgm2bBrppyFPR1QF6PVibnGNu+bbqL3O1J1EPnA5LeM627yWmDyB1W8eSL32i62s7O2voUiw5d6KL4tCnvglHn5e1tcG+CKTbRhtB4BGk42/9dtkDT4vaBt1bIfWD6kTuKurl4FwNnmIrqczpe7TNd//W/u8liGDutLa/9u2nWojVwEW6eAI1Ya6nG70GZA2Nib0XHlPvDvsTUWgXGfmFHRUQbY8D25lRXDmtFVwooBVclLDs4IjW7yL5DqyCkauK4sVmfJ1xRCInPsW4VJGUXljh8I7NNyUXzeCI6Zkc0ZNyXvR1SJaRvkFkCcGupOWdHijL/pqKyvr8m534qLl2qbS6CPsqz3gxqjz6r8Ejdmm22gGOlNPkvpAebIVXPAuhPJb4BIvYO+1cXtZWdtfM/EuIOhB6pzqxjvL42W+12DgRdpWuvFZd19kso209TEADSCVv01gk/E+z2yndW+H1o2ot80ecR6epwwU5cL/2/q8FsJaVtb+377tVAs5CrCIMOQzwlCrIpdC9bneqUEV3KCDbmBFLKbT+siqyV205MrKK+DUW5TcNzGoYYHufM7q18UNXjdE/SObyx2Jqtev8bnehfJM+dWvFHOeTLqLhspTteBrsHyLTJrym4pZfmoYpw4MqrWFPHlVcEfON8+V08vYOWQnK/vybm9048T3hHdQv+Jdd/ZMMmZ5wb5ai+U3BaYDKbtzZeyMZIsbUalGt8iINknkwEatdaaOyL3G+kCNaniF1dF8L2X7Uvfl8Y8hDF53Y0UOjPtGwaxkZW1/9YTv5UbfdCDHl1V+2/F3/Zd49N+n+3ytnvpLvfGB22CVOsp5kOWulVd/X2SyDbPtANBojHbB+lppMxhsUvmneJ9nslOjD7Zth+YalgX3H937a7r/t/Z5+cbbNrKvK+39v23bqRYKQ0NDJb1vTWdnJ3V3d+tUSvhm7pBFaQ89R3eHRGelsFboUSuKkPPcc2SUgTc66/vfiO83MT4+ru6vFZCGkUyRUnjvV8nYv3Bn5Lku7GDXyIgghUSLA09yTfluuepksGy4dGjV7c70G8VIcE6oKT+cVOUVIpdqnOuY8aT/+uPkp/LIuV7feV7K/xO4TwkSehclVNjLyrq8QygWi9TRkbv1smvDd/9MGhlPEPsqlUpUKBR0qtWRRpcbsBe8dheQjRctJ1W3yFpN5XK1l3fzdaaatPWf1/e5mH2gg5w3tC9krRuvfcmbNjz34KVyP4GyrUWWJllZ2184WbQ3gm2mIyHrB/nP8dc5VWVYd1nY24YpP4xWatuBFiTOLlSev80QaZOB7/FS/Z3hv2f2wQEbrKkdWk192oji34foQNBnKxzfTz4fFHKs6f7f3ueF0eg2eVVdwVS1jaxlZZaFUVa2bacQjh8/TkePHtUpP/kJsOQcVMKtBcqrcbRVgAUYaa8AC0gC/GljgbwbB2QNQH1BG7GxQN6NIy7AghIAAAAAAAAAAAAAsAQBFgAAAAAAAAAAAABLEGABAAAAAAAAAAAAsAQBFgAAAAAAAAAAAABLEGABAAAAAAAAAAAAsAQBFgAAAAAAAAAAAABLEGABAAAAAAAAAAAAsAQBFgAAAAAAAAAAAABLEGABAAAAAAAAAAAAsKQwNDRU0vvWTJkyhaZOnapT7UVnZyeNj4/rFMg7HR0dVCwWdQrUE8h6YlEoFKhUyqzaAC0AbLyxQN6NA7IGoL6gzdBY4NMah8h57969OuUn0wDLySefTPPmzdOp9uLYsWPq/kBr8MYbb9DkyZN1CtST48eP06RJk3QKtDtSoUgFDiYO8KeNBe2NxoH6C4D6Ig+n5SE1aAzwaY3j8OHDtG/fPp3yg1YyAAAAAAAAAAAAgCUIsAAAAAAAAAAAAABYggALAAAAAAAAAAAAgCUIsAAAAAAAAAAAAABYggALAAAAAAAAAAAAgCUIsAAAAAAAAAAAAABYggALAAAAAAAAAAAAgCUIsAAAAAAAAAAAAABYggALAAAAAAAAAAAAgCUIsAAAAAAAAAAAAABYUhgaGirpfWtOPvlkmjdvnk61F8eOHVP3lxve+zH69Pmv01fvuJue0YeWXvsJ+uDZU3TKz9hjt9AXvqETHvz/M0bfueULtFGnFOevoE984Cwqn1H1PZfTxz79TurRqaMvfJVuv9e9IsGUz2d87NP0TveEwy/67kkw5Yfxxhtv0OTJk3XKhFzjIL3+97fT3U/pQ5psr635srIv72qOHz9OkyZN0qkWIcR+WDq04uYP0lndOskE77/Kxsa+Q7d8wSdBH9bytrY/e50JUiwWqaOjjWLzogsXlSVILwb9gCk/QNNtNAOdCZLYn/pkFfbbFZQcZobpm//64r6j+bKyt78wsmtvRMgyUE5eTPqgZD5zS4jfs5eFrW0Y9SGElqy/QItgblNEon3TXu/5QbsN8yc59Gnj4+PU2dmpUzYE5Bn52855058yyDoHsrL1eWE02qdF1wle7GVl7f+t2wPVHD58mPbt26dTfjr7+/s/pfetEQPq7vZ4kjYiOwdhiSjAb3yQLj11OlvRbnru28/QDp2143uP0qZNm/zblHPop+eO0cYvV85zcZRxLyvhH9NdfO7u3kvp8vedTrvd79TKJg7+j9fxd+3tp0svu4JO3/soPfOqnOAYzGw2lNvWfoV/bzK99erL6YIpm+jJl5Lka4OSRvYfrKGv8DVMXvpBuvyCybRJn2DKj0LK66STTtKpKMQJ/yZ98LIBmk4naPfz7n05qN8m7kD/8V1Kluq339Nflo8p30/zZWVf3uFIhzsXtpGEGPuh936Arji2Ucs/XN8/8L4TtFHLd9Om3dT/nsvpitN206Pfqy5xa3lb25+9zoRRKpWoUCjoVIujGqxULqNNU97K/uBS6ndlbMoP0HQbzUBnwkjkT+W3L1tIP/r722jN/xNZnUPvvyhCVnzuNW+fSycFbbDq+jbR3AtXUPf3vOc4NF9W9vYXRTbtjRhZvvSkSvs2vv+LlhyjLWv/mUKvTmzhV99P585jPTj448A92MvC1jaM+hBBS9VfoLUwtimiufwXP0hv4mbKwR+7NsTt1Q8O0At/oOuiEBvJq0+TNkMWD2Uu/9hv0tvecNvc3P66+F30rqX+35br+9X3n0tzJ3llF0IOZGXr86JomE+LrRO82MvK2v9btwfCkWDW0aNHdcoPpgi1FKykWgG++kJ4gfphh3x+D409FR7hPW9gCo09VonwPXPvFhrrPot+6r1Oeum5AzRl7DuVCB5/z5axKXTWRZc76fe+iXoOv0hfK0chN9K3+bp6WFGXStKUz/fzpp6j9OI3Kte38bEX6WjPIF+3pEz5dlz+sQ/SWfvZWf89f6c+VoavcVB++7FK/HPjF77D8hmg8+S3TflBmi6rDMq75THYzze+4I+o6/sfONcpASmTL/gi6s/Q3U+N0ZSB83QZebGXt7X9Ndm+8o/jH4++8O1yGYkOfKdc5qb8IM23UXudqR3nt7dURvdEyorl+l62w7Exna5w+cecRpjXDjfe67U5lxzIytr+6ktyWTpcftFZRF5d98L39ImLZtOLf38Ll6k+5qXp9ZdZHwBoOMY2RQTccX3nzDEaO6zTCm5v3FHRb8GxkTex9Ti0t0/Tv11uc7M8vhG4f+5kq076LdwW18eiaL6sbH1ek+H7jK0TvFjLyt7/W7cHaiAXARaJXH3605+mT1y7VBmI7Mv2MS24FTc76coxB/f/KtsnnMKQgtfH5DvLeI57v6d14A7eLeYhS2Xe+1N0Fr1I3w47//zzaKB7jH7ky9tIP2JDmT1HZKYVdpvXnfMZ2/iEmfOVUVy+iDsf258uG4TwzLPb6Wj3dOrlfVO+Y3Tb6WnvcPunnqbth6fQdBkmZsq3ZOMXbjEMadtLO31TAUbpdd9vm/IrNF1WGZR365PSfmywlre9/TXbvlqFvXu8EmQr3n+UpsxUElSY8ss03UYz0JkGsPTaK1Rg+wvb9IEyTiNr+7N+eYeSA1lZ219dSSFLgdtGgz1jtKXcAA7Ajc3bb4meGtf0+suoDwC0CpfTx6Tj+o1v0+v6SDLa3aeZeebe2+mW0ClDQXIgK1uf12wMdYIXa1lZ+3/79kAt5GsEy8AVVJk/RdRz0cfoYzLKwDPrSI5Fx5Om0Fkf4HwpeD0qYcrZP6XPd55eT1Fz6BvUyWoqcaNXmJ7pNOXw6zSqk16czkMvTe8+Sq+zflWhjGIpzZ9Z3flwmE3zzzfl8xXOmU20f2fo9YlRmPKbhem3q/NzICvr8p6ISCclqlwcpOIIlbu1vG3tr3XtKxeYKtWQ/ObbqL3O2KCeGPW8s/LwQp7CBjvt3JG/QobxhgW2z5/PV7GXdvZ8rPqhSZCmy8re/upKGlkysaNXjOSg/jLqAwB5IEGbQo08+1qijqt66l7W+zb3aeydvv0C0VnvdUc9OCMha/NbzZeVtc9rGTLQK2v/b9seqI1cBVim0Hb66i230C3l4V091KOGe/Gx8jQOp0AENQJBnS/bV+lFNZyuh94kDTwJsjwm39JD7/zYClpxs7O4zthjySJuLU9oRM+MPJ2NZez16uk0Xp7ayc26GEz5bGI79+vdUEz5GaGip6I7lXCeevLqBvtM+UnIgaysy7ttkZFz7DO8QwYDqOGo3IEM7SxGYC1vW/vLi33lgmfo6e1H/UF7FQBwg/ym/CTkwEatdSYpMkLsO0QX6Q69WrvGO6RdHnIM0Pa/9w9zL6MaSbNpcNGPyvX6V6VBLQ9N9Ckmmi4ra/vLiFSyTDnaJSk5qL+M+gBAw0jYpqDvVC3+Gcp7P0YfPJt80ypCaRefxsgIla9uH6APqoDxB2lge/VCqVY0XVb2Pq9lyECvrP2/bXvAQK4CLJUhRM7QHqF8THVoZacyFM07nUiMrapzq+aA82fPWSpPVi1u/5ErDhLZriWy2zvT0HmQhpveDUU9OYvBlK+jndGY8rNC5rt+lV6c+c6yjl1BX1P65ERiTfkJyIGsrMu7HVFTCfX6PKHBE2faorOgVkRnMQJredvaX27sKx+oBtsLs+md2oY//V6ir0lgXj9NMeWbyYGNWutMMpz6+E30I92hv+WWH9GbWGaVqb7vJDI94OjeS1s8NvfMvV+jFw/rhyYJaLqsrO0vQ5LKUoZne9fOyYoc1F9GfQCgERjbFIwETAa201cTPLBRyyOo9S8SPDBuG592OX2M6xNpZ7tB469x6tM3uyNaMqDpsrL3eS1DBnpl7f9t2wMGcr/IbWRnVUVv+dbH2GEpY3NHsEQzcYaKXk4/dTbFP5GSyFzE0Kej+2WgVfR6IqSGYjnRxfBhgbI2iSmfG3x79kYOxZdyN+XXHwmiuJ2FW+j2e4kN3juMzJTvkgNZWZf3BIH9yqf1QrjhDSGp5HVDKS64Yi1vW/trBfvKB2retrZhmb9Nc2brMnIw5bs030btdaZ29BxmzyJzakTLY2POQnayHlg3t1fc0S2yyetGu89STyOj10SLuOamy8re/hpP2DUvdaYSB+aep8NeFta2YdQHAJqEsU0hOHbo+kPHRzoPjZXPLAcRnIc7zkKuweBKm/s0tU6Hd6FUvh4JGlMti742X1bWPq9lyECvrP2/bXugNnIfYIlCzdnyoqbE6H0XdmzqndpslC9Kp9c7P7ydkchgcMGgIGp4VvBplneosGMUPYv8A4q9ixXJ8KvgG1SclZh/pBrZpnzHKAJv3fFObTLlNxq1aHCMXGPymy6rDMq77ZGnTHpV9PCRbs5TeHkzR/ziyIy1vO3tr+XsKxeYgtMx+U230Qx0pmZkDrPeDSINn298oRKkcjcZCcR1s0wBVvb2jR/RGFWmADs4T7GqGu85kJW1/dWTxLKUcrO/nqbXX0Z9AKAJGNsULv6Hdc7mPDQek8CMXri1/ObL0IVc29unVfX5PIR33uPIgaxsfV4LYS0ra/9v3x6ohZYNsKiIl9Cjp2h8YIAba84hB1mJW6Irzquf7pZXPnEqfpHc9kApbtgQdjVM0V3oLviaLP6/awd9Q4WrXr/G53rfNFD9yjCn8+G+Rs2UH/YaLN9ie6b8OnP5tZ6hh6qi9C8abMyXYZx6jZbmy8q+vNsdkZfvNbNB1FP4GHmIDmRoX7b2l3f7ygXvXVGRL5eUM0feowOGfDUtxn26mAMbtdaZmnGm9XqvXb5b1cFuI8qIfAfLp7yIodz/FZU34fF358m+rO2vrhhk6aKeCoc/ofPWXyaaX3+Z9QGARiM6HNumYH2t+DQDyj9xfybGV7ezT3PeOuO9Nu3TupMGHJwpRu5D9qbLytrn5Rtv28her+z9v217oBYKQ0NDJb1vzcknn0zz5s3TqeRIRS4jTWSNFHfBIveYRG+dyK80bp0hc+4x9xxh7LGv0uvnu/my0J6zqK33O6XAnbcUjaVeO+HYsWPq/vKCuheZrxkSyRa5DO4PWfyJFeYTapHBytBCrwzV08Tg98nwRhWoEuQNTIFhieo75e1MDpXy0pjyPeWqkClfvtEBpvxw3njjDZo8ebJOGQiRi8J37aZ7r85XsiXP9eZAVtblHcLx48dp0qRJOtUahNmPTzZeXDn5ZONFy4mq9cha3rb2Vwf7KhaL1NHRsrH5AP7799YXDvH51XpkL+/m60w1Sf1ppY51qJanB7nO81+vur/I+1fXnTP7sra/cLJqb5jko8pr5pbQa1L/662/NFHHG+GLTPdj1IcQWrH+Aq2BTx+9uLoZ4tMqOPYw/SltRwH78uKztRz6tPHxcers7NQpGyRI4vTtHKL6cs555Lv2kGNNl5W9zwuj0T4trE6oahtloFfW/t+2PRDC4cOHad++fTrlJxcBllYgbwEWEE+qAAuwAg3UiUV7BVhAEuBPGwvaG40D9RcA9SW7AAtIAnxa44gLsKCVDAAAAAAAAAAAAGAJAiwAAAAAAAAAAAAAliDAAgAAAAAAAAAAAGAJAiwAAAAAAAAAAAAAliDAAgAAAAAAAAAAAGAJAiwAAAAAAAAAAAAAliDAAgAAAAAAAAAAAGAJAiwAAAAAAAAAAAAAliDAAgAAAAAAAAAAAGBJYWhoqKT3renoaN94jdxbsVjUKZB3UF6NA7KeWKC8Jx4o88YCeTcOyBqA+gIbayyQd2OJknWmARYAAAAAAAAAAACAiQimCAEAAAAAAAAAAABYggALAAAAAAAAAAAAgCUIsAAAAAAAAAAAAABYQfT/A0rxd6glLfH2AAAAAElFTkSuQmCC)"
      ],
      "metadata": {
        "id": "S3eeTZpZSvQQ"
      }
    },
    {
      "cell_type": "code",
      "source": [
        "plt.hist(diabetes_data['Glucose'], bins = 10)"
      ],
      "metadata": {
        "colab": {
          "base_uri": "https://localhost:8080/",
          "height": 338
        },
        "id": "b5EPZfklToY2",
        "outputId": "7e015def-a2ad-42d6-b69e-c7258f47c967"
      },
      "execution_count": 37,
      "outputs": [
        {
          "output_type": "execute_result",
          "data": {
            "text/plain": [
              "(array([  5.,   0.,   4.,  32., 156., 211., 163.,  95.,  56.,  46.]),\n",
              " array([  0. ,  19.9,  39.8,  59.7,  79.6,  99.5, 119.4, 139.3, 159.2,\n",
              "        179.1, 199. ]),\n",
              " <a list of 10 Patch objects>)"
            ]
          },
          "metadata": {},
          "execution_count": 37
        },
        {
          "output_type": "display_data",
          "data": {
            "text/plain": [
              "<Figure size 432x288 with 1 Axes>"
            ],
            "image/png": "[encoded data removed]"
          },
          "metadata": {
            "needs_background": "light"
          }
        }
      ]
    },
    {
      "cell_type": "code",
      "source": [
        "zero_features = ['Glucose', 'BloodPressure', 'SkinThickness', 'Insulin', 'BMI'] # 이상치 값들 갯수 세기\n",
        "\n",
        "total_count = diabetes_data['Glucose'].count()\n",
        "\n",
        "for feature in zero_features:\n",
        "  zero_count = diabetes_data[diabetes_data[feature] == 0][feature].count()\n",
        "  print('{0} 0 건수는 {1}, 퍼센트는 {2:.2f}%'.format(feature, zero_count, 100*zero_count/total_count))"
      ],
      "metadata": {
        "colab": {
          "base_uri": "https://localhost:8080/"
        },
        "id": "D8hEQ1UjTwJ3",
        "outputId": "dedff28b-5053-4472-dad8-e2abd6e38c08"
      },
      "execution_count": 38,
      "outputs": [
        {
          "output_type": "stream",
          "name": "stdout",
          "text": [
            "Glucose 0 건수는 5, 퍼센트는 0.65%\n",
            "BloodPressure 0 건수는 35, 퍼센트는 4.56%\n",
            "SkinThickness 0 건수는 227, 퍼센트는 29.56%\n",
            "Insulin 0 건수는 374, 퍼센트는 48.70%\n",
            "BMI 0 건수는 11, 퍼센트는 1.43%\n"
          ]
        }
      ]
    },
    {
      "cell_type": "code",
      "source": [
        "# zero_features 리스트 내부에 저장된 개별 피처들에 대해서 0값을 평균값으로 대체\n",
        "mean_zero_feature = diabetes_data[zero_features].mean()\n",
        "diabetes_data[zero_features] = diabetes_data[zero_features].replace(0, mean_zero_feature)"
      ],
      "metadata": {
        "id": "vwK6IPvmUzrC"
      },
      "execution_count": 39,
      "outputs": []
    },
    {
      "cell_type": "code",
      "source": [
        "X = diabetes_data.iloc[:, :-1]\n",
        "y = diabetes_data.iloc[:, -1]\n",
        "\n",
        "scaler = StandardScaler()\n",
        "X_scaled = scaler.fit_transform(X)\n",
        "\n",
        "X_train, X_test, y_train, y_test = train_test_split(X_scaled, y, test_size = 0.2, random_state = 156, stratify = y)\n",
        "\n",
        "lr_clf = LogisticRegression()\n",
        "lr_clf.fit(X_train, y_train)\n",
        "pred = lr_clf.predict(X_test)\n",
        "pred_proba = lr_clf.predict_proba(X_test)[:, 1]\n",
        "\n",
        "get_clf_eval(y_test, pred, pred_proba)\n"
      ],
      "metadata": {
        "colab": {
          "base_uri": "https://localhost:8080/"
        },
        "id": "yLaO-7aVWoql",
        "outputId": "d671fed4-a988-4b33-96c7-54bf31207d8f"
      },
      "execution_count": 40,
      "outputs": [
        {
          "output_type": "stream",
          "name": "stdout",
          "text": [
            "오차행렬\n",
            "[[90 10]\n",
            " [21 33]]\n",
            "정확도;0.7987, 정밀도 : 0.7674, 재현율 : 0.6111, F1 : 0.6804, AUC:0.8433\n"
          ]
        }
      ]
    },
    {
      "cell_type": "code",
      "source": [
        "thresholds = [0.3, 0.33, 0.36, 0.39, 0.42, 0.45, 0.48, 0.50]\n",
        "pred_proba = lr_clf.predict_proba(X_test)t\n",
        "get_eval_by_threshold(y_test, pred_proba[:, 1].reshape(-1, 1), thresholds)"
      ],
      "metadata": {
        "colab": {
          "base_uri": "https://localhost:8080/",
          "height": 438
        },
        "id": "DInrsCFvYFEv",
        "outputId": "14a2ff5f-5d0a-44a4-92c5-2268064eb35e"
      },
      "execution_count": 41,
      "outputs": [
        {
          "output_type": "stream",
          "name": "stdout",
          "text": [
            "임곗값:  0.3\n"
          ]
        },
        {
          "output_type": "stream",
          "name": "stderr",
          "text": [
            "/usr/local/lib/python3.8/dist-packages/sklearn/metrics/_ranking.py:546: FutureWarning: Arrays of bytes/strings is being converted to decimal numbers if dtype='numeric'. This behavior is deprecated in 0.24 and will be removed in 1.1 (renaming of 0.26). Please convert your data to numeric values explicitly instead.\n",
            "  y_score = check_array(y_score, ensure_2d=False)\n"
          ]
        },
        {
          "output_type": "error",
          "ename": "ValueError",
          "evalue": "ignored",
          "traceback": [
            "\u001b[0;31m---------------------------------------------------------------------------\u001b[0m",
            "\u001b[0;31mValueError\u001b[0m                                Traceback (most recent call last)",
            "\u001b[0;32m<ipython-input-41-ba762111e687>\u001b[0m in \u001b[0;36m<module>\u001b[0;34m\u001b[0m\n\u001b[1;32m      1\u001b[0m \u001b[0mthresholds\u001b[0m \u001b[0;34m=\u001b[0m \u001b[0;34m[\u001b[0m\u001b[0;36m0.3\u001b[0m\u001b[0;34m,\u001b[0m \u001b[0;36m0.33\u001b[0m\u001b[0;34m,\u001b[0m \u001b[0;36m0.36\u001b[0m\u001b[0;34m,\u001b[0m \u001b[0;36m0.39\u001b[0m\u001b[0;34m,\u001b[0m \u001b[0;36m0.42\u001b[0m\u001b[0;34m,\u001b[0m \u001b[0;36m0.45\u001b[0m\u001b[0;34m,\u001b[0m \u001b[0;36m0.48\u001b[0m\u001b[0;34m,\u001b[0m \u001b[0;36m0.50\u001b[0m\u001b[0;34m]\u001b[0m\u001b[0;34m\u001b[0m\u001b[0;34m\u001b[0m\u001b[0m\n\u001b[1;32m      2\u001b[0m \u001b[0mpred_proba\u001b[0m \u001b[0;34m=\u001b[0m \u001b[0mlr_clf\u001b[0m\u001b[0;34m.\u001b[0m\u001b[0mpredict_proba\u001b[0m\u001b[0;34m(\u001b[0m\u001b[0mX_test\u001b[0m\u001b[0;34m)\u001b[0m\u001b[0;34m\u001b[0m\u001b[0;34m\u001b[0m\u001b[0m\n\u001b[0;32m----> 3\u001b[0;31m \u001b[0mget_eval_by_threshold\u001b[0m\u001b[0;34m(\u001b[0m\u001b[0my_test\u001b[0m\u001b[0;34m,\u001b[0m \u001b[0mpred_proba\u001b[0m\u001b[0;34m[\u001b[0m\u001b[0;34m:\u001b[0m\u001b[0;34m,\u001b[0m \u001b[0;36m1\u001b[0m\u001b[0;34m]\u001b[0m\u001b[0;34m.\u001b[0m\u001b[0mreshape\u001b[0m\u001b[0;34m(\u001b[0m\u001b[0;34m-\u001b[0m\u001b[0;36m1\u001b[0m\u001b[0;34m,\u001b[0m \u001b[0;36m1\u001b[0m\u001b[0;34m)\u001b[0m\u001b[0;34m,\u001b[0m \u001b[0mthresholds\u001b[0m\u001b[0;34m)\u001b[0m\u001b[0;34m\u001b[0m\u001b[0;34m\u001b[0m\u001b[0m\n\u001b[0m",
            "\u001b[0;32m<ipython-input-22-dc30f7705d87>\u001b[0m in \u001b[0;36mget_eval_by_threshold\u001b[0;34m(y_test, pred_proba_c1, thresholds)\u001b[0m\n\u001b[1;32m      7\u001b[0m     \u001b[0mcustom_predict\u001b[0m \u001b[0;34m=\u001b[0m \u001b[0mbinarizer\u001b[0m\u001b[0;34m.\u001b[0m\u001b[0mtransform\u001b[0m\u001b[0;34m(\u001b[0m\u001b[0mpred_proba_c1\u001b[0m\u001b[0;34m)\u001b[0m\u001b[0;34m\u001b[0m\u001b[0;34m\u001b[0m\u001b[0m\n\u001b[1;32m      8\u001b[0m     \u001b[0mprint\u001b[0m\u001b[0;34m(\u001b[0m\u001b[0;34m'임곗값: '\u001b[0m\u001b[0;34m,\u001b[0m\u001b[0mcustom_threshold\u001b[0m\u001b[0;34m)\u001b[0m\u001b[0;34m\u001b[0m\u001b[0;34m\u001b[0m\u001b[0m\n\u001b[0;32m----> 9\u001b[0;31m     \u001b[0mget_clf_eval\u001b[0m\u001b[0;34m(\u001b[0m\u001b[0my_test\u001b[0m\u001b[0;34m,\u001b[0m \u001b[0mcustom_predict\u001b[0m\u001b[0;34m)\u001b[0m\u001b[0;34m\u001b[0m\u001b[0;34m\u001b[0m\u001b[0m\n\u001b[0m\u001b[1;32m     10\u001b[0m \u001b[0;34m\u001b[0m\u001b[0m\n\u001b[1;32m     11\u001b[0m \u001b[0mget_eval_by_threshold\u001b[0m\u001b[0;34m(\u001b[0m\u001b[0my_test\u001b[0m\u001b[0;34m,\u001b[0m \u001b[0mpred_proba\u001b[0m\u001b[0;34m[\u001b[0m\u001b[0;34m:\u001b[0m\u001b[0;34m,\u001b[0m \u001b[0;36m1\u001b[0m\u001b[0;34m]\u001b[0m\u001b[0;34m.\u001b[0m\u001b[0mreshape\u001b[0m\u001b[0;34m(\u001b[0m\u001b[0;34m-\u001b[0m\u001b[0;36m1\u001b[0m\u001b[0;34m,\u001b[0m \u001b[0;36m1\u001b[0m\u001b[0;34m)\u001b[0m\u001b[0;34m,\u001b[0m \u001b[0mthresholds\u001b[0m\u001b[0;34m)\u001b[0m\u001b[0;34m\u001b[0m\u001b[0;34m\u001b[0m\u001b[0m\n",
            "\u001b[0;32m<ipython-input-32-0328f71a2a37>\u001b[0m in \u001b[0;36mget_clf_eval\u001b[0;34m(y_test, pred, pred_proba)\u001b[0m\n\u001b[1;32m      7\u001b[0m   \u001b[0mf1\u001b[0m \u001b[0;34m=\u001b[0m \u001b[0mf1_score\u001b[0m\u001b[0;34m(\u001b[0m\u001b[0my_test\u001b[0m\u001b[0;34m,\u001b[0m \u001b[0mpred\u001b[0m\u001b[0;34m)\u001b[0m\u001b[0;34m\u001b[0m\u001b[0;34m\u001b[0m\u001b[0m\n\u001b[1;32m      8\u001b[0m   \u001b[0;31m# ROC_AUC 추가\u001b[0m\u001b[0;34m\u001b[0m\u001b[0;34m\u001b[0m\u001b[0;34m\u001b[0m\u001b[0m\n\u001b[0;32m----> 9\u001b[0;31m   \u001b[0mroc_auc\u001b[0m \u001b[0;34m=\u001b[0m \u001b[0mroc_auc_score\u001b[0m\u001b[0;34m(\u001b[0m\u001b[0my_test\u001b[0m\u001b[0;34m,\u001b[0m \u001b[0mpred_proba\u001b[0m\u001b[0;34m)\u001b[0m\u001b[0;34m\u001b[0m\u001b[0;34m\u001b[0m\u001b[0m\n\u001b[0m\u001b[1;32m     10\u001b[0m   \u001b[0mprint\u001b[0m\u001b[0;34m(\u001b[0m\u001b[0;34m'오차행렬'\u001b[0m\u001b[0;34m)\u001b[0m\u001b[0;34m\u001b[0m\u001b[0;34m\u001b[0m\u001b[0m\n\u001b[1;32m     11\u001b[0m   \u001b[0mprint\u001b[0m\u001b[0;34m(\u001b[0m\u001b[0mconfusion\u001b[0m\u001b[0;34m)\u001b[0m\u001b[0;34m\u001b[0m\u001b[0;34m\u001b[0m\u001b[0m\n",
            "\u001b[0;32m/usr/local/lib/python3.8/dist-packages/sklearn/metrics/_ranking.py\u001b[0m in \u001b[0;36mroc_auc_score\u001b[0;34m(y_true, y_score, average, sample_weight, max_fpr, multi_class, labels)\u001b[0m\n\u001b[1;32m    544\u001b[0m     \u001b[0my_type\u001b[0m \u001b[0;34m=\u001b[0m \u001b[0mtype_of_target\u001b[0m\u001b[0;34m(\u001b[0m\u001b[0my_true\u001b[0m\u001b[0;34m)\u001b[0m\u001b[0;34m\u001b[0m\u001b[0;34m\u001b[0m\u001b[0m\n\u001b[1;32m    545\u001b[0m     \u001b[0my_true\u001b[0m \u001b[0;34m=\u001b[0m \u001b[0mcheck_array\u001b[0m\u001b[0;34m(\u001b[0m\u001b[0my_true\u001b[0m\u001b[0;34m,\u001b[0m \u001b[0mensure_2d\u001b[0m\u001b[0;34m=\u001b[0m\u001b[0;32mFalse\u001b[0m\u001b[0;34m,\u001b[0m \u001b[0mdtype\u001b[0m\u001b[0;34m=\u001b[0m\u001b[0;32mNone\u001b[0m\u001b[0;34m)\u001b[0m\u001b[0;34m\u001b[0m\u001b[0;34m\u001b[0m\u001b[0m\n\u001b[0;32m--> 546\u001b[0;31m     \u001b[0my_score\u001b[0m \u001b[0;34m=\u001b[0m \u001b[0mcheck_array\u001b[0m\u001b[0;34m(\u001b[0m\u001b[0my_score\u001b[0m\u001b[0;34m,\u001b[0m \u001b[0mensure_2d\u001b[0m\u001b[0;34m=\u001b[0m\u001b[0;32mFalse\u001b[0m\u001b[0;34m)\u001b[0m\u001b[0;34m\u001b[0m\u001b[0;34m\u001b[0m\u001b[0m\n\u001b[0m\u001b[1;32m    547\u001b[0m \u001b[0;34m\u001b[0m\u001b[0m\n\u001b[1;32m    548\u001b[0m     if y_type == \"multiclass\" or (\n",
            "\u001b[0;32m/usr/local/lib/python3.8/dist-packages/sklearn/utils/validation.py\u001b[0m in \u001b[0;36mcheck_array\u001b[0;34m(array, accept_sparse, accept_large_sparse, dtype, order, copy, force_all_finite, ensure_2d, allow_nd, ensure_min_samples, ensure_min_features, estimator)\u001b[0m\n\u001b[1;32m    798\u001b[0m \u001b[0;34m\u001b[0m\u001b[0m\n\u001b[1;32m    799\u001b[0m         \u001b[0;32mif\u001b[0m \u001b[0mforce_all_finite\u001b[0m\u001b[0;34m:\u001b[0m\u001b[0;34m\u001b[0m\u001b[0;34m\u001b[0m\u001b[0m\n\u001b[0;32m--> 800\u001b[0;31m             \u001b[0m_assert_all_finite\u001b[0m\u001b[0;34m(\u001b[0m\u001b[0marray\u001b[0m\u001b[0;34m,\u001b[0m \u001b[0mallow_nan\u001b[0m\u001b[0;34m=\u001b[0m\u001b[0mforce_all_finite\u001b[0m \u001b[0;34m==\u001b[0m \u001b[0;34m\"allow-nan\"\u001b[0m\u001b[0;34m)\u001b[0m\u001b[0;34m\u001b[0m\u001b[0;34m\u001b[0m\u001b[0m\n\u001b[0m\u001b[1;32m    801\u001b[0m \u001b[0;34m\u001b[0m\u001b[0m\n\u001b[1;32m    802\u001b[0m     \u001b[0;32mif\u001b[0m \u001b[0mensure_min_samples\u001b[0m \u001b[0;34m>\u001b[0m \u001b[0;36m0\u001b[0m\u001b[0;34m:\u001b[0m\u001b[0;34m\u001b[0m\u001b[0;34m\u001b[0m\u001b[0m\n",
            "\u001b[0;32m/usr/local/lib/python3.8/dist-packages/sklearn/utils/validation.py\u001b[0m in \u001b[0;36m_assert_all_finite\u001b[0;34m(X, allow_nan, msg_dtype)\u001b[0m\n\u001b[1;32m    112\u001b[0m         ):\n\u001b[1;32m    113\u001b[0m             \u001b[0mtype_err\u001b[0m \u001b[0;34m=\u001b[0m \u001b[0;34m\"infinity\"\u001b[0m \u001b[0;32mif\u001b[0m \u001b[0mallow_nan\u001b[0m \u001b[0;32melse\u001b[0m \u001b[0;34m\"NaN, infinity\"\u001b[0m\u001b[0;34m\u001b[0m\u001b[0;34m\u001b[0m\u001b[0m\n\u001b[0;32m--> 114\u001b[0;31m             raise ValueError(\n\u001b[0m\u001b[1;32m    115\u001b[0m                 msg_err.format(\n\u001b[1;32m    116\u001b[0m                     \u001b[0mtype_err\u001b[0m\u001b[0;34m,\u001b[0m \u001b[0mmsg_dtype\u001b[0m \u001b[0;32mif\u001b[0m \u001b[0mmsg_dtype\u001b[0m \u001b[0;32mis\u001b[0m \u001b[0;32mnot\u001b[0m \u001b[0;32mNone\u001b[0m \u001b[0;32melse\u001b[0m \u001b[0mX\u001b[0m\u001b[0;34m.\u001b[0m\u001b[0mdtype\u001b[0m\u001b[0;34m\u001b[0m\u001b[0;34m\u001b[0m\u001b[0m\n",
            "\u001b[0;31mValueError\u001b[0m: Input contains NaN, infinity or a value too large for dtype('float64')."
          ]
        }
      ]
    },
    {
      "cell_type": "code",
      "source": [],
      "metadata": {
        "id": "Jm3rP-lHZ9Ei"
      },
      "execution_count": null,
      "outputs": []
    }
  ]
}