{
 "cells": [
  {
   "cell_type": "code",
   "execution_count": 1,
   "id": "885fe761",
   "metadata": {},
   "outputs": [],
   "source": [
    "import numpy as np"
   ]
  },
  {
   "cell_type": "code",
   "execution_count": 5,
   "id": "329ace69",
   "metadata": {},
   "outputs": [],
   "source": [
    "np_arr1 = np.array([1,2,3])"
   ]
  },
  {
   "cell_type": "code",
   "execution_count": 7,
   "id": "00f6044d",
   "metadata": {},
   "outputs": [
    {
     "name": "stdout",
     "output_type": "stream",
     "text": [
      "[1 2 3]\n"
     ]
    }
   ],
   "source": [
    "print(np_arr1) #넘파이와 Array의 구분"
   ]
  },
  {
   "cell_type": "code",
   "execution_count": 8,
   "id": "56474e28",
   "metadata": {},
   "outputs": [
    {
     "name": "stdout",
     "output_type": "stream",
     "text": [
      "['1' '2.0' '3']\n"
     ]
    }
   ],
   "source": [
    "np_arr2 = np.array([1, 2.0, '3']) # 제일 메모리가 큰 String 타입으로 자동변환\n",
    "print(np_arr2)"
   ]
  },
  {
   "cell_type": "code",
   "execution_count": 12,
   "id": "9f87669f",
   "metadata": {},
   "outputs": [
    {
     "name": "stdout",
     "output_type": "stream",
     "text": [
      "[1. 2. 3.]\n"
     ]
    }
   ],
   "source": [
    "np_arr3 = np.array([1, 2.0, '3'], float) # float 타입으로 강제 지정\n",
    "print(np_arr3)"
   ]
  },
  {
   "cell_type": "code",
   "execution_count": 14,
   "id": "6a6b8f9f",
   "metadata": {},
   "outputs": [
    {
     "name": "stdout",
     "output_type": "stream",
     "text": [
      "int32\n",
      "<U32\n",
      "float64\n"
     ]
    }
   ],
   "source": [
    "print(np_arr1.dtype)\n",
    "print(np_arr2.dtype)\n",
    "print(np_arr3.dtype)"
   ]
  },
  {
   "cell_type": "code",
   "execution_count": 16,
   "id": "90721ba9",
   "metadata": {},
   "outputs": [
    {
     "name": "stdout",
     "output_type": "stream",
     "text": [
      "(3,)\n",
      "(3,)\n",
      "(3,)\n"
     ]
    }
   ],
   "source": [
    "print(np_arr1.shape) # 어떻게 생겼는지 표현\n",
    "print(np_arr2.shape)\n",
    "print(np_arr3.shape)"
   ]
  },
  {
   "cell_type": "code",
   "execution_count": 18,
   "id": "10fce5cf",
   "metadata": {},
   "outputs": [
    {
     "name": "stdout",
     "output_type": "stream",
     "text": [
      "[1 2 3]\n"
     ]
    }
   ],
   "source": [
    "np_arr1 = np.array([1,2,3])\n",
    "print(np_arr1)"
   ]
  },
  {
   "cell_type": "code",
   "execution_count": 19,
   "id": "08b48c0b",
   "metadata": {},
   "outputs": [
    {
     "name": "stdout",
     "output_type": "stream",
     "text": [
      "[[1 2 3]\n",
      " [4 5 6]]\n"
     ]
    }
   ],
   "source": [
    "matrix = np.array([[1, 2, 3], [4, 5, 6]])\n",
    "print(matrix)"
   ]
  },
  {
   "cell_type": "code",
   "execution_count": 20,
   "id": "9a85c4aa",
   "metadata": {},
   "outputs": [
    {
     "data": {
      "text/plain": [
       "(2, 3)"
      ]
     },
     "execution_count": 20,
     "metadata": {},
     "output_type": "execute_result"
    }
   ],
   "source": [
    "matrix.shape"
   ]
  },
  {
   "cell_type": "code",
   "execution_count": 22,
   "id": "1c6153ce",
   "metadata": {},
   "outputs": [],
   "source": [
    "tensor = np.array([[[1, 2, 3], [4, 5, 6]], [[2, 3, 4], [5, 6, 7]], [[1, 2, 3], [4, 5, 6]], [[1, 2, 3], [4, 5, 6]]])"
   ]
  },
  {
   "cell_type": "code",
   "execution_count": null,
   "id": "2ca05e4d",
   "metadata": {},
   "outputs": [
    {
     "ename": "",
     "evalue": "",
     "output_type": "error",
     "traceback": [
      "\u001b[1;31m'c:\\Users\\chaos\\AppData\\Local\\Programs\\Python\\Python39\\python.exe'(으)로 셀을 실행하려면 ipykernel 패키지가 필요합니다.\n",
      "\u001b[1;31m다음 명령어를 실행하여 Python 환경에 'ipykernel'을(를) 설치합니다. \n",
      "\u001b[1;31m 명령: 'c:/Users/chaos/AppData/Local/Programs/Python/Python39/python.exe -m pip install ipykernel -U --user --force-reinstall'"
     ]
    }
   ],
   "source": [
    "print(tensor)"
   ]
  },
  {
   "cell_type": "code",
   "execution_count": 25,
   "id": "84ece4a0",
   "metadata": {},
   "outputs": [
    {
     "data": {
      "text/plain": [
       "(4, 2, 3)"
      ]
     },
     "execution_count": 25,
     "metadata": {},
     "output_type": "execute_result"
    }
   ],
   "source": [
    "tensor.shape"
   ]
  },
  {
   "cell_type": "markdown",
   "id": "2f7b4d4e",
   "metadata": {},
   "source": [
    "# 배열\n",
    "## 배열 생성 시 주의사항"
   ]
  },
  {
   "cell_type": "code",
   "execution_count": 27,
   "id": "5f1071dd",
   "metadata": {},
   "outputs": [
    {
     "name": "stdout",
     "output_type": "stream",
     "text": [
      "[[1 2 3 4]\n",
      " [5 6 7 8]]\n"
     ]
    }
   ],
   "source": [
    "np_arr4 = np.array([[1, 2, 3, 4], [5, 6, 7, 8]]) #shape이 같은경우\n",
    "print(np_arr4)"
   ]
  },
  {
   "cell_type": "code",
   "execution_count": 29,
   "id": "04dd1a18",
   "metadata": {},
   "outputs": [
    {
     "name": "stdout",
     "output_type": "stream",
     "text": [
      "[list([1, 2, 3]) list([5, 6, 7, 8])]\n"
     ]
    },
    {
     "name": "stderr",
     "output_type": "stream",
     "text": [
      "C:\\Users\\chaos\\AppData\\Local\\Temp\\ipykernel_21320\\3848360580.py:1: VisibleDeprecationWarning: Creating an ndarray from ragged nested sequences (which is a list-or-tuple of lists-or-tuples-or ndarrays with different lengths or shapes) is deprecated. If you meant to do this, you must specify 'dtype=object' when creating the ndarray.\n",
      "  np_arr5 = np.array([[1, 2, 3], [5, 6, 7, 8]]) #shape이 다른 경우\n"
     ]
    }
   ],
   "source": [
    "np_arr5 = np.array([[1, 2, 3], [5, 6, 7, 8]]) #shape이 다른 경우\n",
    "print(np_arr5)"
   ]
  },
  {
   "cell_type": "markdown",
   "id": "5e882aa3",
   "metadata": {},
   "source": [
    "## 차원(rank) 확인\n",
    "- ndim => dimension확인\n",
    "- size => 전체 칸 갯수"
   ]
  },
  {
   "cell_type": "code",
   "execution_count": 31,
   "id": "1a6800fe",
   "metadata": {},
   "outputs": [
    {
     "name": "stdout",
     "output_type": "stream",
     "text": [
      "1\n",
      "2\n",
      "3\n"
     ]
    }
   ],
   "source": [
    "print(np_arr1.ndim)\n",
    "print(matrix.ndim)\n",
    "print(tensor.ndim)"
   ]
  },
  {
   "cell_type": "code",
   "execution_count": 32,
   "id": "5f9baceb",
   "metadata": {},
   "outputs": [
    {
     "name": "stdout",
     "output_type": "stream",
     "text": [
      "3\n",
      "6\n",
      "24\n"
     ]
    }
   ],
   "source": [
    "print(np_arr1.size)\n",
    "print(matrix.size)\n",
    "print(tensor.size)"
   ]
  },
  {
   "cell_type": "markdown",
   "id": "d82c458a",
   "metadata": {},
   "source": [
    "## dtype : 자료형 지정 및 확인"
   ]
  },
  {
   "cell_type": "code",
   "execution_count": 44,
   "id": "46991699",
   "metadata": {},
   "outputs": [
    {
     "data": {
      "text/plain": [
       "dtype('int32')"
      ]
     },
     "execution_count": 44,
     "metadata": {},
     "output_type": "execute_result"
    }
   ],
   "source": [
    "np.array([[1, 2, 3], [4, 5, 6]], dtype = int).dtype"
   ]
  },
  {
   "cell_type": "code",
   "execution_count": 45,
   "id": "264db9dc",
   "metadata": {},
   "outputs": [
    {
     "data": {
      "text/plain": [
       "dtype('int8')"
      ]
     },
     "execution_count": 45,
     "metadata": {},
     "output_type": "execute_result"
    }
   ],
   "source": [
    "np.array([[1, 2, 3], [4, 5, 6]], dtype = np.int8).dtype"
   ]
  },
  {
   "cell_type": "code",
   "execution_count": 46,
   "id": "c61b9a4e",
   "metadata": {},
   "outputs": [
    {
     "data": {
      "text/plain": [
       "dtype('float32')"
      ]
     },
     "execution_count": 46,
     "metadata": {},
     "output_type": "execute_result"
    }
   ],
   "source": [
    "np.array([[1, 2, 3], [4, 5, 6]], dtype = np.float32).dtype"
   ]
  },
  {
   "cell_type": "markdown",
   "id": "2426e2fb",
   "metadata": {},
   "source": [
    "## nbytes : 자료형의 byte수 확인"
   ]
  },
  {
   "cell_type": "code",
   "execution_count": 47,
   "id": "652f6e49",
   "metadata": {},
   "outputs": [
    {
     "data": {
      "text/plain": [
       "24"
      ]
     },
     "execution_count": 47,
     "metadata": {},
     "output_type": "execute_result"
    }
   ],
   "source": [
    "np.array([[1, 2, 3], [4, 5, 6]], dtype = int).nbytes"
   ]
  },
  {
   "cell_type": "code",
   "execution_count": 48,
   "id": "53a67a41",
   "metadata": {},
   "outputs": [
    {
     "data": {
      "text/plain": [
       "6"
      ]
     },
     "execution_count": 48,
     "metadata": {},
     "output_type": "execute_result"
    }
   ],
   "source": [
    "np.array([[1, 2, 3], [4, 5, 6]], dtype = np.int8).nbytes"
   ]
  },
  {
   "cell_type": "code",
   "execution_count": 49,
   "id": "5af8e7bf",
   "metadata": {},
   "outputs": [
    {
     "data": {
      "text/plain": [
       "24"
      ]
     },
     "execution_count": 49,
     "metadata": {},
     "output_type": "execute_result"
    }
   ],
   "source": [
    "np.array([[1, 2, 3], [4, 5, 6]], dtype = np.float32).nbytes"
   ]
  },
  {
   "cell_type": "code",
   "execution_count": 50,
   "id": "d164410f",
   "metadata": {},
   "outputs": [],
   "source": [
    "tensor2 = np.array([[[10, 12, 33], [44, 15, 26]], [[24, 31, 43], [75, 86, 97]], [[10, 22, 13], [45, 125, 46]], [[1, 2, 3], [4, 5, 6]]])"
   ]
  },
  {
   "cell_type": "code",
   "execution_count": 51,
   "id": "216517df",
   "metadata": {},
   "outputs": [
    {
     "name": "stdout",
     "output_type": "stream",
     "text": [
      "[[[ 10  12  33]\n",
      "  [ 44  15  26]]\n",
      "\n",
      " [[ 24  31  43]\n",
      "  [ 75  86  97]]\n",
      "\n",
      " [[ 10  22  13]\n",
      "  [ 45 125  46]]\n",
      "\n",
      " [[  1   2   3]\n",
      "  [  4   5   6]]]\n"
     ]
    }
   ],
   "source": [
    "print(tensor2)"
   ]
  },
  {
   "cell_type": "code",
   "execution_count": 55,
   "id": "fef1008e",
   "metadata": {},
   "outputs": [
    {
     "data": {
      "text/plain": [
       "26"
      ]
     },
     "execution_count": 55,
     "metadata": {},
     "output_type": "execute_result"
    }
   ],
   "source": [
    "tensor2[0,1,2] # 26"
   ]
  },
  {
   "cell_type": "code",
   "execution_count": 58,
   "id": "3f7226e6",
   "metadata": {},
   "outputs": [
    {
     "data": {
      "text/plain": [
       "1"
      ]
     },
     "execution_count": 58,
     "metadata": {},
     "output_type": "execute_result"
    }
   ],
   "source": [
    "tensor2[3, 0, 0] # 1"
   ]
  },
  {
   "cell_type": "code",
   "execution_count": 59,
   "id": "98345767",
   "metadata": {},
   "outputs": [
    {
     "data": {
      "text/plain": [
       "125"
      ]
     },
     "execution_count": 59,
     "metadata": {},
     "output_type": "execute_result"
    }
   ],
   "source": [
    "tensor2[2, 1, 1] # 125"
   ]
  },
  {
   "cell_type": "markdown",
   "id": "8ef8f803",
   "metadata": {},
   "source": [
    "## 배열 인덱싱 (fancy indexing)"
   ]
  },
  {
   "cell_type": "code",
   "execution_count": 64,
   "id": "4787a9ad",
   "metadata": {},
   "outputs": [
    {
     "data": {
      "text/plain": [
       "array([1, 2, 3, 4, 5])"
      ]
     },
     "execution_count": 64,
     "metadata": {},
     "output_type": "execute_result"
    }
   ],
   "source": [
    "# 기본 데이터\n",
    "arr = np.array([1, 2, 3, 4, 5])\n",
    "arr\n"
   ]
  },
  {
   "cell_type": "code",
   "execution_count": 66,
   "id": "c620c24e",
   "metadata": {},
   "outputs": [
    {
     "data": {
      "text/plain": [
       "array([1, 3, 4])"
      ]
     },
     "execution_count": 66,
     "metadata": {},
     "output_type": "execute_result"
    }
   ],
   "source": [
    "## Boolean 배열 방식\n",
    "idx = [True, False, True, True, False]\n",
    "arr[idx]"
   ]
  },
  {
   "cell_type": "code",
   "execution_count": 67,
   "id": "bad0807f",
   "metadata": {},
   "outputs": [
    {
     "data": {
      "text/plain": [
       "array([1, 3, 4])"
      ]
     },
     "execution_count": 67,
     "metadata": {},
     "output_type": "execute_result"
    }
   ],
   "source": [
    "# 정수배열 방식\n",
    "idx = [0, 2, 3]\n",
    "arr[idx]"
   ]
  },
  {
   "cell_type": "code",
   "execution_count": 69,
   "id": "8c7f7e54",
   "metadata": {},
   "outputs": [
    {
     "data": {
      "text/plain": [
       "array([False,  True, False,  True, False])"
      ]
     },
     "execution_count": 69,
     "metadata": {},
     "output_type": "execute_result"
    }
   ],
   "source": [
    "# 연산식 사용-1\n",
    "arr % 2 == 0"
   ]
  },
  {
   "cell_type": "code",
   "execution_count": 70,
   "id": "21305f37",
   "metadata": {},
   "outputs": [
    {
     "data": {
      "text/plain": [
       "array([2, 4])"
      ]
     },
     "execution_count": 70,
     "metadata": {},
     "output_type": "execute_result"
    }
   ],
   "source": [
    "arr[arr % 2 ==0]"
   ]
  },
  {
   "cell_type": "code",
   "execution_count": 71,
   "id": "4d6706a4",
   "metadata": {},
   "outputs": [
    {
     "data": {
      "text/plain": [
       "array([False,  True,  True,  True, False])"
      ]
     },
     "execution_count": 71,
     "metadata": {},
     "output_type": "execute_result"
    }
   ],
   "source": [
    "# 연산식 사용-2\n",
    "(arr % 2 == 0) | (arr == 3)"
   ]
  },
  {
   "cell_type": "code",
   "execution_count": 73,
   "id": "23f552c3",
   "metadata": {},
   "outputs": [
    {
     "data": {
      "text/plain": [
       "array([2, 3, 4])"
      ]
     },
     "execution_count": 73,
     "metadata": {},
     "output_type": "execute_result"
    }
   ],
   "source": [
    "arr[(arr % 2 == 0) | (arr == 3)] # | <=> or 연산자"
   ]
  },
  {
   "cell_type": "markdown",
   "id": "59b32bb4",
   "metadata": {},
   "source": [
    "## 배열 슬라이싱"
   ]
  },
  {
   "cell_type": "code",
   "execution_count": 75,
   "id": "4dc87bb7",
   "metadata": {},
   "outputs": [
    {
     "name": "stdout",
     "output_type": "stream",
     "text": [
      "[[[ 1  2  3]\n",
      "  [ 4  5  6]]\n",
      "\n",
      " [[11 12 13]\n",
      "  [14 15 16]]\n",
      "\n",
      " [[21 22 23]\n",
      "  [24 25 26]]\n",
      "\n",
      " [[31 32 33]\n",
      "  [34 35 36]]]\n"
     ]
    }
   ],
   "source": [
    "tensor2 = np.array([\n",
    "    [[1, 2, 3], [4, 5, 6]],\n",
    "    [[11, 12, 13], [14, 15, 16]],\n",
    "    [[21, 22, 23], [24, 25, 26]],\n",
    "    [[31, 32, 33], [34, 35, 36]]    \n",
    "])\n",
    "print(tensor2)"
   ]
  },
  {
   "cell_type": "code",
   "execution_count": 76,
   "id": "ef7cdfbd",
   "metadata": {},
   "outputs": [
    {
     "data": {
      "text/plain": [
       "array([ 3, 13, 23, 33])"
      ]
     },
     "execution_count": 76,
     "metadata": {},
     "output_type": "execute_result"
    }
   ],
   "source": [
    "tensor2[:, 0, -1]"
   ]
  },
  {
   "cell_type": "code",
   "execution_count": 77,
   "id": "cd41bd42",
   "metadata": {},
   "outputs": [
    {
     "data": {
      "text/plain": [
       "array([[[14, 15]],\n",
       "\n",
       "       [[24, 25]],\n",
       "\n",
       "       [[34, 35]]])"
      ]
     },
     "execution_count": 77,
     "metadata": {},
     "output_type": "execute_result"
    }
   ],
   "source": [
    "tensor2[1:, -1:, :-1]"
   ]
  },
  {
   "cell_type": "code",
   "execution_count": 78,
   "id": "2cc795cc",
   "metadata": {},
   "outputs": [],
   "source": [
    "matrix = np.array([\n",
    "    [0, 1, 2, 3, 4],\n",
    "    [5, 6, 7, 8, 9],\n",
    "    [10, 11, 12, 13, 14]\n",
    "])\n"
   ]
  },
  {
   "cell_type": "code",
   "execution_count": 81,
   "id": "b4d619e2",
   "metadata": {},
   "outputs": [
    {
     "data": {
      "text/plain": [
       "array([6, 7])"
      ]
     },
     "execution_count": 81,
     "metadata": {},
     "output_type": "execute_result"
    }
   ],
   "source": [
    "matrix[1, 1:3]"
   ]
  },
  {
   "cell_type": "code",
   "execution_count": 82,
   "id": "1f2650fa",
   "metadata": {},
   "outputs": [
    {
     "data": {
      "text/plain": [
       "array([ 7, 12])"
      ]
     },
     "execution_count": 82,
     "metadata": {},
     "output_type": "execute_result"
    }
   ],
   "source": [
    "matrix[[1, 2], [2, 2]]"
   ]
  },
  {
   "cell_type": "markdown",
   "id": "d49d87b9",
   "metadata": {},
   "source": [
    "## 배열 생성 함수\n",
    "- reshape : 재정의 # -1 => 행, 열 중 하나만 값을 넣어주면 나머지를 계산\n",
    "- arange : range 함수와 비슷한 기능\n",
    "- random.randn(n) : n 개의 랜덤값을 가지는 배열"
   ]
  },
  {
   "cell_type": "code",
   "execution_count": 86,
   "id": "0226cda1",
   "metadata": {},
   "outputs": [
    {
     "data": {
      "text/plain": [
       "array([0, 2, 4, 6, 8])"
      ]
     },
     "execution_count": 86,
     "metadata": {},
     "output_type": "execute_result"
    }
   ],
   "source": [
    "np.arange(0, 10, 2)"
   ]
  },
  {
   "cell_type": "code",
   "execution_count": 88,
   "id": "2a5f3380",
   "metadata": {},
   "outputs": [
    {
     "data": {
      "text/plain": [
       "array([0. , 0.2, 0.4, 0.6, 0.8, 1. , 1.2, 1.4, 1.6, 1.8])"
      ]
     },
     "execution_count": 88,
     "metadata": {},
     "output_type": "execute_result"
    }
   ],
   "source": [
    "np.arange(0, 2, 0.2)"
   ]
  },
  {
   "cell_type": "code",
   "execution_count": 89,
   "id": "c2bc3efd",
   "metadata": {},
   "outputs": [
    {
     "data": {
      "text/plain": [
       "array([[ 1,  2,  3,  4,  5],\n",
       "       [ 6,  7,  8,  9, 10],\n",
       "       [11, 12, 13, 14, 15],\n",
       "       [16, 17, 18, 19, 20],\n",
       "       [21, 22, 23, 24, 25]])"
      ]
     },
     "execution_count": 89,
     "metadata": {},
     "output_type": "execute_result"
    }
   ],
   "source": [
    "np.arange(1, 26).reshape(5, 5)"
   ]
  },
  {
   "cell_type": "code",
   "execution_count": 91,
   "id": "a5e62f81",
   "metadata": {},
   "outputs": [],
   "source": [
    "tensor3 = np.arange(0, 30).reshape(3, 2, 5)"
   ]
  },
  {
   "cell_type": "code",
   "execution_count": 97,
   "id": "7a9b7617",
   "metadata": {},
   "outputs": [
    {
     "data": {
      "text/plain": [
       "435"
      ]
     },
     "execution_count": 97,
     "metadata": {},
     "output_type": "execute_result"
    }
   ],
   "source": [
    "tensor3.sum()"
   ]
  },
  {
   "cell_type": "code",
   "execution_count": 98,
   "id": "c22c0863",
   "metadata": {},
   "outputs": [
    {
     "data": {
      "text/plain": [
       "array([[[ 0,  1,  2,  3,  4],\n",
       "        [ 5,  6,  7,  8,  9]],\n",
       "\n",
       "       [[10, 11, 12, 13, 14],\n",
       "        [15, 16, 17, 18, 19]],\n",
       "\n",
       "       [[20, 21, 22, 23, 24],\n",
       "        [25, 26, 27, 28, 29]]])"
      ]
     },
     "execution_count": 98,
     "metadata": {},
     "output_type": "execute_result"
    }
   ],
   "source": [
    "tensor3"
   ]
  },
  {
   "cell_type": "code",
   "execution_count": 93,
   "id": "38fb4f33",
   "metadata": {},
   "outputs": [
    {
     "data": {
      "text/plain": [
       "array([[30, 33, 36, 39, 42],\n",
       "       [45, 48, 51, 54, 57]])"
      ]
     },
     "execution_count": 93,
     "metadata": {},
     "output_type": "execute_result"
    }
   ],
   "source": [
    "tensor3.sum(axis = 0) # rank값끼리"
   ]
  },
  {
   "cell_type": "code",
   "execution_count": 94,
   "id": "06132f72",
   "metadata": {},
   "outputs": [
    {
     "data": {
      "text/plain": [
       "array([[ 5,  7,  9, 11, 13],\n",
       "       [25, 27, 29, 31, 33],\n",
       "       [45, 47, 49, 51, 53]])"
      ]
     },
     "execution_count": 94,
     "metadata": {},
     "output_type": "execute_result"
    }
   ],
   "source": [
    "tensor3.sum(axis = 1) # row값끼리"
   ]
  },
  {
   "cell_type": "code",
   "execution_count": 96,
   "id": "1f982466",
   "metadata": {},
   "outputs": [
    {
     "data": {
      "text/plain": [
       "array([[ 10,  35],\n",
       "       [ 60,  85],\n",
       "       [110, 135]])"
      ]
     },
     "execution_count": 96,
     "metadata": {},
     "output_type": "execute_result"
    }
   ],
   "source": [
    "tensor3.sum(axis = 2) # column값끼리"
   ]
  },
  {
   "cell_type": "code",
   "execution_count": null,
   "id": "6fd06527",
   "metadata": {},
   "outputs": [],
   "source": []
  }
 ],
 "metadata": {
  "kernelspec": {
   "display_name": "Python 3",
   "language": "python",
   "name": "python3"
  },
  "language_info": {
   "codemirror_mode": {
    "name": "ipython",
    "version": 3
   },
   "file_extension": ".py",
   "mimetype": "text/x-python",
   "name": "python",
   "nbconvert_exporter": "python",
   "pygments_lexer": "ipython3",
   "version": "3.9.7 (tags/v3.9.7:1016ef3, Aug 30 2021, 20:19:38) [MSC v.1929 64 bit (AMD64)]"
  },
  "vscode": {
   "interpreter": {
    "hash": "fc7a937bfa0f33857e5618b18a4ca181c22ba6f4b9b4026068fc164db4601226"
   }
  }
 },
 "nbformat": 4,
 "nbformat_minor": 5
}
